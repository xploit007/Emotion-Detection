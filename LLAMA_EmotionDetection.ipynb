{
 "cells": [
  {
   "cell_type": "code",
   "execution_count": 1,
   "id": "OarsDbjUV7-Q",
   "metadata": {
    "colab": {
     "base_uri": "https://localhost:8080/"
    },
    "id": "OarsDbjUV7-Q",
    "outputId": "bd3bac19-461e-4684-cdfb-3def520ed4b4"
   },
   "outputs": [
    {
     "name": "stdout",
     "output_type": "stream",
     "text": [
      "2.5.1+cu121\n"
     ]
    }
   ],
   "source": [
    "import torch\n",
    "print(torch.__version__)"
   ]
  },
  {
   "cell_type": "code",
   "execution_count": 2,
   "id": "9QNO0Dyc1v8D",
   "metadata": {
    "colab": {
     "base_uri": "https://localhost:8080/"
    },
    "id": "9QNO0Dyc1v8D",
    "outputId": "7f86344f-48d8-431b-e8ef-d8bd2a9539b5"
   },
   "outputs": [
    {
     "name": "stdout",
     "output_type": "stream",
     "text": [
      "Python 3.10.12\n"
     ]
    }
   ],
   "source": [
    "!python --version"
   ]
  },
  {
   "cell_type": "code",
   "execution_count": 3,
   "id": "0d54de23-80e9-4e1b-816c-6f6916c92836",
   "metadata": {
    "colab": {
     "base_uri": "https://localhost:8080/"
    },
    "execution": {
     "iopub.execute_input": "2022-12-23T23:12:55.528562Z",
     "iopub.status.busy": "2022-12-23T23:12:55.528020Z",
     "iopub.status.idle": "2022-12-23T23:12:55.539182Z",
     "shell.execute_reply": "2022-12-23T23:12:55.538417Z",
     "shell.execute_reply.started": "2022-12-23T23:12:55.528532Z"
    },
    "id": "0d54de23-80e9-4e1b-816c-6f6916c92836",
    "outputId": "9a36175d-400c-4af7-ced1-7e09ec67ebf1",
    "tags": []
   },
   "outputs": [
    {
     "name": "stdout",
     "output_type": "stream",
     "text": [
      "Drive already mounted at /content/drive; to attempt to forcibly remount, call drive.mount(\"/content/drive\", force_remount=True).\n"
     ]
    }
   ],
   "source": [
    "from google.colab import drive\n",
    "# Mount the Google Drive to access files stored there\n",
    "drive.mount('/content/drive')\n",
    "\n",
    "# Install the latest version of torchtext library quietly without showing output\n",
    "# !pip install torchtext -qq\n",
    "!pip install transformers evaluate wandb datasets accelerate -U -qq ## NEW LINES ##\n",
    "basepath = '/content/drive/MyDrive/data/'"
   ]
  },
  {
   "cell_type": "code",
   "execution_count": 4,
   "id": "yC6lJrxYvxeF",
   "metadata": {
    "id": "yC6lJrxYvxeF"
   },
   "outputs": [],
   "source": [
    "# standard data science librraies for data handling and v isualization\n",
    "import matplotlib.pyplot as plt\n",
    "import numpy as np\n",
    "import pandas as pd\n",
    "from sklearn.metrics import confusion_matrix\n",
    "import matplotlib.pyplot as plt\n",
    "import seaborn as sns\n",
    "from pathlib import Path\n",
    "import re\n",
    "import gc\n",
    "import time\n",
    "\n",
    "from sklearn.preprocessing import MultiLabelBinarizer\n",
    "from sklearn.model_selection import train_test_split\n",
    "from sklearn.metrics import multilabel_confusion_matrix, precision_score, recall_score, f1_score\n",
    "import joblib\n",
    "\n",
    "import torch\n",
    "import torch.nn as nn\n",
    "import ast\n",
    "\n",
    "\n",
    "# New libraries introduced in this notebook\n",
    "import evaluate\n",
    "from datasets import load_dataset, DatasetDict, Dataset, ClassLabel\n",
    "from transformers import (\n",
    "    TrainingArguments,\n",
    "    Trainer,\n",
    "    set_seed,\n",
    "    AutoTokenizer,\n",
    "    AutoModelForSequenceClassification,\n",
    "    AutoConfig,\n",
    "    pipeline,\n",
    "    BitsAndBytesConfig,\n",
    ")\n",
    "from peft import (\n",
    "    TaskType,\n",
    "    LoraConfig,\n",
    "    prepare_model_for_kbit_training,\n",
    "    get_peft_model,\n",
    ")\n",
    "\n",
    "import wandb\n",
    "from google.colab import userdata\n",
    "from huggingface_hub import login\n"
   ]
  },
  {
   "cell_type": "code",
   "execution_count": 5,
   "id": "ovr_5earVjoZ",
   "metadata": {
    "id": "ovr_5earVjoZ"
   },
   "outputs": [],
   "source": [
    "set_seed(42)"
   ]
  },
  {
   "cell_type": "code",
   "execution_count": 6,
   "id": "kaMe6rzRyJu1",
   "metadata": {
    "id": "kaMe6rzRyJu1"
   },
   "outputs": [],
   "source": [
    "# Load datasets\n",
    "train_df = pd.read_csv('train.csv')\n",
    "test_df = pd.read_csv('test.csv')"
   ]
  },
  {
   "cell_type": "code",
   "execution_count": 7,
   "id": "AIeZLgI1yQwI",
   "metadata": {
    "id": "AIeZLgI1yQwI"
   },
   "outputs": [],
   "source": [
    "labels = ['anger',\n",
    " 'anticipation',\n",
    " 'disgust',\n",
    " 'fear',\n",
    " 'joy',\n",
    " 'love',\n",
    " 'optimism',\n",
    " 'pessimism',\n",
    " 'sadness',\n",
    " 'surprise',\n",
    " 'trust']"
   ]
  },
  {
   "cell_type": "code",
   "execution_count": 8,
   "id": "gRvJ_sllySwP",
   "metadata": {
    "colab": {
     "base_uri": "https://localhost:8080/",
     "height": 387,
     "referenced_widgets": [
      "b5a521a0cd3841d0aa5a225a63491ec3",
      "0fc20b918ea842f19e873f1d1b356006",
      "e8be91383673444cb08e95720943728a",
      "5759cb8ccdf14c4285f9f30e4f22bea8",
      "c9777dffde6143d0bed4911dcafbda73",
      "29e6cb70e70e4cd7adea8db7258347c3",
      "cb15f8ef1ae84807b04ad4d5099b7cb6",
      "1d5ca62201294ac4a0a39df43fcbf96a",
      "093a9e67c2fc4776a4a533851cbe0cf8",
      "94f9c0b424f045aa9b5da45d39c29a5a",
      "32689241ad554fd8835e694a995b84fe",
      "8320c1f4a9ab4c169c6773ac93822544",
      "c542172dc9b24e52919e2949096cee18",
      "04b130c7c43a40bdbed5dab505d8a46c",
      "7d4560eddf2f41df93aa354abf9cf0fa",
      "eb424257d2c043c38017d01154a298aa",
      "cb890b96f3bc4ac3b6536d1223b75d58"
     ]
    },
    "id": "gRvJ_sllySwP",
    "outputId": "1374ca41-d1c9-451e-9639-9062ce3cda18"
   },
   "outputs": [
    {
     "data": {
      "application/vnd.jupyter.widget-view+json": {
       "model_id": "b5a521a0cd3841d0aa5a225a63491ec3",
       "version_major": 2,
       "version_minor": 0
      },
      "text/plain": [
       "VBox(children=(HTML(value='<center> <img\\nsrc=https://huggingface.co/front/assets/huggingface_logo-noborder.sv…"
      ]
     },
     "metadata": {},
     "output_type": "display_data"
    }
   ],
   "source": [
    "from huggingface_hub import notebook_login\n",
    "notebook_login()"
   ]
  },
  {
   "cell_type": "code",
   "execution_count": null,
   "id": "CXzz4TQdybj5",
   "metadata": {
    "id": "CXzz4TQdybj5"
   },
   "outputs": [],
   "source": [
    "from huggingface_hub import login\n",
    "from google.colab import userdata\n",
    "login(token=\"your token\")"
   ]
  },
  {
   "cell_type": "code",
   "execution_count": 10,
   "id": "4kvSqsTVs0Ze",
   "metadata": {
    "colab": {
     "base_uri": "https://localhost:8080/"
    },
    "id": "4kvSqsTVs0Ze",
    "outputId": "357921f2-1a1c-4395-d187-7604f2ccc634"
   },
   "outputs": [
    {
     "name": "stderr",
     "output_type": "stream",
     "text": [
      "\u001b[34m\u001b[1mwandb\u001b[0m: Using wandb-core as the SDK backend.  Please refer to https://wandb.me/wandb-core for more information.\n",
      "\u001b[34m\u001b[1mwandb\u001b[0m: Currently logged in as: \u001b[33mmxg220123\u001b[0m (\u001b[33mmxg220123-the-university-of-texas-at-dallas\u001b[0m). Use \u001b[1m`wandb login --relogin`\u001b[0m to force relogin\n"
     ]
    },
    {
     "name": "stdout",
     "output_type": "stream",
     "text": [
      "env: WANDB_PROJECT=emotions_kaggle_f2024\n"
     ]
    }
   ],
   "source": [
    "wandb.login()\n",
    "%env WANDB_PROJECT = emotions_kaggle_f2024\n"
   ]
  },
  {
   "cell_type": "code",
   "execution_count": 11,
   "id": "MMk63r7U_G8t",
   "metadata": {
    "id": "MMk63r7U_G8t"
   },
   "outputs": [],
   "source": [
    "# CHANGE FOLDERS TO WHERE YOU WANT TO SAVE DATA AND MODELS\n",
    "base_folder = Path(basepath)\n",
    "data_folder = base_folder / '.'"
   ]
  },
  {
   "cell_type": "code",
   "execution_count": 12,
   "id": "LNR5MZbONLiz",
   "metadata": {
    "id": "LNR5MZbONLiz"
   },
   "outputs": [],
   "source": [
    "label_encoder = MultiLabelBinarizer()"
   ]
  },
  {
   "cell_type": "code",
   "execution_count": 13,
   "id": "hwPQKf5XvM7K",
   "metadata": {
    "id": "hwPQKf5XvM7K"
   },
   "outputs": [],
   "source": [
    "def free_gpu_memory():\n",
    "    \"\"\"\n",
    "    Frees up GPU memory after CUDA out-of-memory error in Colab.\n",
    "\n",
    "    This function performs the following steps:\n",
    "    1. Deletes all PyTorch objects to clear references.\n",
    "    2. Calls garbage collection to remove unreferenced objects from memory.\n",
    "    3. Uses torch.cuda.empty_cache() to release cached GPU memory.\n",
    "    4. Waits for a moment to ensure memory is fully released.\n",
    "    \"\"\"\n",
    "    try:\n",
    "        # Delete all torch tensors to free up memory\n",
    "        for obj in list(locals().values()):\n",
    "            if torch.is_tensor(obj):\n",
    "                del obj\n",
    "\n",
    "        # Collect garbage to release any remaining unused memory\n",
    "        gc.collect()\n",
    "\n",
    "        # Empty the CUDA cache to release GPU memory\n",
    "        torch.cuda.empty_cache()\n",
    "\n",
    "        # Adding a small delay to allow memory to be fully released\n",
    "        time.sleep(2)\n",
    "\n",
    "        print(\"GPU memory has been freed.\")\n",
    "    except Exception as e:\n",
    "        print(f\"Error while freeing GPU memory: {e}\")\n"
   ]
  },
  {
   "cell_type": "code",
   "execution_count": 14,
   "id": "pPGuUj3bZUDU",
   "metadata": {
    "colab": {
     "base_uri": "https://localhost:8080/"
    },
    "id": "pPGuUj3bZUDU",
    "outputId": "2bb3822f-80b9-4eeb-de3b-f20e874ca7d1"
   },
   "outputs": [
    {
     "name": "stdout",
     "output_type": "stream",
     "text": [
      "GPU memory has been freed.\n"
     ]
    }
   ],
   "source": [
    "free_gpu_memory()"
   ]
  },
  {
   "cell_type": "code",
   "execution_count": 15,
   "id": "DrbRGmA2_EaF",
   "metadata": {
    "colab": {
     "base_uri": "https://localhost:8080/",
     "height": 173,
     "referenced_widgets": [
      "23de70299d154f21b9c3b3e497a9bbc4",
      "858ddace32c9463fb9c3c774124ac25e",
      "281f8cb218de4235847d8d2fb275fbef",
      "5616119f8edd498c9951c9b75cda1f78",
      "5ca73a4fe9e944b9a9068bc38d42ada5",
      "77a0013351044da096358f86e111eee4",
      "f849751e40384bd789d0e5bde13f3f3b",
      "54296dbf17234852a1994c7552c1f860",
      "5da787b6809241f8919d2667567f9ca9",
      "79a67106045844e0b912ea7441550251",
      "dc003e38a5bf4e91ae698f7f3ecc97e6"
     ]
    },
    "id": "DrbRGmA2_EaF",
    "outputId": "c7e741c4-2706-44b1-a89b-53d33bd794d9"
   },
   "outputs": [
    {
     "name": "stderr",
     "output_type": "stream",
     "text": [
      "/usr/local/lib/python3.10/dist-packages/huggingface_hub/utils/_auth.py:94: UserWarning: \n",
      "The secret `HF_TOKEN` does not exist in your Colab secrets.\n",
      "To authenticate with the Hugging Face Hub, create a token in your settings tab (https://huggingface.co/settings/tokens), set it as secret in your Google Colab and restart your session.\n",
      "You will be able to reuse this secret in all of your notebooks.\n",
      "Please note that authentication is recommended but still optional to access public models or datasets.\n",
      "  warnings.warn(\n"
     ]
    },
    {
     "data": {
      "application/vnd.jupyter.widget-view+json": {
       "model_id": "23de70299d154f21b9c3b3e497a9bbc4",
       "version_major": 2,
       "version_minor": 0
      },
      "text/plain": [
       "Loading checkpoint shards:   0%|          | 0/2 [00:00<?, ?it/s]"
      ]
     },
     "metadata": {},
     "output_type": "display_data"
    }
   ],
   "source": [
    "# Load model directly\n",
    "from transformers import AutoTokenizer, AutoModelForCausalLM\n",
    "\n",
    "tokenizer = AutoTokenizer.from_pretrained(\"meta-llama/Llama-2-7b-chat-hf\")\n",
    "model = AutoModelForCausalLM.from_pretrained(\"meta-llama/Llama-2-7b-chat-hf\")"
   ]
  },
  {
   "cell_type": "code",
   "execution_count": 16,
   "id": "gZ2Xf36QQizK",
   "metadata": {
    "colab": {
     "base_uri": "https://localhost:8080/",
     "height": 150,
     "referenced_widgets": [
      "f0039e44c2ef43a8b624097762f34a6f",
      "fda7c296332a4070ad02c1e582b23515",
      "efb9d68280204099aee46cfb8cb97271",
      "98c96e10efd74f18a75fbd58a4942585",
      "12a18c95163b4849bbda0545eae8099b",
      "be8c92678fe144e6a1ae4d49ffb05ba6",
      "f627a8f315fa4623802110b89468c095",
      "d023889acf4240d782432390d1ab86cd",
      "736c5ccc58fc4557a10347a6763cac1f",
      "a28bcf52de08409bbadb01216dc5ee2e",
      "9714fbdfa0b0470ebebaa016e8c88fa8",
      "69e7e5cc4116476798fa5a658b44ea42",
      "ea589855f15642dd917bea3f54913f2f",
      "18ab3cf539d54321a0afcb3a2a34eb80",
      "01fb4a5158af4e27b1792571bf028b8b",
      "33c67d537d4b4e4c9eb6a34b279b00de",
      "9b3a46fb2fc2469db31e9ee1a32003e0",
      "697d4ae492b74beb94ab32dc8d436c7c",
      "e494fde572a3475ebe0c84b50ac1b0d3",
      "b6ee406c5c734c15aa0e66e7ca70058e",
      "af44eac6d785455a81516a5dbf085e7b",
      "2ae8f30d572640758d1b305f567a2500"
     ]
    },
    "id": "gZ2Xf36QQizK",
    "outputId": "fa8e1fdd-89f9-4341-dff9-8371f748f4e0"
   },
   "outputs": [
    {
     "data": {
      "application/vnd.jupyter.widget-view+json": {
       "model_id": "f0039e44c2ef43a8b624097762f34a6f",
       "version_major": 2,
       "version_minor": 0
      },
      "text/plain": [
       "Map:   0%|          | 0/7724 [00:00<?, ? examples/s]"
      ]
     },
     "metadata": {},
     "output_type": "display_data"
    },
    {
     "data": {
      "application/vnd.jupyter.widget-view+json": {
       "model_id": "69e7e5cc4116476798fa5a658b44ea42",
       "version_major": 2,
       "version_minor": 0
      },
      "text/plain": [
       "Map:   0%|          | 0/7724 [00:00<?, ? examples/s]"
      ]
     },
     "metadata": {},
     "output_type": "display_data"
    },
    {
     "name": "stdout",
     "output_type": "stream",
     "text": [
      "Dataset({\n",
      "    features: ['ID', 'labels', 'input_ids', 'attention_mask'],\n",
      "    num_rows: 7724\n",
      "})\n"
     ]
    }
   ],
   "source": [
    "# Combine label columns into a single list column\n",
    "train_df['labels'] = train_df[['anger', 'anticipation', 'disgust', 'fear',\n",
    "                               'joy', 'love', 'optimism', 'pessimism',\n",
    "                               'sadness', 'surprise', 'trust']].values.tolist()\n",
    "\n",
    "# Convert to Hugging Face Dataset\n",
    "train_dataset = Dataset.from_pandas(train_df)\n",
    "\n",
    "# Tokenize\n",
    "def tokenize_fn(batch):\n",
    "    return tokenizer(batch[\"Tweet\"], truncation=True, max_length=512)\n",
    "\n",
    "tokenized_dataset = train_dataset.map(tokenize_fn, batched=True)\n",
    "\n",
    "# Convert labels to torch.float\n",
    "def process_labels(batch):\n",
    "    return {\"labels\": torch.tensor(batch[\"labels\"]).to(torch.float)}\n",
    "\n",
    "tokenized_dataset = tokenized_dataset.map(process_labels, batched=True)\n",
    "\n",
    "# Remove unnecessary columns\n",
    "tokenized_dataset = tokenized_dataset.remove_columns(\n",
    "    ['Tweet', 'anger', 'anticipation', 'disgust', 'fear',\n",
    "     'joy', 'love', 'optimism', 'pessimism', 'sadness', 'surprise', 'trust']\n",
    ")\n",
    "\n",
    "# Set the format for PyTorch\n",
    "tokenized_dataset.set_format(type='torch')\n",
    "\n",
    "print(tokenized_dataset)\n"
   ]
  },
  {
   "cell_type": "code",
   "execution_count": 17,
   "id": "Uh43-6J8LWlS",
   "metadata": {
    "id": "Uh43-6J8LWlS"
   },
   "outputs": [],
   "source": [
    "def get_appropriate_dtype():\n",
    "    if torch.cuda.is_available() and torch.cuda.get_device_capability(0) >= (8, 0):\n",
    "        return torch.float32\n",
    "    return torch.float32"
   ]
  },
  {
   "cell_type": "code",
   "execution_count": 18,
   "id": "CBvrKgAeLZJV",
   "metadata": {
    "colab": {
     "base_uri": "https://localhost:8080/"
    },
    "id": "CBvrKgAeLZJV",
    "outputId": "90628651-520e-4ee6-8130-c61d358deb20"
   },
   "outputs": [
    {
     "data": {
      "text/plain": [
       "torch.float32"
      ]
     },
     "execution_count": 18,
     "metadata": {},
     "output_type": "execute_result"
    }
   ],
   "source": [
    "torch_data_type = get_appropriate_dtype()\n",
    "torch_data_type"
   ]
  },
  {
   "cell_type": "code",
   "execution_count": 19,
   "id": "5NkMhrpaze1Y",
   "metadata": {
    "colab": {
     "base_uri": "https://localhost:8080/"
    },
    "id": "5NkMhrpaze1Y",
    "outputId": "1c135f44-f794-4b5a-aa6f-3188e8563196"
   },
   "outputs": [
    {
     "name": "stdout",
     "output_type": "stream",
     "text": [
      "Requirement already satisfied: bitsandbytes in /usr/local/lib/python3.10/dist-packages (0.44.1)\n",
      "Requirement already satisfied: torch in /usr/local/lib/python3.10/dist-packages (from bitsandbytes) (2.5.1+cu121)\n",
      "Requirement already satisfied: numpy in /usr/local/lib/python3.10/dist-packages (from bitsandbytes) (1.26.4)\n",
      "Requirement already satisfied: filelock in /usr/local/lib/python3.10/dist-packages (from torch->bitsandbytes) (3.16.1)\n",
      "Requirement already satisfied: typing-extensions>=4.8.0 in /usr/local/lib/python3.10/dist-packages (from torch->bitsandbytes) (4.12.2)\n",
      "Requirement already satisfied: networkx in /usr/local/lib/python3.10/dist-packages (from torch->bitsandbytes) (3.4.2)\n",
      "Requirement already satisfied: jinja2 in /usr/local/lib/python3.10/dist-packages (from torch->bitsandbytes) (3.1.4)\n",
      "Requirement already satisfied: fsspec in /usr/local/lib/python3.10/dist-packages (from torch->bitsandbytes) (2024.9.0)\n",
      "Requirement already satisfied: sympy==1.13.1 in /usr/local/lib/python3.10/dist-packages (from torch->bitsandbytes) (1.13.1)\n",
      "Requirement already satisfied: mpmath<1.4,>=1.1.0 in /usr/local/lib/python3.10/dist-packages (from sympy==1.13.1->torch->bitsandbytes) (1.3.0)\n",
      "Requirement already satisfied: MarkupSafe>=2.0 in /usr/local/lib/python3.10/dist-packages (from jinja2->torch->bitsandbytes) (3.0.2)\n"
     ]
    }
   ],
   "source": [
    "!pip install --upgrade bitsandbytes\n"
   ]
  },
  {
   "cell_type": "code",
   "execution_count": 20,
   "id": "0whi5q8CLSdP",
   "metadata": {
    "colab": {
     "base_uri": "https://localhost:8080/"
    },
    "id": "0whi5q8CLSdP",
    "outputId": "d998b07f-3236-413a-c0c7-f3647fcba174"
   },
   "outputs": [
    {
     "name": "stdout",
     "output_type": "stream",
     "text": [
      "0.44.1\n"
     ]
    }
   ],
   "source": [
    "import bitsandbytes as bnb\n",
    "print(bnb.__version__)\n"
   ]
  },
  {
   "cell_type": "code",
   "execution_count": 21,
   "id": "HxUi-qGnLk4r",
   "metadata": {
    "colab": {
     "base_uri": "https://localhost:8080/"
    },
    "id": "HxUi-qGnLk4r",
    "outputId": "2470ad81-2af0-4123-dd2c-9ebe93db4bdc"
   },
   "outputs": [
    {
     "name": "stdout",
     "output_type": "stream",
     "text": [
      "True\n",
      "NVIDIA A100-SXM4-40GB\n"
     ]
    }
   ],
   "source": [
    "import torch\n",
    "print(torch.cuda.is_available())  # Should return True\n",
    "print(torch.cuda.get_device_name())  # Check the GPU name\n"
   ]
  },
  {
   "cell_type": "code",
   "execution_count": 22,
   "id": "g46jiz0vLSGk",
   "metadata": {
    "id": "g46jiz0vLSGk"
   },
   "outputs": [],
   "source": [
    "bnb_config = BitsAndBytesConfig(\n",
    "  load_in_4bit=True,\n",
    "  bnb_4bit_quant_type=\"nf4\",\n",
    "  bnb_4bit_use_double_quant=True,\n",
    "  bnb_4bit_compute_dtype=torch_data_type,\n",
    "  bnb_4bit_quant_storage=torch_data_type,\n",
    ")"
   ]
  },
  {
   "cell_type": "code",
   "execution_count": 24,
   "id": "58babf85",
   "metadata": {
    "colab": {
     "base_uri": "https://localhost:8080/",
     "height": 121,
     "referenced_widgets": [
      "4ed687e508d94bc788ea9a8de884cbb8",
      "33846eafc6b04de29c38a41be40d75a4",
      "12afb295adab43509e8c2b0faf6def9b",
      "cd5d5f2d4f4b4eb8b94e118497c6d275",
      "3c3af516c0d94b27864b5235e5c8c637",
      "4ba80fe11b424fbbbb209b7eeb8c1158",
      "f7e90c419ce5415a993f80a9c3dbbf81",
      "0e03f3ee166e469e810a7497f91d778f",
      "33c513b409de4a1183f9cee83fc91692",
      "78a893919aba44ccbafef929a9018601",
      "b84dc2a7d2914d66bd720bebf8b62acb"
     ]
    },
    "id": "58babf85",
    "outputId": "b224cfdb-be2b-4569-956c-f26a0f9c7b9f"
   },
   "outputs": [
    {
     "name": "stderr",
     "output_type": "stream",
     "text": [
      "`low_cpu_mem_usage` was None, now default to True since model is quantized.\n"
     ]
    },
    {
     "data": {
      "application/vnd.jupyter.widget-view+json": {
       "model_id": "4ed687e508d94bc788ea9a8de884cbb8",
       "version_major": 2,
       "version_minor": 0
      },
      "text/plain": [
       "Loading checkpoint shards:   0%|          | 0/2 [00:00<?, ?it/s]"
      ]
     },
     "metadata": {},
     "output_type": "display_data"
    },
    {
     "name": "stderr",
     "output_type": "stream",
     "text": [
      "Some weights of LlamaForSequenceClassification were not initialized from the model checkpoint at meta-llama/Llama-2-7b-chat-hf and are newly initialized: ['score.weight']\n",
      "You should probably TRAIN this model on a down-stream task to be able to use it for predictions and inference.\n"
     ]
    }
   ],
   "source": [
    "# Update model loading with QLoRA\n",
    "checkpoint = \"meta-llama/Llama-2-7b-chat-hf\"\n",
    "model = AutoModelForSequenceClassification.from_pretrained(\n",
    "    checkpoint,\n",
    "    num_labels=11,\n",
    "    problem_type=\"multi_label_classification\",\n",
    "    quantization_config=bnb_config,\n",
    "    torch_dtype=torch_data_type,\n",
    "    trust_remote_code=True,\n",
    ")\n",
    "\n",
    "# Define the class names (labels)\n",
    "class_names = ['anger', 'anticipation', 'disgust', 'fear',\n",
    "               'joy', 'love', 'optimism', 'pessimism',\n",
    "               'sadness', 'surprise', 'trust']\n",
    "\n",
    "# Configure mappings (no change if the label structure is the same)\n",
    "config = AutoConfig.from_pretrained(checkpoint)\n",
    "id2label = {id_: label_ for id_, label_ in enumerate(class_names)}\n",
    "label2id = {label_: id_ for id_, label_ in enumerate(class_names)}\n",
    "config.id2label = id2label\n",
    "config.label2id = label2id\n",
    "model.config = config\n"
   ]
  },
  {
   "cell_type": "code",
   "execution_count": 25,
   "id": "81bfce1a-9e54-4ea1-87cc-e32e9998c38c",
   "metadata": {
    "execution": {
     "iopub.execute_input": "2022-12-23T23:14:22.607176Z",
     "iopub.status.busy": "2022-12-23T23:14:22.606789Z",
     "iopub.status.idle": "2022-12-23T23:14:22.656460Z",
     "shell.execute_reply": "2022-12-23T23:14:22.655931Z",
     "shell.execute_reply.started": "2022-12-23T23:14:22.607147Z"
    },
    "id": "81bfce1a-9e54-4ea1-87cc-e32e9998c38c",
    "tags": []
   },
   "outputs": [],
   "source": [
    "from transformers import AutoConfig\n",
    "\n",
    "# Define the class names (labels)\n",
    "class_names = ['anger', 'anticipation', 'disgust', 'fear',\n",
    "               'joy', 'love', 'optimism', 'pessimism',\n",
    "               'sadness', 'surprise', 'trust']\n",
    "\n",
    "# Load the model configuration\n",
    "config = AutoConfig.from_pretrained(checkpoint)\n",
    "\n",
    "# Create mappings\n",
    "id2label = {id_: label_ for id_, label_ in enumerate(class_names)}\n",
    "label2id = {label_: id_ for id_, label_ in enumerate(class_names)}\n",
    "\n",
    "# Update the configuration\n",
    "config.id2label = id2label\n",
    "config.label2id = label2id\n",
    "\n",
    "# Apply the updated configuration to the model\n",
    "model.config = config\n"
   ]
  },
  {
   "cell_type": "code",
   "execution_count": 26,
   "id": "DTgloiC4pps7",
   "metadata": {
    "colab": {
     "base_uri": "https://localhost:8080/"
    },
    "id": "DTgloiC4pps7",
    "outputId": "6d00cbca-a08d-459a-b6e0-5ff1640d4c46"
   },
   "outputs": [
    {
     "data": {
      "text/plain": [
       "LlamaForSequenceClassification(\n",
       "  (model): LlamaModel(\n",
       "    (embed_tokens): Embedding(32000, 4096)\n",
       "    (layers): ModuleList(\n",
       "      (0-31): 32 x LlamaDecoderLayer(\n",
       "        (self_attn): LlamaSdpaAttention(\n",
       "          (q_proj): Linear4bit(in_features=4096, out_features=4096, bias=False)\n",
       "          (k_proj): Linear4bit(in_features=4096, out_features=4096, bias=False)\n",
       "          (v_proj): Linear4bit(in_features=4096, out_features=4096, bias=False)\n",
       "          (o_proj): Linear4bit(in_features=4096, out_features=4096, bias=False)\n",
       "          (rotary_emb): LlamaRotaryEmbedding()\n",
       "        )\n",
       "        (mlp): LlamaMLP(\n",
       "          (gate_proj): Linear4bit(in_features=4096, out_features=11008, bias=False)\n",
       "          (up_proj): Linear4bit(in_features=4096, out_features=11008, bias=False)\n",
       "          (down_proj): Linear4bit(in_features=11008, out_features=4096, bias=False)\n",
       "          (act_fn): SiLU()\n",
       "        )\n",
       "        (input_layernorm): LlamaRMSNorm((4096,), eps=1e-05)\n",
       "        (post_attention_layernorm): LlamaRMSNorm((4096,), eps=1e-05)\n",
       "      )\n",
       "    )\n",
       "    (norm): LlamaRMSNorm((4096,), eps=1e-05)\n",
       "    (rotary_emb): LlamaRotaryEmbedding()\n",
       "  )\n",
       "  (score): Linear(in_features=4096, out_features=11, bias=False)\n",
       ")"
      ]
     },
     "execution_count": 26,
     "metadata": {},
     "output_type": "execute_result"
    }
   ],
   "source": [
    "model"
   ]
  },
  {
   "cell_type": "code",
   "execution_count": 27,
   "id": "yIFhbC3wpLw6",
   "metadata": {
    "id": "yIFhbC3wpLw6"
   },
   "outputs": [],
   "source": [
    "def find_linear_layers(model):\n",
    "    \"\"\"\n",
    "    Extracts the unique names of Linear layers from a model.\n",
    "\n",
    "    Args:\n",
    "    model (nn.Module): The model from which to extract Linear layer names.\n",
    "\n",
    "    Returns:\n",
    "    list: A list of unique names of Linear layers.\n",
    "    \"\"\"\n",
    "    # Convert the model's modules to string\n",
    "    model_modules = str(model.modules)\n",
    "    # Pattern to extract names of Linear layers\n",
    "    pattern = r'\\((\\w+)\\): Linear'\n",
    "    # Find all occurrences of the pattern\n",
    "    linear_layer_names = re.findall(pattern, model_modules)\n",
    "    print(linear_layer_names)\n",
    "    # Get unique names using a set, then convert back to list\n",
    "    target_modules = list(set(linear_layer_names))\n",
    "    return target_modules"
   ]
  },
  {
   "cell_type": "code",
   "execution_count": 28,
   "id": "WOiU0qHIpaL-",
   "metadata": {
    "colab": {
     "base_uri": "https://localhost:8080/"
    },
    "id": "WOiU0qHIpaL-",
    "outputId": "985f00c2-0c54-4e8b-fe87-1b80af0ff662"
   },
   "outputs": [
    {
     "name": "stdout",
     "output_type": "stream",
     "text": [
      "['q_proj', 'k_proj', 'v_proj', 'o_proj', 'gate_proj', 'up_proj', 'down_proj', 'score']\n"
     ]
    },
    {
     "data": {
      "text/plain": [
       "['q_proj',\n",
       " 'k_proj',\n",
       " 'gate_proj',\n",
       " 'v_proj',\n",
       " 'o_proj',\n",
       " 'up_proj',\n",
       " 'score',\n",
       " 'down_proj']"
      ]
     },
     "execution_count": 28,
     "metadata": {},
     "output_type": "execute_result"
    }
   ],
   "source": [
    "find_linear_layers(model)"
   ]
  },
  {
   "cell_type": "code",
   "execution_count": 29,
   "id": "PF49fLAjphS-",
   "metadata": {
    "colab": {
     "base_uri": "https://localhost:8080/"
    },
    "id": "PF49fLAjphS-",
    "outputId": "b1ca2b0c-0b69-441b-f2b6-a5645b529ce7"
   },
   "outputs": [
    {
     "name": "stdout",
     "output_type": "stream",
     "text": [
      "trainable params: 319,860,736 || all params: 6,927,249,408 || trainable%: 4.6174\n"
     ]
    }
   ],
   "source": [
    "peft_config = LoraConfig(\n",
    "    task_type=TaskType.SEQ_CLS,\n",
    "    r=128,\n",
    "    lora_alpha=256,\n",
    "    lora_dropout=0.01,\n",
    "    bias=\"all\",\n",
    "    target_modules = ['v_proj',  'q_proj',  'up_proj', 'o_proj', 'down_proj', 'gate_proj','k_proj'])\n",
    "\n",
    "lora_model = get_peft_model(model, peft_config )\n",
    "# qlora_model.resize_token_embeddings(len(tokenizer))\n",
    "lora_model.print_trainable_parameters()"
   ]
  },
  {
   "cell_type": "code",
   "execution_count": 30,
   "id": "cPyCPsYpqGk1",
   "metadata": {
    "colab": {
     "base_uri": "https://localhost:8080/"
    },
    "id": "cPyCPsYpqGk1",
    "outputId": "d2d91e0f-d033-4b44-a1c8-c542eb8a97eb"
   },
   "outputs": [
    {
     "data": {
      "text/plain": [
       "PeftModelForSequenceClassification(\n",
       "  (base_model): LoraModel(\n",
       "    (model): LlamaForSequenceClassification(\n",
       "      (model): LlamaModel(\n",
       "        (embed_tokens): Embedding(32000, 4096)\n",
       "        (layers): ModuleList(\n",
       "          (0-31): 32 x LlamaDecoderLayer(\n",
       "            (self_attn): LlamaSdpaAttention(\n",
       "              (q_proj): lora.Linear4bit(\n",
       "                (base_layer): Linear4bit(in_features=4096, out_features=4096, bias=False)\n",
       "                (lora_dropout): ModuleDict(\n",
       "                  (default): Dropout(p=0.01, inplace=False)\n",
       "                )\n",
       "                (lora_A): ModuleDict(\n",
       "                  (default): Linear(in_features=4096, out_features=128, bias=False)\n",
       "                )\n",
       "                (lora_B): ModuleDict(\n",
       "                  (default): Linear(in_features=128, out_features=4096, bias=False)\n",
       "                )\n",
       "                (lora_embedding_A): ParameterDict()\n",
       "                (lora_embedding_B): ParameterDict()\n",
       "                (lora_magnitude_vector): ModuleDict()\n",
       "              )\n",
       "              (k_proj): lora.Linear4bit(\n",
       "                (base_layer): Linear4bit(in_features=4096, out_features=4096, bias=False)\n",
       "                (lora_dropout): ModuleDict(\n",
       "                  (default): Dropout(p=0.01, inplace=False)\n",
       "                )\n",
       "                (lora_A): ModuleDict(\n",
       "                  (default): Linear(in_features=4096, out_features=128, bias=False)\n",
       "                )\n",
       "                (lora_B): ModuleDict(\n",
       "                  (default): Linear(in_features=128, out_features=4096, bias=False)\n",
       "                )\n",
       "                (lora_embedding_A): ParameterDict()\n",
       "                (lora_embedding_B): ParameterDict()\n",
       "                (lora_magnitude_vector): ModuleDict()\n",
       "              )\n",
       "              (v_proj): lora.Linear4bit(\n",
       "                (base_layer): Linear4bit(in_features=4096, out_features=4096, bias=False)\n",
       "                (lora_dropout): ModuleDict(\n",
       "                  (default): Dropout(p=0.01, inplace=False)\n",
       "                )\n",
       "                (lora_A): ModuleDict(\n",
       "                  (default): Linear(in_features=4096, out_features=128, bias=False)\n",
       "                )\n",
       "                (lora_B): ModuleDict(\n",
       "                  (default): Linear(in_features=128, out_features=4096, bias=False)\n",
       "                )\n",
       "                (lora_embedding_A): ParameterDict()\n",
       "                (lora_embedding_B): ParameterDict()\n",
       "                (lora_magnitude_vector): ModuleDict()\n",
       "              )\n",
       "              (o_proj): lora.Linear4bit(\n",
       "                (base_layer): Linear4bit(in_features=4096, out_features=4096, bias=False)\n",
       "                (lora_dropout): ModuleDict(\n",
       "                  (default): Dropout(p=0.01, inplace=False)\n",
       "                )\n",
       "                (lora_A): ModuleDict(\n",
       "                  (default): Linear(in_features=4096, out_features=128, bias=False)\n",
       "                )\n",
       "                (lora_B): ModuleDict(\n",
       "                  (default): Linear(in_features=128, out_features=4096, bias=False)\n",
       "                )\n",
       "                (lora_embedding_A): ParameterDict()\n",
       "                (lora_embedding_B): ParameterDict()\n",
       "                (lora_magnitude_vector): ModuleDict()\n",
       "              )\n",
       "              (rotary_emb): LlamaRotaryEmbedding()\n",
       "            )\n",
       "            (mlp): LlamaMLP(\n",
       "              (gate_proj): lora.Linear4bit(\n",
       "                (base_layer): Linear4bit(in_features=4096, out_features=11008, bias=False)\n",
       "                (lora_dropout): ModuleDict(\n",
       "                  (default): Dropout(p=0.01, inplace=False)\n",
       "                )\n",
       "                (lora_A): ModuleDict(\n",
       "                  (default): Linear(in_features=4096, out_features=128, bias=False)\n",
       "                )\n",
       "                (lora_B): ModuleDict(\n",
       "                  (default): Linear(in_features=128, out_features=11008, bias=False)\n",
       "                )\n",
       "                (lora_embedding_A): ParameterDict()\n",
       "                (lora_embedding_B): ParameterDict()\n",
       "                (lora_magnitude_vector): ModuleDict()\n",
       "              )\n",
       "              (up_proj): lora.Linear4bit(\n",
       "                (base_layer): Linear4bit(in_features=4096, out_features=11008, bias=False)\n",
       "                (lora_dropout): ModuleDict(\n",
       "                  (default): Dropout(p=0.01, inplace=False)\n",
       "                )\n",
       "                (lora_A): ModuleDict(\n",
       "                  (default): Linear(in_features=4096, out_features=128, bias=False)\n",
       "                )\n",
       "                (lora_B): ModuleDict(\n",
       "                  (default): Linear(in_features=128, out_features=11008, bias=False)\n",
       "                )\n",
       "                (lora_embedding_A): ParameterDict()\n",
       "                (lora_embedding_B): ParameterDict()\n",
       "                (lora_magnitude_vector): ModuleDict()\n",
       "              )\n",
       "              (down_proj): lora.Linear4bit(\n",
       "                (base_layer): Linear4bit(in_features=11008, out_features=4096, bias=False)\n",
       "                (lora_dropout): ModuleDict(\n",
       "                  (default): Dropout(p=0.01, inplace=False)\n",
       "                )\n",
       "                (lora_A): ModuleDict(\n",
       "                  (default): Linear(in_features=11008, out_features=128, bias=False)\n",
       "                )\n",
       "                (lora_B): ModuleDict(\n",
       "                  (default): Linear(in_features=128, out_features=4096, bias=False)\n",
       "                )\n",
       "                (lora_embedding_A): ParameterDict()\n",
       "                (lora_embedding_B): ParameterDict()\n",
       "                (lora_magnitude_vector): ModuleDict()\n",
       "              )\n",
       "              (act_fn): SiLU()\n",
       "            )\n",
       "            (input_layernorm): LlamaRMSNorm((4096,), eps=1e-05)\n",
       "            (post_attention_layernorm): LlamaRMSNorm((4096,), eps=1e-05)\n",
       "          )\n",
       "        )\n",
       "        (norm): LlamaRMSNorm((4096,), eps=1e-05)\n",
       "        (rotary_emb): LlamaRotaryEmbedding()\n",
       "      )\n",
       "      (score): ModulesToSaveWrapper(\n",
       "        (original_module): Linear(in_features=4096, out_features=11, bias=False)\n",
       "        (modules_to_save): ModuleDict(\n",
       "          (default): Linear(in_features=4096, out_features=11, bias=False)\n",
       "        )\n",
       "      )\n",
       "    )\n",
       "  )\n",
       ")"
      ]
     },
     "execution_count": 30,
     "metadata": {},
     "output_type": "execute_result"
    }
   ],
   "source": [
    "lora_model"
   ]
  },
  {
   "cell_type": "code",
   "execution_count": 31,
   "id": "j5dAYIz_19sX",
   "metadata": {
    "colab": {
     "base_uri": "https://localhost:8080/"
    },
    "id": "j5dAYIz_19sX",
    "outputId": "5637675c-be15-41c9-c7d0-8af04f050e5b"
   },
   "outputs": [
    {
     "name": "stdout",
     "output_type": "stream",
     "text": [
      "base_model.model.model.embed_tokens.weight: False\n",
      "base_model.model.model.layers.0.self_attn.q_proj.base_layer.weight: False\n",
      "base_model.model.model.layers.0.self_attn.q_proj.lora_A.default.weight: True\n",
      "base_model.model.model.layers.0.self_attn.q_proj.lora_B.default.weight: True\n",
      "base_model.model.model.layers.0.self_attn.k_proj.base_layer.weight: False\n",
      "base_model.model.model.layers.0.self_attn.k_proj.lora_A.default.weight: True\n",
      "base_model.model.model.layers.0.self_attn.k_proj.lora_B.default.weight: True\n",
      "base_model.model.model.layers.0.self_attn.v_proj.base_layer.weight: False\n",
      "base_model.model.model.layers.0.self_attn.v_proj.lora_A.default.weight: True\n",
      "base_model.model.model.layers.0.self_attn.v_proj.lora_B.default.weight: True\n",
      "base_model.model.model.layers.0.self_attn.o_proj.base_layer.weight: False\n",
      "base_model.model.model.layers.0.self_attn.o_proj.lora_A.default.weight: True\n",
      "base_model.model.model.layers.0.self_attn.o_proj.lora_B.default.weight: True\n",
      "base_model.model.model.layers.0.mlp.gate_proj.base_layer.weight: False\n",
      "base_model.model.model.layers.0.mlp.gate_proj.lora_A.default.weight: True\n",
      "base_model.model.model.layers.0.mlp.gate_proj.lora_B.default.weight: True\n",
      "base_model.model.model.layers.0.mlp.up_proj.base_layer.weight: False\n",
      "base_model.model.model.layers.0.mlp.up_proj.lora_A.default.weight: True\n",
      "base_model.model.model.layers.0.mlp.up_proj.lora_B.default.weight: True\n",
      "base_model.model.model.layers.0.mlp.down_proj.base_layer.weight: False\n",
      "base_model.model.model.layers.0.mlp.down_proj.lora_A.default.weight: True\n",
      "base_model.model.model.layers.0.mlp.down_proj.lora_B.default.weight: True\n",
      "base_model.model.model.layers.0.input_layernorm.weight: False\n",
      "base_model.model.model.layers.0.post_attention_layernorm.weight: False\n",
      "base_model.model.model.layers.1.self_attn.q_proj.base_layer.weight: False\n",
      "base_model.model.model.layers.1.self_attn.q_proj.lora_A.default.weight: True\n",
      "base_model.model.model.layers.1.self_attn.q_proj.lora_B.default.weight: True\n",
      "base_model.model.model.layers.1.self_attn.k_proj.base_layer.weight: False\n",
      "base_model.model.model.layers.1.self_attn.k_proj.lora_A.default.weight: True\n",
      "base_model.model.model.layers.1.self_attn.k_proj.lora_B.default.weight: True\n",
      "base_model.model.model.layers.1.self_attn.v_proj.base_layer.weight: False\n",
      "base_model.model.model.layers.1.self_attn.v_proj.lora_A.default.weight: True\n",
      "base_model.model.model.layers.1.self_attn.v_proj.lora_B.default.weight: True\n",
      "base_model.model.model.layers.1.self_attn.o_proj.base_layer.weight: False\n",
      "base_model.model.model.layers.1.self_attn.o_proj.lora_A.default.weight: True\n",
      "base_model.model.model.layers.1.self_attn.o_proj.lora_B.default.weight: True\n",
      "base_model.model.model.layers.1.mlp.gate_proj.base_layer.weight: False\n",
      "base_model.model.model.layers.1.mlp.gate_proj.lora_A.default.weight: True\n",
      "base_model.model.model.layers.1.mlp.gate_proj.lora_B.default.weight: True\n",
      "base_model.model.model.layers.1.mlp.up_proj.base_layer.weight: False\n",
      "base_model.model.model.layers.1.mlp.up_proj.lora_A.default.weight: True\n",
      "base_model.model.model.layers.1.mlp.up_proj.lora_B.default.weight: True\n",
      "base_model.model.model.layers.1.mlp.down_proj.base_layer.weight: False\n",
      "base_model.model.model.layers.1.mlp.down_proj.lora_A.default.weight: True\n",
      "base_model.model.model.layers.1.mlp.down_proj.lora_B.default.weight: True\n",
      "base_model.model.model.layers.1.input_layernorm.weight: False\n",
      "base_model.model.model.layers.1.post_attention_layernorm.weight: False\n",
      "base_model.model.model.layers.2.self_attn.q_proj.base_layer.weight: False\n",
      "base_model.model.model.layers.2.self_attn.q_proj.lora_A.default.weight: True\n",
      "base_model.model.model.layers.2.self_attn.q_proj.lora_B.default.weight: True\n",
      "base_model.model.model.layers.2.self_attn.k_proj.base_layer.weight: False\n",
      "base_model.model.model.layers.2.self_attn.k_proj.lora_A.default.weight: True\n",
      "base_model.model.model.layers.2.self_attn.k_proj.lora_B.default.weight: True\n",
      "base_model.model.model.layers.2.self_attn.v_proj.base_layer.weight: False\n",
      "base_model.model.model.layers.2.self_attn.v_proj.lora_A.default.weight: True\n",
      "base_model.model.model.layers.2.self_attn.v_proj.lora_B.default.weight: True\n",
      "base_model.model.model.layers.2.self_attn.o_proj.base_layer.weight: False\n",
      "base_model.model.model.layers.2.self_attn.o_proj.lora_A.default.weight: True\n",
      "base_model.model.model.layers.2.self_attn.o_proj.lora_B.default.weight: True\n",
      "base_model.model.model.layers.2.mlp.gate_proj.base_layer.weight: False\n",
      "base_model.model.model.layers.2.mlp.gate_proj.lora_A.default.weight: True\n",
      "base_model.model.model.layers.2.mlp.gate_proj.lora_B.default.weight: True\n",
      "base_model.model.model.layers.2.mlp.up_proj.base_layer.weight: False\n",
      "base_model.model.model.layers.2.mlp.up_proj.lora_A.default.weight: True\n",
      "base_model.model.model.layers.2.mlp.up_proj.lora_B.default.weight: True\n",
      "base_model.model.model.layers.2.mlp.down_proj.base_layer.weight: False\n",
      "base_model.model.model.layers.2.mlp.down_proj.lora_A.default.weight: True\n",
      "base_model.model.model.layers.2.mlp.down_proj.lora_B.default.weight: True\n",
      "base_model.model.model.layers.2.input_layernorm.weight: False\n",
      "base_model.model.model.layers.2.post_attention_layernorm.weight: False\n",
      "base_model.model.model.layers.3.self_attn.q_proj.base_layer.weight: False\n",
      "base_model.model.model.layers.3.self_attn.q_proj.lora_A.default.weight: True\n",
      "base_model.model.model.layers.3.self_attn.q_proj.lora_B.default.weight: True\n",
      "base_model.model.model.layers.3.self_attn.k_proj.base_layer.weight: False\n",
      "base_model.model.model.layers.3.self_attn.k_proj.lora_A.default.weight: True\n",
      "base_model.model.model.layers.3.self_attn.k_proj.lora_B.default.weight: True\n",
      "base_model.model.model.layers.3.self_attn.v_proj.base_layer.weight: False\n",
      "base_model.model.model.layers.3.self_attn.v_proj.lora_A.default.weight: True\n",
      "base_model.model.model.layers.3.self_attn.v_proj.lora_B.default.weight: True\n",
      "base_model.model.model.layers.3.self_attn.o_proj.base_layer.weight: False\n",
      "base_model.model.model.layers.3.self_attn.o_proj.lora_A.default.weight: True\n",
      "base_model.model.model.layers.3.self_attn.o_proj.lora_B.default.weight: True\n",
      "base_model.model.model.layers.3.mlp.gate_proj.base_layer.weight: False\n",
      "base_model.model.model.layers.3.mlp.gate_proj.lora_A.default.weight: True\n",
      "base_model.model.model.layers.3.mlp.gate_proj.lora_B.default.weight: True\n",
      "base_model.model.model.layers.3.mlp.up_proj.base_layer.weight: False\n",
      "base_model.model.model.layers.3.mlp.up_proj.lora_A.default.weight: True\n",
      "base_model.model.model.layers.3.mlp.up_proj.lora_B.default.weight: True\n",
      "base_model.model.model.layers.3.mlp.down_proj.base_layer.weight: False\n",
      "base_model.model.model.layers.3.mlp.down_proj.lora_A.default.weight: True\n",
      "base_model.model.model.layers.3.mlp.down_proj.lora_B.default.weight: True\n",
      "base_model.model.model.layers.3.input_layernorm.weight: False\n",
      "base_model.model.model.layers.3.post_attention_layernorm.weight: False\n",
      "base_model.model.model.layers.4.self_attn.q_proj.base_layer.weight: False\n",
      "base_model.model.model.layers.4.self_attn.q_proj.lora_A.default.weight: True\n",
      "base_model.model.model.layers.4.self_attn.q_proj.lora_B.default.weight: True\n",
      "base_model.model.model.layers.4.self_attn.k_proj.base_layer.weight: False\n",
      "base_model.model.model.layers.4.self_attn.k_proj.lora_A.default.weight: True\n",
      "base_model.model.model.layers.4.self_attn.k_proj.lora_B.default.weight: True\n",
      "base_model.model.model.layers.4.self_attn.v_proj.base_layer.weight: False\n",
      "base_model.model.model.layers.4.self_attn.v_proj.lora_A.default.weight: True\n",
      "base_model.model.model.layers.4.self_attn.v_proj.lora_B.default.weight: True\n",
      "base_model.model.model.layers.4.self_attn.o_proj.base_layer.weight: False\n",
      "base_model.model.model.layers.4.self_attn.o_proj.lora_A.default.weight: True\n",
      "base_model.model.model.layers.4.self_attn.o_proj.lora_B.default.weight: True\n",
      "base_model.model.model.layers.4.mlp.gate_proj.base_layer.weight: False\n",
      "base_model.model.model.layers.4.mlp.gate_proj.lora_A.default.weight: True\n",
      "base_model.model.model.layers.4.mlp.gate_proj.lora_B.default.weight: True\n",
      "base_model.model.model.layers.4.mlp.up_proj.base_layer.weight: False\n",
      "base_model.model.model.layers.4.mlp.up_proj.lora_A.default.weight: True\n",
      "base_model.model.model.layers.4.mlp.up_proj.lora_B.default.weight: True\n",
      "base_model.model.model.layers.4.mlp.down_proj.base_layer.weight: False\n",
      "base_model.model.model.layers.4.mlp.down_proj.lora_A.default.weight: True\n",
      "base_model.model.model.layers.4.mlp.down_proj.lora_B.default.weight: True\n",
      "base_model.model.model.layers.4.input_layernorm.weight: False\n",
      "base_model.model.model.layers.4.post_attention_layernorm.weight: False\n",
      "base_model.model.model.layers.5.self_attn.q_proj.base_layer.weight: False\n",
      "base_model.model.model.layers.5.self_attn.q_proj.lora_A.default.weight: True\n",
      "base_model.model.model.layers.5.self_attn.q_proj.lora_B.default.weight: True\n",
      "base_model.model.model.layers.5.self_attn.k_proj.base_layer.weight: False\n",
      "base_model.model.model.layers.5.self_attn.k_proj.lora_A.default.weight: True\n",
      "base_model.model.model.layers.5.self_attn.k_proj.lora_B.default.weight: True\n",
      "base_model.model.model.layers.5.self_attn.v_proj.base_layer.weight: False\n",
      "base_model.model.model.layers.5.self_attn.v_proj.lora_A.default.weight: True\n",
      "base_model.model.model.layers.5.self_attn.v_proj.lora_B.default.weight: True\n",
      "base_model.model.model.layers.5.self_attn.o_proj.base_layer.weight: False\n",
      "base_model.model.model.layers.5.self_attn.o_proj.lora_A.default.weight: True\n",
      "base_model.model.model.layers.5.self_attn.o_proj.lora_B.default.weight: True\n",
      "base_model.model.model.layers.5.mlp.gate_proj.base_layer.weight: False\n",
      "base_model.model.model.layers.5.mlp.gate_proj.lora_A.default.weight: True\n",
      "base_model.model.model.layers.5.mlp.gate_proj.lora_B.default.weight: True\n",
      "base_model.model.model.layers.5.mlp.up_proj.base_layer.weight: False\n",
      "base_model.model.model.layers.5.mlp.up_proj.lora_A.default.weight: True\n",
      "base_model.model.model.layers.5.mlp.up_proj.lora_B.default.weight: True\n",
      "base_model.model.model.layers.5.mlp.down_proj.base_layer.weight: False\n",
      "base_model.model.model.layers.5.mlp.down_proj.lora_A.default.weight: True\n",
      "base_model.model.model.layers.5.mlp.down_proj.lora_B.default.weight: True\n",
      "base_model.model.model.layers.5.input_layernorm.weight: False\n",
      "base_model.model.model.layers.5.post_attention_layernorm.weight: False\n",
      "base_model.model.model.layers.6.self_attn.q_proj.base_layer.weight: False\n",
      "base_model.model.model.layers.6.self_attn.q_proj.lora_A.default.weight: True\n",
      "base_model.model.model.layers.6.self_attn.q_proj.lora_B.default.weight: True\n",
      "base_model.model.model.layers.6.self_attn.k_proj.base_layer.weight: False\n",
      "base_model.model.model.layers.6.self_attn.k_proj.lora_A.default.weight: True\n",
      "base_model.model.model.layers.6.self_attn.k_proj.lora_B.default.weight: True\n",
      "base_model.model.model.layers.6.self_attn.v_proj.base_layer.weight: False\n",
      "base_model.model.model.layers.6.self_attn.v_proj.lora_A.default.weight: True\n",
      "base_model.model.model.layers.6.self_attn.v_proj.lora_B.default.weight: True\n",
      "base_model.model.model.layers.6.self_attn.o_proj.base_layer.weight: False\n",
      "base_model.model.model.layers.6.self_attn.o_proj.lora_A.default.weight: True\n",
      "base_model.model.model.layers.6.self_attn.o_proj.lora_B.default.weight: True\n",
      "base_model.model.model.layers.6.mlp.gate_proj.base_layer.weight: False\n",
      "base_model.model.model.layers.6.mlp.gate_proj.lora_A.default.weight: True\n",
      "base_model.model.model.layers.6.mlp.gate_proj.lora_B.default.weight: True\n",
      "base_model.model.model.layers.6.mlp.up_proj.base_layer.weight: False\n",
      "base_model.model.model.layers.6.mlp.up_proj.lora_A.default.weight: True\n",
      "base_model.model.model.layers.6.mlp.up_proj.lora_B.default.weight: True\n",
      "base_model.model.model.layers.6.mlp.down_proj.base_layer.weight: False\n",
      "base_model.model.model.layers.6.mlp.down_proj.lora_A.default.weight: True\n",
      "base_model.model.model.layers.6.mlp.down_proj.lora_B.default.weight: True\n",
      "base_model.model.model.layers.6.input_layernorm.weight: False\n",
      "base_model.model.model.layers.6.post_attention_layernorm.weight: False\n",
      "base_model.model.model.layers.7.self_attn.q_proj.base_layer.weight: False\n",
      "base_model.model.model.layers.7.self_attn.q_proj.lora_A.default.weight: True\n",
      "base_model.model.model.layers.7.self_attn.q_proj.lora_B.default.weight: True\n",
      "base_model.model.model.layers.7.self_attn.k_proj.base_layer.weight: False\n",
      "base_model.model.model.layers.7.self_attn.k_proj.lora_A.default.weight: True\n",
      "base_model.model.model.layers.7.self_attn.k_proj.lora_B.default.weight: True\n",
      "base_model.model.model.layers.7.self_attn.v_proj.base_layer.weight: False\n",
      "base_model.model.model.layers.7.self_attn.v_proj.lora_A.default.weight: True\n",
      "base_model.model.model.layers.7.self_attn.v_proj.lora_B.default.weight: True\n",
      "base_model.model.model.layers.7.self_attn.o_proj.base_layer.weight: False\n",
      "base_model.model.model.layers.7.self_attn.o_proj.lora_A.default.weight: True\n",
      "base_model.model.model.layers.7.self_attn.o_proj.lora_B.default.weight: True\n",
      "base_model.model.model.layers.7.mlp.gate_proj.base_layer.weight: False\n",
      "base_model.model.model.layers.7.mlp.gate_proj.lora_A.default.weight: True\n",
      "base_model.model.model.layers.7.mlp.gate_proj.lora_B.default.weight: True\n",
      "base_model.model.model.layers.7.mlp.up_proj.base_layer.weight: False\n",
      "base_model.model.model.layers.7.mlp.up_proj.lora_A.default.weight: True\n",
      "base_model.model.model.layers.7.mlp.up_proj.lora_B.default.weight: True\n",
      "base_model.model.model.layers.7.mlp.down_proj.base_layer.weight: False\n",
      "base_model.model.model.layers.7.mlp.down_proj.lora_A.default.weight: True\n",
      "base_model.model.model.layers.7.mlp.down_proj.lora_B.default.weight: True\n",
      "base_model.model.model.layers.7.input_layernorm.weight: False\n",
      "base_model.model.model.layers.7.post_attention_layernorm.weight: False\n",
      "base_model.model.model.layers.8.self_attn.q_proj.base_layer.weight: False\n",
      "base_model.model.model.layers.8.self_attn.q_proj.lora_A.default.weight: True\n",
      "base_model.model.model.layers.8.self_attn.q_proj.lora_B.default.weight: True\n",
      "base_model.model.model.layers.8.self_attn.k_proj.base_layer.weight: False\n",
      "base_model.model.model.layers.8.self_attn.k_proj.lora_A.default.weight: True\n",
      "base_model.model.model.layers.8.self_attn.k_proj.lora_B.default.weight: True\n",
      "base_model.model.model.layers.8.self_attn.v_proj.base_layer.weight: False\n",
      "base_model.model.model.layers.8.self_attn.v_proj.lora_A.default.weight: True\n",
      "base_model.model.model.layers.8.self_attn.v_proj.lora_B.default.weight: True\n",
      "base_model.model.model.layers.8.self_attn.o_proj.base_layer.weight: False\n",
      "base_model.model.model.layers.8.self_attn.o_proj.lora_A.default.weight: True\n",
      "base_model.model.model.layers.8.self_attn.o_proj.lora_B.default.weight: True\n",
      "base_model.model.model.layers.8.mlp.gate_proj.base_layer.weight: False\n",
      "base_model.model.model.layers.8.mlp.gate_proj.lora_A.default.weight: True\n",
      "base_model.model.model.layers.8.mlp.gate_proj.lora_B.default.weight: True\n",
      "base_model.model.model.layers.8.mlp.up_proj.base_layer.weight: False\n",
      "base_model.model.model.layers.8.mlp.up_proj.lora_A.default.weight: True\n",
      "base_model.model.model.layers.8.mlp.up_proj.lora_B.default.weight: True\n",
      "base_model.model.model.layers.8.mlp.down_proj.base_layer.weight: False\n",
      "base_model.model.model.layers.8.mlp.down_proj.lora_A.default.weight: True\n",
      "base_model.model.model.layers.8.mlp.down_proj.lora_B.default.weight: True\n",
      "base_model.model.model.layers.8.input_layernorm.weight: False\n",
      "base_model.model.model.layers.8.post_attention_layernorm.weight: False\n",
      "base_model.model.model.layers.9.self_attn.q_proj.base_layer.weight: False\n",
      "base_model.model.model.layers.9.self_attn.q_proj.lora_A.default.weight: True\n",
      "base_model.model.model.layers.9.self_attn.q_proj.lora_B.default.weight: True\n",
      "base_model.model.model.layers.9.self_attn.k_proj.base_layer.weight: False\n",
      "base_model.model.model.layers.9.self_attn.k_proj.lora_A.default.weight: True\n",
      "base_model.model.model.layers.9.self_attn.k_proj.lora_B.default.weight: True\n",
      "base_model.model.model.layers.9.self_attn.v_proj.base_layer.weight: False\n",
      "base_model.model.model.layers.9.self_attn.v_proj.lora_A.default.weight: True\n",
      "base_model.model.model.layers.9.self_attn.v_proj.lora_B.default.weight: True\n",
      "base_model.model.model.layers.9.self_attn.o_proj.base_layer.weight: False\n",
      "base_model.model.model.layers.9.self_attn.o_proj.lora_A.default.weight: True\n",
      "base_model.model.model.layers.9.self_attn.o_proj.lora_B.default.weight: True\n",
      "base_model.model.model.layers.9.mlp.gate_proj.base_layer.weight: False\n",
      "base_model.model.model.layers.9.mlp.gate_proj.lora_A.default.weight: True\n",
      "base_model.model.model.layers.9.mlp.gate_proj.lora_B.default.weight: True\n",
      "base_model.model.model.layers.9.mlp.up_proj.base_layer.weight: False\n",
      "base_model.model.model.layers.9.mlp.up_proj.lora_A.default.weight: True\n",
      "base_model.model.model.layers.9.mlp.up_proj.lora_B.default.weight: True\n",
      "base_model.model.model.layers.9.mlp.down_proj.base_layer.weight: False\n",
      "base_model.model.model.layers.9.mlp.down_proj.lora_A.default.weight: True\n",
      "base_model.model.model.layers.9.mlp.down_proj.lora_B.default.weight: True\n",
      "base_model.model.model.layers.9.input_layernorm.weight: False\n",
      "base_model.model.model.layers.9.post_attention_layernorm.weight: False\n",
      "base_model.model.model.layers.10.self_attn.q_proj.base_layer.weight: False\n",
      "base_model.model.model.layers.10.self_attn.q_proj.lora_A.default.weight: True\n",
      "base_model.model.model.layers.10.self_attn.q_proj.lora_B.default.weight: True\n",
      "base_model.model.model.layers.10.self_attn.k_proj.base_layer.weight: False\n",
      "base_model.model.model.layers.10.self_attn.k_proj.lora_A.default.weight: True\n",
      "base_model.model.model.layers.10.self_attn.k_proj.lora_B.default.weight: True\n",
      "base_model.model.model.layers.10.self_attn.v_proj.base_layer.weight: False\n",
      "base_model.model.model.layers.10.self_attn.v_proj.lora_A.default.weight: True\n",
      "base_model.model.model.layers.10.self_attn.v_proj.lora_B.default.weight: True\n",
      "base_model.model.model.layers.10.self_attn.o_proj.base_layer.weight: False\n",
      "base_model.model.model.layers.10.self_attn.o_proj.lora_A.default.weight: True\n",
      "base_model.model.model.layers.10.self_attn.o_proj.lora_B.default.weight: True\n",
      "base_model.model.model.layers.10.mlp.gate_proj.base_layer.weight: False\n",
      "base_model.model.model.layers.10.mlp.gate_proj.lora_A.default.weight: True\n",
      "base_model.model.model.layers.10.mlp.gate_proj.lora_B.default.weight: True\n",
      "base_model.model.model.layers.10.mlp.up_proj.base_layer.weight: False\n",
      "base_model.model.model.layers.10.mlp.up_proj.lora_A.default.weight: True\n",
      "base_model.model.model.layers.10.mlp.up_proj.lora_B.default.weight: True\n",
      "base_model.model.model.layers.10.mlp.down_proj.base_layer.weight: False\n",
      "base_model.model.model.layers.10.mlp.down_proj.lora_A.default.weight: True\n",
      "base_model.model.model.layers.10.mlp.down_proj.lora_B.default.weight: True\n",
      "base_model.model.model.layers.10.input_layernorm.weight: False\n",
      "base_model.model.model.layers.10.post_attention_layernorm.weight: False\n",
      "base_model.model.model.layers.11.self_attn.q_proj.base_layer.weight: False\n",
      "base_model.model.model.layers.11.self_attn.q_proj.lora_A.default.weight: True\n",
      "base_model.model.model.layers.11.self_attn.q_proj.lora_B.default.weight: True\n",
      "base_model.model.model.layers.11.self_attn.k_proj.base_layer.weight: False\n",
      "base_model.model.model.layers.11.self_attn.k_proj.lora_A.default.weight: True\n",
      "base_model.model.model.layers.11.self_attn.k_proj.lora_B.default.weight: True\n",
      "base_model.model.model.layers.11.self_attn.v_proj.base_layer.weight: False\n",
      "base_model.model.model.layers.11.self_attn.v_proj.lora_A.default.weight: True\n",
      "base_model.model.model.layers.11.self_attn.v_proj.lora_B.default.weight: True\n",
      "base_model.model.model.layers.11.self_attn.o_proj.base_layer.weight: False\n",
      "base_model.model.model.layers.11.self_attn.o_proj.lora_A.default.weight: True\n",
      "base_model.model.model.layers.11.self_attn.o_proj.lora_B.default.weight: True\n",
      "base_model.model.model.layers.11.mlp.gate_proj.base_layer.weight: False\n",
      "base_model.model.model.layers.11.mlp.gate_proj.lora_A.default.weight: True\n",
      "base_model.model.model.layers.11.mlp.gate_proj.lora_B.default.weight: True\n",
      "base_model.model.model.layers.11.mlp.up_proj.base_layer.weight: False\n",
      "base_model.model.model.layers.11.mlp.up_proj.lora_A.default.weight: True\n",
      "base_model.model.model.layers.11.mlp.up_proj.lora_B.default.weight: True\n",
      "base_model.model.model.layers.11.mlp.down_proj.base_layer.weight: False\n",
      "base_model.model.model.layers.11.mlp.down_proj.lora_A.default.weight: True\n",
      "base_model.model.model.layers.11.mlp.down_proj.lora_B.default.weight: True\n",
      "base_model.model.model.layers.11.input_layernorm.weight: False\n",
      "base_model.model.model.layers.11.post_attention_layernorm.weight: False\n",
      "base_model.model.model.layers.12.self_attn.q_proj.base_layer.weight: False\n",
      "base_model.model.model.layers.12.self_attn.q_proj.lora_A.default.weight: True\n",
      "base_model.model.model.layers.12.self_attn.q_proj.lora_B.default.weight: True\n",
      "base_model.model.model.layers.12.self_attn.k_proj.base_layer.weight: False\n",
      "base_model.model.model.layers.12.self_attn.k_proj.lora_A.default.weight: True\n",
      "base_model.model.model.layers.12.self_attn.k_proj.lora_B.default.weight: True\n",
      "base_model.model.model.layers.12.self_attn.v_proj.base_layer.weight: False\n",
      "base_model.model.model.layers.12.self_attn.v_proj.lora_A.default.weight: True\n",
      "base_model.model.model.layers.12.self_attn.v_proj.lora_B.default.weight: True\n",
      "base_model.model.model.layers.12.self_attn.o_proj.base_layer.weight: False\n",
      "base_model.model.model.layers.12.self_attn.o_proj.lora_A.default.weight: True\n",
      "base_model.model.model.layers.12.self_attn.o_proj.lora_B.default.weight: True\n",
      "base_model.model.model.layers.12.mlp.gate_proj.base_layer.weight: False\n",
      "base_model.model.model.layers.12.mlp.gate_proj.lora_A.default.weight: True\n",
      "base_model.model.model.layers.12.mlp.gate_proj.lora_B.default.weight: True\n",
      "base_model.model.model.layers.12.mlp.up_proj.base_layer.weight: False\n",
      "base_model.model.model.layers.12.mlp.up_proj.lora_A.default.weight: True\n",
      "base_model.model.model.layers.12.mlp.up_proj.lora_B.default.weight: True\n",
      "base_model.model.model.layers.12.mlp.down_proj.base_layer.weight: False\n",
      "base_model.model.model.layers.12.mlp.down_proj.lora_A.default.weight: True\n",
      "base_model.model.model.layers.12.mlp.down_proj.lora_B.default.weight: True\n",
      "base_model.model.model.layers.12.input_layernorm.weight: False\n",
      "base_model.model.model.layers.12.post_attention_layernorm.weight: False\n",
      "base_model.model.model.layers.13.self_attn.q_proj.base_layer.weight: False\n",
      "base_model.model.model.layers.13.self_attn.q_proj.lora_A.default.weight: True\n",
      "base_model.model.model.layers.13.self_attn.q_proj.lora_B.default.weight: True\n",
      "base_model.model.model.layers.13.self_attn.k_proj.base_layer.weight: False\n",
      "base_model.model.model.layers.13.self_attn.k_proj.lora_A.default.weight: True\n",
      "base_model.model.model.layers.13.self_attn.k_proj.lora_B.default.weight: True\n",
      "base_model.model.model.layers.13.self_attn.v_proj.base_layer.weight: False\n",
      "base_model.model.model.layers.13.self_attn.v_proj.lora_A.default.weight: True\n",
      "base_model.model.model.layers.13.self_attn.v_proj.lora_B.default.weight: True\n",
      "base_model.model.model.layers.13.self_attn.o_proj.base_layer.weight: False\n",
      "base_model.model.model.layers.13.self_attn.o_proj.lora_A.default.weight: True\n",
      "base_model.model.model.layers.13.self_attn.o_proj.lora_B.default.weight: True\n",
      "base_model.model.model.layers.13.mlp.gate_proj.base_layer.weight: False\n",
      "base_model.model.model.layers.13.mlp.gate_proj.lora_A.default.weight: True\n",
      "base_model.model.model.layers.13.mlp.gate_proj.lora_B.default.weight: True\n",
      "base_model.model.model.layers.13.mlp.up_proj.base_layer.weight: False\n",
      "base_model.model.model.layers.13.mlp.up_proj.lora_A.default.weight: True\n",
      "base_model.model.model.layers.13.mlp.up_proj.lora_B.default.weight: True\n",
      "base_model.model.model.layers.13.mlp.down_proj.base_layer.weight: False\n",
      "base_model.model.model.layers.13.mlp.down_proj.lora_A.default.weight: True\n",
      "base_model.model.model.layers.13.mlp.down_proj.lora_B.default.weight: True\n",
      "base_model.model.model.layers.13.input_layernorm.weight: False\n",
      "base_model.model.model.layers.13.post_attention_layernorm.weight: False\n",
      "base_model.model.model.layers.14.self_attn.q_proj.base_layer.weight: False\n",
      "base_model.model.model.layers.14.self_attn.q_proj.lora_A.default.weight: True\n",
      "base_model.model.model.layers.14.self_attn.q_proj.lora_B.default.weight: True\n",
      "base_model.model.model.layers.14.self_attn.k_proj.base_layer.weight: False\n",
      "base_model.model.model.layers.14.self_attn.k_proj.lora_A.default.weight: True\n",
      "base_model.model.model.layers.14.self_attn.k_proj.lora_B.default.weight: True\n",
      "base_model.model.model.layers.14.self_attn.v_proj.base_layer.weight: False\n",
      "base_model.model.model.layers.14.self_attn.v_proj.lora_A.default.weight: True\n",
      "base_model.model.model.layers.14.self_attn.v_proj.lora_B.default.weight: True\n",
      "base_model.model.model.layers.14.self_attn.o_proj.base_layer.weight: False\n",
      "base_model.model.model.layers.14.self_attn.o_proj.lora_A.default.weight: True\n",
      "base_model.model.model.layers.14.self_attn.o_proj.lora_B.default.weight: True\n",
      "base_model.model.model.layers.14.mlp.gate_proj.base_layer.weight: False\n",
      "base_model.model.model.layers.14.mlp.gate_proj.lora_A.default.weight: True\n",
      "base_model.model.model.layers.14.mlp.gate_proj.lora_B.default.weight: True\n",
      "base_model.model.model.layers.14.mlp.up_proj.base_layer.weight: False\n",
      "base_model.model.model.layers.14.mlp.up_proj.lora_A.default.weight: True\n",
      "base_model.model.model.layers.14.mlp.up_proj.lora_B.default.weight: True\n",
      "base_model.model.model.layers.14.mlp.down_proj.base_layer.weight: False\n",
      "base_model.model.model.layers.14.mlp.down_proj.lora_A.default.weight: True\n",
      "base_model.model.model.layers.14.mlp.down_proj.lora_B.default.weight: True\n",
      "base_model.model.model.layers.14.input_layernorm.weight: False\n",
      "base_model.model.model.layers.14.post_attention_layernorm.weight: False\n",
      "base_model.model.model.layers.15.self_attn.q_proj.base_layer.weight: False\n",
      "base_model.model.model.layers.15.self_attn.q_proj.lora_A.default.weight: True\n",
      "base_model.model.model.layers.15.self_attn.q_proj.lora_B.default.weight: True\n",
      "base_model.model.model.layers.15.self_attn.k_proj.base_layer.weight: False\n",
      "base_model.model.model.layers.15.self_attn.k_proj.lora_A.default.weight: True\n",
      "base_model.model.model.layers.15.self_attn.k_proj.lora_B.default.weight: True\n",
      "base_model.model.model.layers.15.self_attn.v_proj.base_layer.weight: False\n",
      "base_model.model.model.layers.15.self_attn.v_proj.lora_A.default.weight: True\n",
      "base_model.model.model.layers.15.self_attn.v_proj.lora_B.default.weight: True\n",
      "base_model.model.model.layers.15.self_attn.o_proj.base_layer.weight: False\n",
      "base_model.model.model.layers.15.self_attn.o_proj.lora_A.default.weight: True\n",
      "base_model.model.model.layers.15.self_attn.o_proj.lora_B.default.weight: True\n",
      "base_model.model.model.layers.15.mlp.gate_proj.base_layer.weight: False\n",
      "base_model.model.model.layers.15.mlp.gate_proj.lora_A.default.weight: True\n",
      "base_model.model.model.layers.15.mlp.gate_proj.lora_B.default.weight: True\n",
      "base_model.model.model.layers.15.mlp.up_proj.base_layer.weight: False\n",
      "base_model.model.model.layers.15.mlp.up_proj.lora_A.default.weight: True\n",
      "base_model.model.model.layers.15.mlp.up_proj.lora_B.default.weight: True\n",
      "base_model.model.model.layers.15.mlp.down_proj.base_layer.weight: False\n",
      "base_model.model.model.layers.15.mlp.down_proj.lora_A.default.weight: True\n",
      "base_model.model.model.layers.15.mlp.down_proj.lora_B.default.weight: True\n",
      "base_model.model.model.layers.15.input_layernorm.weight: False\n",
      "base_model.model.model.layers.15.post_attention_layernorm.weight: False\n",
      "base_model.model.model.layers.16.self_attn.q_proj.base_layer.weight: False\n",
      "base_model.model.model.layers.16.self_attn.q_proj.lora_A.default.weight: True\n",
      "base_model.model.model.layers.16.self_attn.q_proj.lora_B.default.weight: True\n",
      "base_model.model.model.layers.16.self_attn.k_proj.base_layer.weight: False\n",
      "base_model.model.model.layers.16.self_attn.k_proj.lora_A.default.weight: True\n",
      "base_model.model.model.layers.16.self_attn.k_proj.lora_B.default.weight: True\n",
      "base_model.model.model.layers.16.self_attn.v_proj.base_layer.weight: False\n",
      "base_model.model.model.layers.16.self_attn.v_proj.lora_A.default.weight: True\n",
      "base_model.model.model.layers.16.self_attn.v_proj.lora_B.default.weight: True\n",
      "base_model.model.model.layers.16.self_attn.o_proj.base_layer.weight: False\n",
      "base_model.model.model.layers.16.self_attn.o_proj.lora_A.default.weight: True\n",
      "base_model.model.model.layers.16.self_attn.o_proj.lora_B.default.weight: True\n",
      "base_model.model.model.layers.16.mlp.gate_proj.base_layer.weight: False\n",
      "base_model.model.model.layers.16.mlp.gate_proj.lora_A.default.weight: True\n",
      "base_model.model.model.layers.16.mlp.gate_proj.lora_B.default.weight: True\n",
      "base_model.model.model.layers.16.mlp.up_proj.base_layer.weight: False\n",
      "base_model.model.model.layers.16.mlp.up_proj.lora_A.default.weight: True\n",
      "base_model.model.model.layers.16.mlp.up_proj.lora_B.default.weight: True\n",
      "base_model.model.model.layers.16.mlp.down_proj.base_layer.weight: False\n",
      "base_model.model.model.layers.16.mlp.down_proj.lora_A.default.weight: True\n",
      "base_model.model.model.layers.16.mlp.down_proj.lora_B.default.weight: True\n",
      "base_model.model.model.layers.16.input_layernorm.weight: False\n",
      "base_model.model.model.layers.16.post_attention_layernorm.weight: False\n",
      "base_model.model.model.layers.17.self_attn.q_proj.base_layer.weight: False\n",
      "base_model.model.model.layers.17.self_attn.q_proj.lora_A.default.weight: True\n",
      "base_model.model.model.layers.17.self_attn.q_proj.lora_B.default.weight: True\n",
      "base_model.model.model.layers.17.self_attn.k_proj.base_layer.weight: False\n",
      "base_model.model.model.layers.17.self_attn.k_proj.lora_A.default.weight: True\n",
      "base_model.model.model.layers.17.self_attn.k_proj.lora_B.default.weight: True\n",
      "base_model.model.model.layers.17.self_attn.v_proj.base_layer.weight: False\n",
      "base_model.model.model.layers.17.self_attn.v_proj.lora_A.default.weight: True\n",
      "base_model.model.model.layers.17.self_attn.v_proj.lora_B.default.weight: True\n",
      "base_model.model.model.layers.17.self_attn.o_proj.base_layer.weight: False\n",
      "base_model.model.model.layers.17.self_attn.o_proj.lora_A.default.weight: True\n",
      "base_model.model.model.layers.17.self_attn.o_proj.lora_B.default.weight: True\n",
      "base_model.model.model.layers.17.mlp.gate_proj.base_layer.weight: False\n",
      "base_model.model.model.layers.17.mlp.gate_proj.lora_A.default.weight: True\n",
      "base_model.model.model.layers.17.mlp.gate_proj.lora_B.default.weight: True\n",
      "base_model.model.model.layers.17.mlp.up_proj.base_layer.weight: False\n",
      "base_model.model.model.layers.17.mlp.up_proj.lora_A.default.weight: True\n",
      "base_model.model.model.layers.17.mlp.up_proj.lora_B.default.weight: True\n",
      "base_model.model.model.layers.17.mlp.down_proj.base_layer.weight: False\n",
      "base_model.model.model.layers.17.mlp.down_proj.lora_A.default.weight: True\n",
      "base_model.model.model.layers.17.mlp.down_proj.lora_B.default.weight: True\n",
      "base_model.model.model.layers.17.input_layernorm.weight: False\n",
      "base_model.model.model.layers.17.post_attention_layernorm.weight: False\n",
      "base_model.model.model.layers.18.self_attn.q_proj.base_layer.weight: False\n",
      "base_model.model.model.layers.18.self_attn.q_proj.lora_A.default.weight: True\n",
      "base_model.model.model.layers.18.self_attn.q_proj.lora_B.default.weight: True\n",
      "base_model.model.model.layers.18.self_attn.k_proj.base_layer.weight: False\n",
      "base_model.model.model.layers.18.self_attn.k_proj.lora_A.default.weight: True\n",
      "base_model.model.model.layers.18.self_attn.k_proj.lora_B.default.weight: True\n",
      "base_model.model.model.layers.18.self_attn.v_proj.base_layer.weight: False\n",
      "base_model.model.model.layers.18.self_attn.v_proj.lora_A.default.weight: True\n",
      "base_model.model.model.layers.18.self_attn.v_proj.lora_B.default.weight: True\n",
      "base_model.model.model.layers.18.self_attn.o_proj.base_layer.weight: False\n",
      "base_model.model.model.layers.18.self_attn.o_proj.lora_A.default.weight: True\n",
      "base_model.model.model.layers.18.self_attn.o_proj.lora_B.default.weight: True\n",
      "base_model.model.model.layers.18.mlp.gate_proj.base_layer.weight: False\n",
      "base_model.model.model.layers.18.mlp.gate_proj.lora_A.default.weight: True\n",
      "base_model.model.model.layers.18.mlp.gate_proj.lora_B.default.weight: True\n",
      "base_model.model.model.layers.18.mlp.up_proj.base_layer.weight: False\n",
      "base_model.model.model.layers.18.mlp.up_proj.lora_A.default.weight: True\n",
      "base_model.model.model.layers.18.mlp.up_proj.lora_B.default.weight: True\n",
      "base_model.model.model.layers.18.mlp.down_proj.base_layer.weight: False\n",
      "base_model.model.model.layers.18.mlp.down_proj.lora_A.default.weight: True\n",
      "base_model.model.model.layers.18.mlp.down_proj.lora_B.default.weight: True\n",
      "base_model.model.model.layers.18.input_layernorm.weight: False\n",
      "base_model.model.model.layers.18.post_attention_layernorm.weight: False\n",
      "base_model.model.model.layers.19.self_attn.q_proj.base_layer.weight: False\n",
      "base_model.model.model.layers.19.self_attn.q_proj.lora_A.default.weight: True\n",
      "base_model.model.model.layers.19.self_attn.q_proj.lora_B.default.weight: True\n",
      "base_model.model.model.layers.19.self_attn.k_proj.base_layer.weight: False\n",
      "base_model.model.model.layers.19.self_attn.k_proj.lora_A.default.weight: True\n",
      "base_model.model.model.layers.19.self_attn.k_proj.lora_B.default.weight: True\n",
      "base_model.model.model.layers.19.self_attn.v_proj.base_layer.weight: False\n",
      "base_model.model.model.layers.19.self_attn.v_proj.lora_A.default.weight: True\n",
      "base_model.model.model.layers.19.self_attn.v_proj.lora_B.default.weight: True\n",
      "base_model.model.model.layers.19.self_attn.o_proj.base_layer.weight: False\n",
      "base_model.model.model.layers.19.self_attn.o_proj.lora_A.default.weight: True\n",
      "base_model.model.model.layers.19.self_attn.o_proj.lora_B.default.weight: True\n",
      "base_model.model.model.layers.19.mlp.gate_proj.base_layer.weight: False\n",
      "base_model.model.model.layers.19.mlp.gate_proj.lora_A.default.weight: True\n",
      "base_model.model.model.layers.19.mlp.gate_proj.lora_B.default.weight: True\n",
      "base_model.model.model.layers.19.mlp.up_proj.base_layer.weight: False\n",
      "base_model.model.model.layers.19.mlp.up_proj.lora_A.default.weight: True\n",
      "base_model.model.model.layers.19.mlp.up_proj.lora_B.default.weight: True\n",
      "base_model.model.model.layers.19.mlp.down_proj.base_layer.weight: False\n",
      "base_model.model.model.layers.19.mlp.down_proj.lora_A.default.weight: True\n",
      "base_model.model.model.layers.19.mlp.down_proj.lora_B.default.weight: True\n",
      "base_model.model.model.layers.19.input_layernorm.weight: False\n",
      "base_model.model.model.layers.19.post_attention_layernorm.weight: False\n",
      "base_model.model.model.layers.20.self_attn.q_proj.base_layer.weight: False\n",
      "base_model.model.model.layers.20.self_attn.q_proj.lora_A.default.weight: True\n",
      "base_model.model.model.layers.20.self_attn.q_proj.lora_B.default.weight: True\n",
      "base_model.model.model.layers.20.self_attn.k_proj.base_layer.weight: False\n",
      "base_model.model.model.layers.20.self_attn.k_proj.lora_A.default.weight: True\n",
      "base_model.model.model.layers.20.self_attn.k_proj.lora_B.default.weight: True\n",
      "base_model.model.model.layers.20.self_attn.v_proj.base_layer.weight: False\n",
      "base_model.model.model.layers.20.self_attn.v_proj.lora_A.default.weight: True\n",
      "base_model.model.model.layers.20.self_attn.v_proj.lora_B.default.weight: True\n",
      "base_model.model.model.layers.20.self_attn.o_proj.base_layer.weight: False\n",
      "base_model.model.model.layers.20.self_attn.o_proj.lora_A.default.weight: True\n",
      "base_model.model.model.layers.20.self_attn.o_proj.lora_B.default.weight: True\n",
      "base_model.model.model.layers.20.mlp.gate_proj.base_layer.weight: False\n",
      "base_model.model.model.layers.20.mlp.gate_proj.lora_A.default.weight: True\n",
      "base_model.model.model.layers.20.mlp.gate_proj.lora_B.default.weight: True\n",
      "base_model.model.model.layers.20.mlp.up_proj.base_layer.weight: False\n",
      "base_model.model.model.layers.20.mlp.up_proj.lora_A.default.weight: True\n",
      "base_model.model.model.layers.20.mlp.up_proj.lora_B.default.weight: True\n",
      "base_model.model.model.layers.20.mlp.down_proj.base_layer.weight: False\n",
      "base_model.model.model.layers.20.mlp.down_proj.lora_A.default.weight: True\n",
      "base_model.model.model.layers.20.mlp.down_proj.lora_B.default.weight: True\n",
      "base_model.model.model.layers.20.input_layernorm.weight: False\n",
      "base_model.model.model.layers.20.post_attention_layernorm.weight: False\n",
      "base_model.model.model.layers.21.self_attn.q_proj.base_layer.weight: False\n",
      "base_model.model.model.layers.21.self_attn.q_proj.lora_A.default.weight: True\n",
      "base_model.model.model.layers.21.self_attn.q_proj.lora_B.default.weight: True\n",
      "base_model.model.model.layers.21.self_attn.k_proj.base_layer.weight: False\n",
      "base_model.model.model.layers.21.self_attn.k_proj.lora_A.default.weight: True\n",
      "base_model.model.model.layers.21.self_attn.k_proj.lora_B.default.weight: True\n",
      "base_model.model.model.layers.21.self_attn.v_proj.base_layer.weight: False\n",
      "base_model.model.model.layers.21.self_attn.v_proj.lora_A.default.weight: True\n",
      "base_model.model.model.layers.21.self_attn.v_proj.lora_B.default.weight: True\n",
      "base_model.model.model.layers.21.self_attn.o_proj.base_layer.weight: False\n",
      "base_model.model.model.layers.21.self_attn.o_proj.lora_A.default.weight: True\n",
      "base_model.model.model.layers.21.self_attn.o_proj.lora_B.default.weight: True\n",
      "base_model.model.model.layers.21.mlp.gate_proj.base_layer.weight: False\n",
      "base_model.model.model.layers.21.mlp.gate_proj.lora_A.default.weight: True\n",
      "base_model.model.model.layers.21.mlp.gate_proj.lora_B.default.weight: True\n",
      "base_model.model.model.layers.21.mlp.up_proj.base_layer.weight: False\n",
      "base_model.model.model.layers.21.mlp.up_proj.lora_A.default.weight: True\n",
      "base_model.model.model.layers.21.mlp.up_proj.lora_B.default.weight: True\n",
      "base_model.model.model.layers.21.mlp.down_proj.base_layer.weight: False\n",
      "base_model.model.model.layers.21.mlp.down_proj.lora_A.default.weight: True\n",
      "base_model.model.model.layers.21.mlp.down_proj.lora_B.default.weight: True\n",
      "base_model.model.model.layers.21.input_layernorm.weight: False\n",
      "base_model.model.model.layers.21.post_attention_layernorm.weight: False\n",
      "base_model.model.model.layers.22.self_attn.q_proj.base_layer.weight: False\n",
      "base_model.model.model.layers.22.self_attn.q_proj.lora_A.default.weight: True\n",
      "base_model.model.model.layers.22.self_attn.q_proj.lora_B.default.weight: True\n",
      "base_model.model.model.layers.22.self_attn.k_proj.base_layer.weight: False\n",
      "base_model.model.model.layers.22.self_attn.k_proj.lora_A.default.weight: True\n",
      "base_model.model.model.layers.22.self_attn.k_proj.lora_B.default.weight: True\n",
      "base_model.model.model.layers.22.self_attn.v_proj.base_layer.weight: False\n",
      "base_model.model.model.layers.22.self_attn.v_proj.lora_A.default.weight: True\n",
      "base_model.model.model.layers.22.self_attn.v_proj.lora_B.default.weight: True\n",
      "base_model.model.model.layers.22.self_attn.o_proj.base_layer.weight: False\n",
      "base_model.model.model.layers.22.self_attn.o_proj.lora_A.default.weight: True\n",
      "base_model.model.model.layers.22.self_attn.o_proj.lora_B.default.weight: True\n",
      "base_model.model.model.layers.22.mlp.gate_proj.base_layer.weight: False\n",
      "base_model.model.model.layers.22.mlp.gate_proj.lora_A.default.weight: True\n",
      "base_model.model.model.layers.22.mlp.gate_proj.lora_B.default.weight: True\n",
      "base_model.model.model.layers.22.mlp.up_proj.base_layer.weight: False\n",
      "base_model.model.model.layers.22.mlp.up_proj.lora_A.default.weight: True\n",
      "base_model.model.model.layers.22.mlp.up_proj.lora_B.default.weight: True\n",
      "base_model.model.model.layers.22.mlp.down_proj.base_layer.weight: False\n",
      "base_model.model.model.layers.22.mlp.down_proj.lora_A.default.weight: True\n",
      "base_model.model.model.layers.22.mlp.down_proj.lora_B.default.weight: True\n",
      "base_model.model.model.layers.22.input_layernorm.weight: False\n",
      "base_model.model.model.layers.22.post_attention_layernorm.weight: False\n",
      "base_model.model.model.layers.23.self_attn.q_proj.base_layer.weight: False\n",
      "base_model.model.model.layers.23.self_attn.q_proj.lora_A.default.weight: True\n",
      "base_model.model.model.layers.23.self_attn.q_proj.lora_B.default.weight: True\n",
      "base_model.model.model.layers.23.self_attn.k_proj.base_layer.weight: False\n",
      "base_model.model.model.layers.23.self_attn.k_proj.lora_A.default.weight: True\n",
      "base_model.model.model.layers.23.self_attn.k_proj.lora_B.default.weight: True\n",
      "base_model.model.model.layers.23.self_attn.v_proj.base_layer.weight: False\n",
      "base_model.model.model.layers.23.self_attn.v_proj.lora_A.default.weight: True\n",
      "base_model.model.model.layers.23.self_attn.v_proj.lora_B.default.weight: True\n",
      "base_model.model.model.layers.23.self_attn.o_proj.base_layer.weight: False\n",
      "base_model.model.model.layers.23.self_attn.o_proj.lora_A.default.weight: True\n",
      "base_model.model.model.layers.23.self_attn.o_proj.lora_B.default.weight: True\n",
      "base_model.model.model.layers.23.mlp.gate_proj.base_layer.weight: False\n",
      "base_model.model.model.layers.23.mlp.gate_proj.lora_A.default.weight: True\n",
      "base_model.model.model.layers.23.mlp.gate_proj.lora_B.default.weight: True\n",
      "base_model.model.model.layers.23.mlp.up_proj.base_layer.weight: False\n",
      "base_model.model.model.layers.23.mlp.up_proj.lora_A.default.weight: True\n",
      "base_model.model.model.layers.23.mlp.up_proj.lora_B.default.weight: True\n",
      "base_model.model.model.layers.23.mlp.down_proj.base_layer.weight: False\n",
      "base_model.model.model.layers.23.mlp.down_proj.lora_A.default.weight: True\n",
      "base_model.model.model.layers.23.mlp.down_proj.lora_B.default.weight: True\n",
      "base_model.model.model.layers.23.input_layernorm.weight: False\n",
      "base_model.model.model.layers.23.post_attention_layernorm.weight: False\n",
      "base_model.model.model.layers.24.self_attn.q_proj.base_layer.weight: False\n",
      "base_model.model.model.layers.24.self_attn.q_proj.lora_A.default.weight: True\n",
      "base_model.model.model.layers.24.self_attn.q_proj.lora_B.default.weight: True\n",
      "base_model.model.model.layers.24.self_attn.k_proj.base_layer.weight: False\n",
      "base_model.model.model.layers.24.self_attn.k_proj.lora_A.default.weight: True\n",
      "base_model.model.model.layers.24.self_attn.k_proj.lora_B.default.weight: True\n",
      "base_model.model.model.layers.24.self_attn.v_proj.base_layer.weight: False\n",
      "base_model.model.model.layers.24.self_attn.v_proj.lora_A.default.weight: True\n",
      "base_model.model.model.layers.24.self_attn.v_proj.lora_B.default.weight: True\n",
      "base_model.model.model.layers.24.self_attn.o_proj.base_layer.weight: False\n",
      "base_model.model.model.layers.24.self_attn.o_proj.lora_A.default.weight: True\n",
      "base_model.model.model.layers.24.self_attn.o_proj.lora_B.default.weight: True\n",
      "base_model.model.model.layers.24.mlp.gate_proj.base_layer.weight: False\n",
      "base_model.model.model.layers.24.mlp.gate_proj.lora_A.default.weight: True\n",
      "base_model.model.model.layers.24.mlp.gate_proj.lora_B.default.weight: True\n",
      "base_model.model.model.layers.24.mlp.up_proj.base_layer.weight: False\n",
      "base_model.model.model.layers.24.mlp.up_proj.lora_A.default.weight: True\n",
      "base_model.model.model.layers.24.mlp.up_proj.lora_B.default.weight: True\n",
      "base_model.model.model.layers.24.mlp.down_proj.base_layer.weight: False\n",
      "base_model.model.model.layers.24.mlp.down_proj.lora_A.default.weight: True\n",
      "base_model.model.model.layers.24.mlp.down_proj.lora_B.default.weight: True\n",
      "base_model.model.model.layers.24.input_layernorm.weight: False\n",
      "base_model.model.model.layers.24.post_attention_layernorm.weight: False\n",
      "base_model.model.model.layers.25.self_attn.q_proj.base_layer.weight: False\n",
      "base_model.model.model.layers.25.self_attn.q_proj.lora_A.default.weight: True\n",
      "base_model.model.model.layers.25.self_attn.q_proj.lora_B.default.weight: True\n",
      "base_model.model.model.layers.25.self_attn.k_proj.base_layer.weight: False\n",
      "base_model.model.model.layers.25.self_attn.k_proj.lora_A.default.weight: True\n",
      "base_model.model.model.layers.25.self_attn.k_proj.lora_B.default.weight: True\n",
      "base_model.model.model.layers.25.self_attn.v_proj.base_layer.weight: False\n",
      "base_model.model.model.layers.25.self_attn.v_proj.lora_A.default.weight: True\n",
      "base_model.model.model.layers.25.self_attn.v_proj.lora_B.default.weight: True\n",
      "base_model.model.model.layers.25.self_attn.o_proj.base_layer.weight: False\n",
      "base_model.model.model.layers.25.self_attn.o_proj.lora_A.default.weight: True\n",
      "base_model.model.model.layers.25.self_attn.o_proj.lora_B.default.weight: True\n",
      "base_model.model.model.layers.25.mlp.gate_proj.base_layer.weight: False\n",
      "base_model.model.model.layers.25.mlp.gate_proj.lora_A.default.weight: True\n",
      "base_model.model.model.layers.25.mlp.gate_proj.lora_B.default.weight: True\n",
      "base_model.model.model.layers.25.mlp.up_proj.base_layer.weight: False\n",
      "base_model.model.model.layers.25.mlp.up_proj.lora_A.default.weight: True\n",
      "base_model.model.model.layers.25.mlp.up_proj.lora_B.default.weight: True\n",
      "base_model.model.model.layers.25.mlp.down_proj.base_layer.weight: False\n",
      "base_model.model.model.layers.25.mlp.down_proj.lora_A.default.weight: True\n",
      "base_model.model.model.layers.25.mlp.down_proj.lora_B.default.weight: True\n",
      "base_model.model.model.layers.25.input_layernorm.weight: False\n",
      "base_model.model.model.layers.25.post_attention_layernorm.weight: False\n",
      "base_model.model.model.layers.26.self_attn.q_proj.base_layer.weight: False\n",
      "base_model.model.model.layers.26.self_attn.q_proj.lora_A.default.weight: True\n",
      "base_model.model.model.layers.26.self_attn.q_proj.lora_B.default.weight: True\n",
      "base_model.model.model.layers.26.self_attn.k_proj.base_layer.weight: False\n",
      "base_model.model.model.layers.26.self_attn.k_proj.lora_A.default.weight: True\n",
      "base_model.model.model.layers.26.self_attn.k_proj.lora_B.default.weight: True\n",
      "base_model.model.model.layers.26.self_attn.v_proj.base_layer.weight: False\n",
      "base_model.model.model.layers.26.self_attn.v_proj.lora_A.default.weight: True\n",
      "base_model.model.model.layers.26.self_attn.v_proj.lora_B.default.weight: True\n",
      "base_model.model.model.layers.26.self_attn.o_proj.base_layer.weight: False\n",
      "base_model.model.model.layers.26.self_attn.o_proj.lora_A.default.weight: True\n",
      "base_model.model.model.layers.26.self_attn.o_proj.lora_B.default.weight: True\n",
      "base_model.model.model.layers.26.mlp.gate_proj.base_layer.weight: False\n",
      "base_model.model.model.layers.26.mlp.gate_proj.lora_A.default.weight: True\n",
      "base_model.model.model.layers.26.mlp.gate_proj.lora_B.default.weight: True\n",
      "base_model.model.model.layers.26.mlp.up_proj.base_layer.weight: False\n",
      "base_model.model.model.layers.26.mlp.up_proj.lora_A.default.weight: True\n",
      "base_model.model.model.layers.26.mlp.up_proj.lora_B.default.weight: True\n",
      "base_model.model.model.layers.26.mlp.down_proj.base_layer.weight: False\n",
      "base_model.model.model.layers.26.mlp.down_proj.lora_A.default.weight: True\n",
      "base_model.model.model.layers.26.mlp.down_proj.lora_B.default.weight: True\n",
      "base_model.model.model.layers.26.input_layernorm.weight: False\n",
      "base_model.model.model.layers.26.post_attention_layernorm.weight: False\n",
      "base_model.model.model.layers.27.self_attn.q_proj.base_layer.weight: False\n",
      "base_model.model.model.layers.27.self_attn.q_proj.lora_A.default.weight: True\n",
      "base_model.model.model.layers.27.self_attn.q_proj.lora_B.default.weight: True\n",
      "base_model.model.model.layers.27.self_attn.k_proj.base_layer.weight: False\n",
      "base_model.model.model.layers.27.self_attn.k_proj.lora_A.default.weight: True\n",
      "base_model.model.model.layers.27.self_attn.k_proj.lora_B.default.weight: True\n",
      "base_model.model.model.layers.27.self_attn.v_proj.base_layer.weight: False\n",
      "base_model.model.model.layers.27.self_attn.v_proj.lora_A.default.weight: True\n",
      "base_model.model.model.layers.27.self_attn.v_proj.lora_B.default.weight: True\n",
      "base_model.model.model.layers.27.self_attn.o_proj.base_layer.weight: False\n",
      "base_model.model.model.layers.27.self_attn.o_proj.lora_A.default.weight: True\n",
      "base_model.model.model.layers.27.self_attn.o_proj.lora_B.default.weight: True\n",
      "base_model.model.model.layers.27.mlp.gate_proj.base_layer.weight: False\n",
      "base_model.model.model.layers.27.mlp.gate_proj.lora_A.default.weight: True\n",
      "base_model.model.model.layers.27.mlp.gate_proj.lora_B.default.weight: True\n",
      "base_model.model.model.layers.27.mlp.up_proj.base_layer.weight: False\n",
      "base_model.model.model.layers.27.mlp.up_proj.lora_A.default.weight: True\n",
      "base_model.model.model.layers.27.mlp.up_proj.lora_B.default.weight: True\n",
      "base_model.model.model.layers.27.mlp.down_proj.base_layer.weight: False\n",
      "base_model.model.model.layers.27.mlp.down_proj.lora_A.default.weight: True\n",
      "base_model.model.model.layers.27.mlp.down_proj.lora_B.default.weight: True\n",
      "base_model.model.model.layers.27.input_layernorm.weight: False\n",
      "base_model.model.model.layers.27.post_attention_layernorm.weight: False\n",
      "base_model.model.model.layers.28.self_attn.q_proj.base_layer.weight: False\n",
      "base_model.model.model.layers.28.self_attn.q_proj.lora_A.default.weight: True\n",
      "base_model.model.model.layers.28.self_attn.q_proj.lora_B.default.weight: True\n",
      "base_model.model.model.layers.28.self_attn.k_proj.base_layer.weight: False\n",
      "base_model.model.model.layers.28.self_attn.k_proj.lora_A.default.weight: True\n",
      "base_model.model.model.layers.28.self_attn.k_proj.lora_B.default.weight: True\n",
      "base_model.model.model.layers.28.self_attn.v_proj.base_layer.weight: False\n",
      "base_model.model.model.layers.28.self_attn.v_proj.lora_A.default.weight: True\n",
      "base_model.model.model.layers.28.self_attn.v_proj.lora_B.default.weight: True\n",
      "base_model.model.model.layers.28.self_attn.o_proj.base_layer.weight: False\n",
      "base_model.model.model.layers.28.self_attn.o_proj.lora_A.default.weight: True\n",
      "base_model.model.model.layers.28.self_attn.o_proj.lora_B.default.weight: True\n",
      "base_model.model.model.layers.28.mlp.gate_proj.base_layer.weight: False\n",
      "base_model.model.model.layers.28.mlp.gate_proj.lora_A.default.weight: True\n",
      "base_model.model.model.layers.28.mlp.gate_proj.lora_B.default.weight: True\n",
      "base_model.model.model.layers.28.mlp.up_proj.base_layer.weight: False\n",
      "base_model.model.model.layers.28.mlp.up_proj.lora_A.default.weight: True\n",
      "base_model.model.model.layers.28.mlp.up_proj.lora_B.default.weight: True\n",
      "base_model.model.model.layers.28.mlp.down_proj.base_layer.weight: False\n",
      "base_model.model.model.layers.28.mlp.down_proj.lora_A.default.weight: True\n",
      "base_model.model.model.layers.28.mlp.down_proj.lora_B.default.weight: True\n",
      "base_model.model.model.layers.28.input_layernorm.weight: False\n",
      "base_model.model.model.layers.28.post_attention_layernorm.weight: False\n",
      "base_model.model.model.layers.29.self_attn.q_proj.base_layer.weight: False\n",
      "base_model.model.model.layers.29.self_attn.q_proj.lora_A.default.weight: True\n",
      "base_model.model.model.layers.29.self_attn.q_proj.lora_B.default.weight: True\n",
      "base_model.model.model.layers.29.self_attn.k_proj.base_layer.weight: False\n",
      "base_model.model.model.layers.29.self_attn.k_proj.lora_A.default.weight: True\n",
      "base_model.model.model.layers.29.self_attn.k_proj.lora_B.default.weight: True\n",
      "base_model.model.model.layers.29.self_attn.v_proj.base_layer.weight: False\n",
      "base_model.model.model.layers.29.self_attn.v_proj.lora_A.default.weight: True\n",
      "base_model.model.model.layers.29.self_attn.v_proj.lora_B.default.weight: True\n",
      "base_model.model.model.layers.29.self_attn.o_proj.base_layer.weight: False\n",
      "base_model.model.model.layers.29.self_attn.o_proj.lora_A.default.weight: True\n",
      "base_model.model.model.layers.29.self_attn.o_proj.lora_B.default.weight: True\n",
      "base_model.model.model.layers.29.mlp.gate_proj.base_layer.weight: False\n",
      "base_model.model.model.layers.29.mlp.gate_proj.lora_A.default.weight: True\n",
      "base_model.model.model.layers.29.mlp.gate_proj.lora_B.default.weight: True\n",
      "base_model.model.model.layers.29.mlp.up_proj.base_layer.weight: False\n",
      "base_model.model.model.layers.29.mlp.up_proj.lora_A.default.weight: True\n",
      "base_model.model.model.layers.29.mlp.up_proj.lora_B.default.weight: True\n",
      "base_model.model.model.layers.29.mlp.down_proj.base_layer.weight: False\n",
      "base_model.model.model.layers.29.mlp.down_proj.lora_A.default.weight: True\n",
      "base_model.model.model.layers.29.mlp.down_proj.lora_B.default.weight: True\n",
      "base_model.model.model.layers.29.input_layernorm.weight: False\n",
      "base_model.model.model.layers.29.post_attention_layernorm.weight: False\n",
      "base_model.model.model.layers.30.self_attn.q_proj.base_layer.weight: False\n",
      "base_model.model.model.layers.30.self_attn.q_proj.lora_A.default.weight: True\n",
      "base_model.model.model.layers.30.self_attn.q_proj.lora_B.default.weight: True\n",
      "base_model.model.model.layers.30.self_attn.k_proj.base_layer.weight: False\n",
      "base_model.model.model.layers.30.self_attn.k_proj.lora_A.default.weight: True\n",
      "base_model.model.model.layers.30.self_attn.k_proj.lora_B.default.weight: True\n",
      "base_model.model.model.layers.30.self_attn.v_proj.base_layer.weight: False\n",
      "base_model.model.model.layers.30.self_attn.v_proj.lora_A.default.weight: True\n",
      "base_model.model.model.layers.30.self_attn.v_proj.lora_B.default.weight: True\n",
      "base_model.model.model.layers.30.self_attn.o_proj.base_layer.weight: False\n",
      "base_model.model.model.layers.30.self_attn.o_proj.lora_A.default.weight: True\n",
      "base_model.model.model.layers.30.self_attn.o_proj.lora_B.default.weight: True\n",
      "base_model.model.model.layers.30.mlp.gate_proj.base_layer.weight: False\n",
      "base_model.model.model.layers.30.mlp.gate_proj.lora_A.default.weight: True\n",
      "base_model.model.model.layers.30.mlp.gate_proj.lora_B.default.weight: True\n",
      "base_model.model.model.layers.30.mlp.up_proj.base_layer.weight: False\n",
      "base_model.model.model.layers.30.mlp.up_proj.lora_A.default.weight: True\n",
      "base_model.model.model.layers.30.mlp.up_proj.lora_B.default.weight: True\n",
      "base_model.model.model.layers.30.mlp.down_proj.base_layer.weight: False\n",
      "base_model.model.model.layers.30.mlp.down_proj.lora_A.default.weight: True\n",
      "base_model.model.model.layers.30.mlp.down_proj.lora_B.default.weight: True\n",
      "base_model.model.model.layers.30.input_layernorm.weight: False\n",
      "base_model.model.model.layers.30.post_attention_layernorm.weight: False\n",
      "base_model.model.model.layers.31.self_attn.q_proj.base_layer.weight: False\n",
      "base_model.model.model.layers.31.self_attn.q_proj.lora_A.default.weight: True\n",
      "base_model.model.model.layers.31.self_attn.q_proj.lora_B.default.weight: True\n",
      "base_model.model.model.layers.31.self_attn.k_proj.base_layer.weight: False\n",
      "base_model.model.model.layers.31.self_attn.k_proj.lora_A.default.weight: True\n",
      "base_model.model.model.layers.31.self_attn.k_proj.lora_B.default.weight: True\n",
      "base_model.model.model.layers.31.self_attn.v_proj.base_layer.weight: False\n",
      "base_model.model.model.layers.31.self_attn.v_proj.lora_A.default.weight: True\n",
      "base_model.model.model.layers.31.self_attn.v_proj.lora_B.default.weight: True\n",
      "base_model.model.model.layers.31.self_attn.o_proj.base_layer.weight: False\n",
      "base_model.model.model.layers.31.self_attn.o_proj.lora_A.default.weight: True\n",
      "base_model.model.model.layers.31.self_attn.o_proj.lora_B.default.weight: True\n",
      "base_model.model.model.layers.31.mlp.gate_proj.base_layer.weight: False\n",
      "base_model.model.model.layers.31.mlp.gate_proj.lora_A.default.weight: True\n",
      "base_model.model.model.layers.31.mlp.gate_proj.lora_B.default.weight: True\n",
      "base_model.model.model.layers.31.mlp.up_proj.base_layer.weight: False\n",
      "base_model.model.model.layers.31.mlp.up_proj.lora_A.default.weight: True\n",
      "base_model.model.model.layers.31.mlp.up_proj.lora_B.default.weight: True\n",
      "base_model.model.model.layers.31.mlp.down_proj.base_layer.weight: False\n",
      "base_model.model.model.layers.31.mlp.down_proj.lora_A.default.weight: True\n",
      "base_model.model.model.layers.31.mlp.down_proj.lora_B.default.weight: True\n",
      "base_model.model.model.layers.31.input_layernorm.weight: False\n",
      "base_model.model.model.layers.31.post_attention_layernorm.weight: False\n",
      "base_model.model.model.norm.weight: False\n",
      "base_model.model.score.original_module.weight: False\n",
      "base_model.model.score.modules_to_save.default.weight: True\n"
     ]
    }
   ],
   "source": [
    "for name, param in lora_model.named_parameters():\n",
    "    print(f\"{name}: {param.requires_grad}\")\n"
   ]
  },
  {
   "cell_type": "code",
   "execution_count": 32,
   "id": "rIO5ckLeBwtk",
   "metadata": {
    "colab": {
     "base_uri": "https://localhost:8080/",
     "height": 81,
     "referenced_widgets": [
      "6948cf347a1641168696a2c553faabcd",
      "6f2acf33a64e4440982fe43ff430cedc",
      "8a2d1381b5c64417885529477f8c4913",
      "0e081d6c4c5742beaf279d877edf6eb9",
      "8c5bd065f6974024847b361db86ac0e8",
      "24c65f014d244856af7436785583647a",
      "be40935fb5bf49eb884edbbf83c91998",
      "e2b39f3694aa4606a36415abe5a322fe",
      "93c89fd1b9494ec19771093baf809163",
      "43879ae8aeb04cf5a2d8cef3941bcc6e",
      "15f254e8f6a546198be5348c3b91726c",
      "85faffd9ae804bb9915a1f9139afe9bb",
      "668c58306fa64900b260bb59efb98a82",
      "95d8c3bf1a404fa9aab79b775eb7eee2",
      "b1baa6ac694d45e98a48aaa2d14da940",
      "9c69e48a20a048ae8d31b081e040786c",
      "b55be309bf8d45189d05f3deb16bf006",
      "5ee36031eef54ba6843683e453836b70",
      "c195dcc26f9546628bf984808835c97c",
      "8bec8c6c993c4781a4429d1a38b1c6fb",
      "d5a7a219972a4c299ef5fe7249518a7d",
      "8e24ece651474d2593a467a21ed99b1f"
     ]
    },
    "id": "rIO5ckLeBwtk",
    "outputId": "a836b77b-316a-4970-ef01-ef8a4ef8c554"
   },
   "outputs": [
    {
     "data": {
      "application/vnd.jupyter.widget-view+json": {
       "model_id": "6948cf347a1641168696a2c553faabcd",
       "version_major": 2,
       "version_minor": 0
      },
      "text/plain": [
       "Downloading builder script:   0%|          | 0.00/4.20k [00:00<?, ?B/s]"
      ]
     },
     "metadata": {},
     "output_type": "display_data"
    },
    {
     "data": {
      "application/vnd.jupyter.widget-view+json": {
       "model_id": "85faffd9ae804bb9915a1f9139afe9bb",
       "version_major": 2,
       "version_minor": 0
      },
      "text/plain": [
       "Downloading builder script:   0%|          | 0.00/6.77k [00:00<?, ?B/s]"
      ]
     },
     "metadata": {},
     "output_type": "display_data"
    }
   ],
   "source": [
    "# load training metrices\n",
    "accuracy = evaluate.load('accuracy', 'multilabel')\n",
    "f1 = evaluate.load('f1','multilabel')\n",
    "accuracy_flatten = evaluate.load('accuracy')\n",
    "\n",
    "def compute_metrics(eval_pred):\n",
    "    # accuracy_metric = evaluate.load('accuracy', 'multilabel')\n",
    "\n",
    "    logits, labels = eval_pred\n",
    "    preds = (logits > 0).astype(int)\n",
    "    accuracy_label = accuracy_flatten.compute(predictions=preds.flatten(), references=labels.flatten())\n",
    "    accuracy_all = accuracy.compute(predictions=preds, references=labels)\n",
    "    f1_micro = f1.compute(predictions=preds, references=labels, average='micro')\n",
    "    f1_macro = f1.compute(predictions=preds, references=labels, average='macro')\n",
    "    return {'f1_micro':f1_micro['f1'],\n",
    "            'f1_macro':f1_macro['f1'],\n",
    "            'accuracy_label':accuracy_label['accuracy'],\n",
    "             'accuracy_all':accuracy_all['accuracy']}\n"
   ]
  },
  {
   "cell_type": "code",
   "execution_count": 33,
   "id": "hIXDbzK8O4x9",
   "metadata": {
    "id": "hIXDbzK8O4x9"
   },
   "outputs": [],
   "source": [
    "# Define the directory where model checkpoints will be saved\n",
    "model_folder = Path(\"/content/gemma_lora_imb\")\n",
    "# Create the directory if it doesn't exist\n",
    "model_folder.mkdir(exist_ok=True, parents=True)\n",
    "run_name= 'stack_exp_imb_exp1'\n",
    "\n",
    "use_fp16 = torch_data_type == torch.float16\n",
    "use_bf16 = torch_data_type == torch.bfloat16\n",
    "\n",
    "# Configure training parameters\n",
    "training_args = TrainingArguments(\n",
    "    seed = 42,\n",
    "    # Training-specific configurations\n",
    "    num_train_epochs=2,  # Total number of training epochs\n",
    "    # Number of samples per training batch for each device\n",
    "    per_device_train_batch_size=16,\n",
    "    # Number of samples per evaluation batch for each device\n",
    "    per_device_eval_batch_size=16,\n",
    "    gradient_accumulation_steps=2,\n",
    "    gradient_checkpointing=True,\n",
    "    gradient_checkpointing_kwargs={\"use_reentrant\":False},\n",
    "    # torch_empty_cache_steps=5,\n",
    "    weight_decay=0.0,  # Apply L2 regularization to prevent overfitting\n",
    "    learning_rate=1e-5,  # Step size for the optimizer during training\n",
    "    optim='adamw_torch',  # Optimizer,\n",
    "\n",
    "    # Checkpoint saving and model evaluation settings\n",
    "    output_dir=str(model_folder),  # Directory to save model checkpoints\n",
    "    eval_strategy='steps',  # Evaluate model at specified step intervals\n",
    "    eval_steps=20,  # Perform evaluation every 10 training steps\n",
    "    save_strategy=\"steps\",  # Save model checkpoint at specified step intervals\n",
    "    save_steps=20,  # Save a model checkpoint every 10 training steps\n",
    "    load_best_model_at_end=True,  # Reload the best model at the end of training\n",
    "    save_total_limit=2,  # Retain only the best and the most recent model checkpoints\n",
    "    # Use 'accuracy' as the metric to determine the best model\n",
    "    metric_for_best_model=\"eval_f1_macro\",\n",
    "    greater_is_better=True,  # A model is 'better' if its accuracy is higher\n",
    "\n",
    "\n",
    "    # Experiment logging configurations (commented out in this example)\n",
    "    logging_strategy='steps',\n",
    "    logging_steps=20,\n",
    "    report_to='wandb',  # Log metrics and results to Weights & Biases platform\n",
    "    run_name= run_name,  # Experiment name for Weights & Biases\n",
    "\n",
    "    # Precision settings determined based on GPU capability\n",
    "    fp16=use_fp16 ,  # Set True if torch_data_type is torch.float16\n",
    "    bf16=use_bf16,  # Set True if torch_data_type is torch.bfloat16\n",
    "    tf32=False,  # Disable tf32 unless you want to use Ampere specific optimization\n",
    ")\n"
   ]
  },
  {
   "cell_type": "code",
   "execution_count": 34,
   "id": "exUBN-oC51xA",
   "metadata": {
    "colab": {
     "base_uri": "https://localhost:8080/"
    },
    "id": "exUBN-oC51xA",
    "outputId": "6a05b493-5319-4670-e46d-71c1ce8e7481"
   },
   "outputs": [
    {
     "data": {
      "text/plain": [
       "LlamaConfig {\n",
       "  \"_name_or_path\": \"meta-llama/Llama-2-7b-chat-hf\",\n",
       "  \"architectures\": [\n",
       "    \"LlamaForCausalLM\"\n",
       "  ],\n",
       "  \"attention_bias\": false,\n",
       "  \"attention_dropout\": 0.0,\n",
       "  \"bos_token_id\": 1,\n",
       "  \"eos_token_id\": 2,\n",
       "  \"head_dim\": 128,\n",
       "  \"hidden_act\": \"silu\",\n",
       "  \"hidden_size\": 4096,\n",
       "  \"id2label\": {\n",
       "    \"0\": \"anger\",\n",
       "    \"1\": \"anticipation\",\n",
       "    \"2\": \"disgust\",\n",
       "    \"3\": \"fear\",\n",
       "    \"4\": \"joy\",\n",
       "    \"5\": \"love\",\n",
       "    \"6\": \"optimism\",\n",
       "    \"7\": \"pessimism\",\n",
       "    \"8\": \"sadness\",\n",
       "    \"9\": \"surprise\",\n",
       "    \"10\": \"trust\"\n",
       "  },\n",
       "  \"initializer_range\": 0.02,\n",
       "  \"intermediate_size\": 11008,\n",
       "  \"label2id\": {\n",
       "    \"anger\": 0,\n",
       "    \"anticipation\": 1,\n",
       "    \"disgust\": 2,\n",
       "    \"fear\": 3,\n",
       "    \"joy\": 4,\n",
       "    \"love\": 5,\n",
       "    \"optimism\": 6,\n",
       "    \"pessimism\": 7,\n",
       "    \"sadness\": 8,\n",
       "    \"surprise\": 9,\n",
       "    \"trust\": 10\n",
       "  },\n",
       "  \"max_position_embeddings\": 4096,\n",
       "  \"mlp_bias\": false,\n",
       "  \"model_type\": \"llama\",\n",
       "  \"num_attention_heads\": 32,\n",
       "  \"num_hidden_layers\": 32,\n",
       "  \"num_key_value_heads\": 32,\n",
       "  \"pretraining_tp\": 1,\n",
       "  \"rms_norm_eps\": 1e-05,\n",
       "  \"rope_scaling\": null,\n",
       "  \"rope_theta\": 10000.0,\n",
       "  \"tie_word_embeddings\": false,\n",
       "  \"torch_dtype\": \"float16\",\n",
       "  \"transformers_version\": \"4.46.3\",\n",
       "  \"use_cache\": false,\n",
       "  \"vocab_size\": 32000\n",
       "}"
      ]
     },
     "execution_count": 34,
     "metadata": {},
     "output_type": "execute_result"
    }
   ],
   "source": [
    "# If gradient checkpointing is enabled, configure relevant settings\n",
    "if training_args.gradient_checkpointing:\n",
    "    lora_model.config.use_cache = False  # Disable caching for compatibility\n",
    "\n",
    "lora_model.config"
   ]
  },
  {
   "cell_type": "code",
   "execution_count": 35,
   "id": "q4DJm0gngkhq",
   "metadata": {
    "id": "q4DJm0gngkhq"
   },
   "outputs": [],
   "source": [
    "def calculate_pos_weights(dataset):\n",
    "    # Extract the labels column\n",
    "    labels = dataset['labels']\n",
    "\n",
    "    # Convert to a tensor if not already\n",
    "    labels_tensor = torch.tensor(labels)\n",
    "\n",
    "    # Count the number of positive and negative samples per label\n",
    "    total_positives = torch.sum(labels_tensor, dim=0)\n",
    "    total_negatives = labels_tensor.shape[0] - total_positives\n",
    "\n",
    "    # Calculate positive weights for each label\n",
    "    pos_weight = total_negatives / torch.maximum(total_positives, torch.tensor(1.0))\n",
    "    return pos_weight\n"
   ]
  },
  {
   "cell_type": "code",
   "execution_count": 36,
   "id": "5cEvJ4G9kxlu",
   "metadata": {
    "colab": {
     "base_uri": "https://localhost:8080/"
    },
    "id": "5cEvJ4G9kxlu",
    "outputId": "ecc4e9e5-68a2-4168-e605-54dab9c7984a"
   },
   "outputs": [
    {
     "name": "stdout",
     "output_type": "stream",
     "text": [
      "tensor([ 1.7016,  6.0091,  1.6443,  4.6669,  1.6847,  8.2837,  2.3715,  7.6302,\n",
      "         2.3982, 18.5051, 18.3100])\n"
     ]
    },
    {
     "name": "stderr",
     "output_type": "stream",
     "text": [
      "<ipython-input-35-d109a72a6410>:6: UserWarning: To copy construct from a tensor, it is recommended to use sourceTensor.clone().detach() or sourceTensor.clone().detach().requires_grad_(True), rather than torch.tensor(sourceTensor).\n",
      "  labels_tensor = torch.tensor(labels)\n"
     ]
    }
   ],
   "source": [
    "# Calculate positive weights using the tokenized dataset\n",
    "pos_weights = calculate_pos_weights(tokenized_dataset)\n",
    "\n",
    "# Print the computed weights\n",
    "print(pos_weights)\n"
   ]
  },
  {
   "cell_type": "code",
   "execution_count": 37,
   "id": "AMFY94Ju_2aj",
   "metadata": {
    "colab": {
     "base_uri": "https://localhost:8080/"
    },
    "id": "AMFY94Ju_2aj",
    "outputId": "efb1f016-4b1b-4ebe-8b3e-6165304373de"
   },
   "outputs": [
    {
     "data": {
      "text/plain": [
       "tensor([ 1.7016,  6.0091,  1.6443,  4.6669,  1.6847,  8.2837,  2.3715,  7.6302,\n",
       "         2.3982, 18.5051, 18.3100])"
      ]
     },
     "execution_count": 37,
     "metadata": {},
     "output_type": "execute_result"
    }
   ],
   "source": [
    "pos_weights"
   ]
  },
  {
   "cell_type": "code",
   "execution_count": 38,
   "id": "syJ7458-On05",
   "metadata": {
    "id": "syJ7458-On05"
   },
   "outputs": [],
   "source": [
    "# initialize trainer\n",
    "class CustomTrainer(Trainer):\n",
    "    def compute_loss(self, model, inputs, return_outputs=False, num_items_in_batch=None):\n",
    "        labels = inputs.pop(\"labels\").float()  # Ensure labels are float for BCE loss\n",
    "        outputs = model(**inputs)\n",
    "        logits = outputs.get(\"logits\")\n",
    "\n",
    "        device = next(model.parameters()).device\n",
    "\n",
    "        loss_fct = nn.BCEWithLogitsLoss(pos_weight=pos_weights.to(device))\n",
    "        loss = loss_fct(logits, labels)\n",
    "\n",
    "        return (loss, outputs) if return_outputs else loss\n"
   ]
  },
  {
   "cell_type": "code",
   "execution_count": 39,
   "id": "7oT6Qs2UOIwI",
   "metadata": {
    "id": "7oT6Qs2UOIwI"
   },
   "outputs": [],
   "source": [
    "# Split the dataset into train and validation sets\n",
    "train_test_split = tokenized_dataset.train_test_split(test_size=0.2, seed=42)\n",
    "train_dataset = train_test_split['train']\n",
    "valid_dataset = train_test_split['test']\n"
   ]
  },
  {
   "cell_type": "code",
   "execution_count": 40,
   "id": "iEtX_DvoAoTn",
   "metadata": {
    "colab": {
     "base_uri": "https://localhost:8080/"
    },
    "id": "iEtX_DvoAoTn",
    "outputId": "d63aa074-9bad-4e8f-97a2-5118a9946412"
   },
   "outputs": [
    {
     "name": "stderr",
     "output_type": "stream",
     "text": [
      "<ipython-input-40-0004907d644f>:1: FutureWarning: `tokenizer` is deprecated and will be removed in version 5.0.0 for `CustomTrainer.__init__`. Use `processing_class` instead.\n",
      "  trainer = CustomTrainer(\n"
     ]
    }
   ],
   "source": [
    "trainer = CustomTrainer(\n",
    "    model=lora_model,\n",
    "    args=training_args,\n",
    "    train_dataset=train_dataset,\n",
    "    eval_dataset=valid_dataset,\n",
    "    compute_metrics=compute_metrics,\n",
    "    tokenizer=tokenizer,\n",
    ")\n"
   ]
  },
  {
   "cell_type": "code",
   "execution_count": 41,
   "id": "3N2HhLswONmP",
   "metadata": {
    "colab": {
     "base_uri": "https://localhost:8080/"
    },
    "id": "3N2HhLswONmP",
    "outputId": "bfbdaca2-00ae-4e2a-db9e-566233818f6b"
   },
   "outputs": [
    {
     "name": "stdout",
     "output_type": "stream",
     "text": [
      "Train Dataset: Dataset({\n",
      "    features: ['ID', 'labels', 'input_ids', 'attention_mask'],\n",
      "    num_rows: 6179\n",
      "})\n",
      "Validation Dataset: Dataset({\n",
      "    features: ['ID', 'labels', 'input_ids', 'attention_mask'],\n",
      "    num_rows: 1545\n",
      "})\n"
     ]
    }
   ],
   "source": [
    "print(\"Train Dataset:\", train_dataset)\n",
    "print(\"Validation Dataset:\", valid_dataset)\n"
   ]
  },
  {
   "cell_type": "code",
   "execution_count": 42,
   "id": "S8CaRySh81mi",
   "metadata": {
    "colab": {
     "base_uri": "https://localhost:8080/"
    },
    "id": "S8CaRySh81mi",
    "outputId": "c68b95b7-54d9-4cf8-8cfa-7ffc4cb64812"
   },
   "outputs": [
    {
     "name": "stdout",
     "output_type": "stream",
     "text": [
      "env: WANDB_PROJECT=multilabel_stack\n"
     ]
    }
   ],
   "source": [
    "%env WANDB_PROJECT = multilabel_stack"
   ]
  },
  {
   "cell_type": "code",
   "execution_count": 45,
   "id": "RVurPfZHvOKK",
   "metadata": {
    "colab": {
     "base_uri": "https://localhost:8080/",
     "height": 671
    },
    "id": "RVurPfZHvOKK",
    "outputId": "ede37add-514a-4dbc-bd07-12ba218cfe76"
   },
   "outputs": [
    {
     "data": {
      "text/html": [
       "\n",
       "    <div>\n",
       "      \n",
       "      <progress value='386' max='386' style='width:300px; height:20px; vertical-align: middle;'></progress>\n",
       "      [386/386 57:02, Epoch 1/2]\n",
       "    </div>\n",
       "    <table border=\"1\" class=\"dataframe\">\n",
       "  <thead>\n",
       " <tr style=\"text-align: left;\">\n",
       "      <th>Step</th>\n",
       "      <th>Training Loss</th>\n",
       "      <th>Validation Loss</th>\n",
       "      <th>F1 Micro</th>\n",
       "      <th>F1 Macro</th>\n",
       "      <th>Accuracy Label</th>\n",
       "      <th>Accuracy All</th>\n",
       "    </tr>\n",
       "  </thead>\n",
       "  <tbody>\n",
       "    <tr>\n",
       "      <td>20</td>\n",
       "      <td>1.655500</td>\n",
       "      <td>1.558344</td>\n",
       "      <td>0.336242</td>\n",
       "      <td>0.303897</td>\n",
       "      <td>0.530038</td>\n",
       "      <td>0.000000</td>\n",
       "    </tr>\n",
       "    <tr>\n",
       "      <td>40</td>\n",
       "      <td>1.496400</td>\n",
       "      <td>1.414479</td>\n",
       "      <td>0.341529</td>\n",
       "      <td>0.313119</td>\n",
       "      <td>0.536687</td>\n",
       "      <td>0.000647</td>\n",
       "    </tr>\n",
       "    <tr>\n",
       "      <td>60</td>\n",
       "      <td>1.337500</td>\n",
       "      <td>1.316902</td>\n",
       "      <td>0.371736</td>\n",
       "      <td>0.332268</td>\n",
       "      <td>0.590880</td>\n",
       "      <td>0.004531</td>\n",
       "    </tr>\n",
       "    <tr>\n",
       "      <td>80</td>\n",
       "      <td>1.256000</td>\n",
       "      <td>1.193877</td>\n",
       "      <td>0.392445</td>\n",
       "      <td>0.360346</td>\n",
       "      <td>0.600647</td>\n",
       "      <td>0.005178</td>\n",
       "    </tr>\n",
       "    <tr>\n",
       "      <td>100</td>\n",
       "      <td>1.179800</td>\n",
       "      <td>1.097289</td>\n",
       "      <td>0.431877</td>\n",
       "      <td>0.391490</td>\n",
       "      <td>0.638835</td>\n",
       "      <td>0.008414</td>\n",
       "    </tr>\n",
       "    <tr>\n",
       "      <td>120</td>\n",
       "      <td>1.073100</td>\n",
       "      <td>1.010114</td>\n",
       "      <td>0.482996</td>\n",
       "      <td>0.439752</td>\n",
       "      <td>0.663666</td>\n",
       "      <td>0.008414</td>\n",
       "    </tr>\n",
       "    <tr>\n",
       "      <td>140</td>\n",
       "      <td>0.992200</td>\n",
       "      <td>0.942908</td>\n",
       "      <td>0.496726</td>\n",
       "      <td>0.457813</td>\n",
       "      <td>0.692498</td>\n",
       "      <td>0.014239</td>\n",
       "    </tr>\n",
       "    <tr>\n",
       "      <td>160</td>\n",
       "      <td>0.935800</td>\n",
       "      <td>0.897432</td>\n",
       "      <td>0.507885</td>\n",
       "      <td>0.466686</td>\n",
       "      <td>0.676846</td>\n",
       "      <td>0.016181</td>\n",
       "    </tr>\n",
       "    <tr>\n",
       "      <td>180</td>\n",
       "      <td>0.878200</td>\n",
       "      <td>0.862056</td>\n",
       "      <td>0.550270</td>\n",
       "      <td>0.494776</td>\n",
       "      <td>0.730215</td>\n",
       "      <td>0.031715</td>\n",
       "    </tr>\n",
       "    <tr>\n",
       "      <td>200</td>\n",
       "      <td>0.820200</td>\n",
       "      <td>0.854359</td>\n",
       "      <td>0.566221</td>\n",
       "      <td>0.504811</td>\n",
       "      <td>0.747926</td>\n",
       "      <td>0.044013</td>\n",
       "    </tr>\n",
       "    <tr>\n",
       "      <td>220</td>\n",
       "      <td>0.775100</td>\n",
       "      <td>0.854830</td>\n",
       "      <td>0.596285</td>\n",
       "      <td>0.516027</td>\n",
       "      <td>0.777464</td>\n",
       "      <td>0.080259</td>\n",
       "    </tr>\n",
       "    <tr>\n",
       "      <td>240</td>\n",
       "      <td>0.762400</td>\n",
       "      <td>0.812674</td>\n",
       "      <td>0.567931</td>\n",
       "      <td>0.509482</td>\n",
       "      <td>0.750750</td>\n",
       "      <td>0.049191</td>\n",
       "    </tr>\n",
       "    <tr>\n",
       "      <td>260</td>\n",
       "      <td>0.737200</td>\n",
       "      <td>0.812781</td>\n",
       "      <td>0.590185</td>\n",
       "      <td>0.527957</td>\n",
       "      <td>0.774463</td>\n",
       "      <td>0.081553</td>\n",
       "    </tr>\n",
       "    <tr>\n",
       "      <td>280</td>\n",
       "      <td>0.724600</td>\n",
       "      <td>0.799309</td>\n",
       "      <td>0.593763</td>\n",
       "      <td>0.532067</td>\n",
       "      <td>0.771580</td>\n",
       "      <td>0.075728</td>\n",
       "    </tr>\n",
       "    <tr>\n",
       "      <td>300</td>\n",
       "      <td>0.747800</td>\n",
       "      <td>0.786949</td>\n",
       "      <td>0.575817</td>\n",
       "      <td>0.524864</td>\n",
       "      <td>0.759518</td>\n",
       "      <td>0.068608</td>\n",
       "    </tr>\n",
       "    <tr>\n",
       "      <td>320</td>\n",
       "      <td>0.688800</td>\n",
       "      <td>0.786255</td>\n",
       "      <td>0.601230</td>\n",
       "      <td>0.536066</td>\n",
       "      <td>0.778641</td>\n",
       "      <td>0.076375</td>\n",
       "    </tr>\n",
       "    <tr>\n",
       "      <td>340</td>\n",
       "      <td>0.718400</td>\n",
       "      <td>0.784897</td>\n",
       "      <td>0.596669</td>\n",
       "      <td>0.534949</td>\n",
       "      <td>0.774875</td>\n",
       "      <td>0.077023</td>\n",
       "    </tr>\n",
       "    <tr>\n",
       "      <td>360</td>\n",
       "      <td>0.663100</td>\n",
       "      <td>0.777712</td>\n",
       "      <td>0.600402</td>\n",
       "      <td>0.535799</td>\n",
       "      <td>0.777876</td>\n",
       "      <td>0.082848</td>\n",
       "    </tr>\n",
       "    <tr>\n",
       "      <td>380</td>\n",
       "      <td>0.694900</td>\n",
       "      <td>0.774932</td>\n",
       "      <td>0.601738</td>\n",
       "      <td>0.536653</td>\n",
       "      <td>0.778876</td>\n",
       "      <td>0.081553</td>\n",
       "    </tr>\n",
       "  </tbody>\n",
       "</table><p>"
      ],
      "text/plain": [
       "<IPython.core.display.HTML object>"
      ]
     },
     "metadata": {},
     "output_type": "display_data"
    }
   ],
   "source": [
    "# Check and set padding token for tokenizer\n",
    "if tokenizer.pad_token is None:\n",
    "    tokenizer.pad_token = tokenizer.eos_token\n",
    "\n",
    "if tokenizer.pad_token is None:\n",
    "    tokenizer.add_special_tokens({'pad_token': '[PAD]'})\n",
    "\n",
    "# Resize token embeddings to include new special tokens\n",
    "model.resize_token_embeddings(len(tokenizer))\n",
    "\n",
    "# Ensure model configuration has the padding token\n",
    "if model.config.pad_token_id is None:\n",
    "    model.config.pad_token_id = tokenizer.pad_token_id\n",
    "try:\n",
    "    # Your code that may cause a CUDA out-of-memory error\n",
    "    # Example: trainer.train() or other GPU intensive operations\n",
    "    # lora_model.config.use_cache = False\n",
    "    trainer.train()\n",
    "except RuntimeError as e:\n",
    "    if 'CUDA out of memory' in str(e):\n",
    "        print(\"CUDA out of memory error detected. Freeing GPU memory.\")\n",
    "        free_gpu_memory()\n",
    "        # Optionally, you can retry the operation here after freeing up memory\n",
    "        # Example retry:\n",
    "        # trainer.train()\n",
    "    else:\n",
    "        raise e\n"
   ]
  },
  {
   "cell_type": "code",
   "execution_count": 46,
   "id": "a44ccd78",
   "metadata": {
    "colab": {
     "base_uri": "https://localhost:8080/",
     "height": 37
    },
    "id": "a44ccd78",
    "outputId": "c4585277-6cee-4590-8934-11ea4df5aed3"
   },
   "outputs": [
    {
     "data": {
      "text/html": [
       "\n",
       "    <div>\n",
       "      \n",
       "      <progress value='97' max='97' style='width:300px; height:20px; vertical-align: middle;'></progress>\n",
       "      [97/97 01:13]\n",
       "    </div>\n",
       "    "
      ],
      "text/plain": [
       "<IPython.core.display.HTML object>"
      ]
     },
     "metadata": {},
     "output_type": "display_data"
    }
   ],
   "source": [
    "eval_results = trainer.evaluate(valid_dataset)\n"
   ]
  },
  {
   "cell_type": "code",
   "execution_count": 47,
   "id": "f7be8fca",
   "metadata": {
    "colab": {
     "base_uri": "https://localhost:8080/"
    },
    "id": "f7be8fca",
    "outputId": "645cb38d-e484-4179-8257-d9cf98d2b99f"
   },
   "outputs": [
    {
     "data": {
      "text/plain": [
       "{'eval_loss': 0.7749324440956116,\n",
       " 'eval_f1_micro': 0.6017380245866892,\n",
       " 'eval_f1_macro': 0.536652521028135,\n",
       " 'eval_accuracy_label': 0.7788761400411885,\n",
       " 'eval_accuracy_all': 0.08155339805825243,\n",
       " 'eval_runtime': 74.949,\n",
       " 'eval_samples_per_second': 20.614,\n",
       " 'eval_steps_per_second': 1.294,\n",
       " 'epoch': 1.994832041343669}"
      ]
     },
     "execution_count": 47,
     "metadata": {},
     "output_type": "execute_result"
    }
   ],
   "source": [
    "eval_results"
   ]
  },
  {
   "cell_type": "code",
   "execution_count": 48,
   "id": "0256c431",
   "metadata": {
    "id": "0256c431"
   },
   "outputs": [],
   "source": [
    "wandb.log({\"eval_f1_macro\": eval_results[\"eval_f1_macro\"], \"eval_loss\": eval_results[\"eval_loss\"], \"eval_accuracy\": eval_results[\"eval_accuracy_all\"]})"
   ]
  },
  {
   "cell_type": "code",
   "execution_count": 49,
   "id": "Ws0NwTy5YMxl",
   "metadata": {
    "colab": {
     "base_uri": "https://localhost:8080/",
     "height": 34
    },
    "id": "Ws0NwTy5YMxl",
    "outputId": "60b18878-29c5-4b49-a017-3bffe6941156"
   },
   "outputs": [
    {
     "data": {
      "text/html": [],
      "text/plain": [
       "<IPython.core.display.HTML object>"
      ]
     },
     "metadata": {},
     "output_type": "display_data"
    },
    {
     "name": "stdout",
     "output_type": "stream",
     "text": [
      "Predictions complete.\n"
     ]
    }
   ],
   "source": [
    "from scipy.special import expit as sigmoid\n",
    "\n",
    "# Get predictions\n",
    "valid_output = trainer.predict(valid_dataset)\n",
    "\n",
    "# Get probabilities from logits\n",
    "valid_logits = valid_output.predictions\n",
    "valid_probs = sigmoid(valid_logits)\n",
    "\n",
    "# Get true labels\n",
    "valid_labels = np.array(valid_output.label_ids.astype(int))\n",
    "\n",
    "print(\"Predictions complete.\")\n"
   ]
  },
  {
   "cell_type": "code",
   "execution_count": 50,
   "id": "yLhlAt7zZdEg",
   "metadata": {
    "colab": {
     "base_uri": "https://localhost:8080/"
    },
    "id": "yLhlAt7zZdEg",
    "outputId": "20148cb8-e029-4b43-a1c2-73320fd42b5b"
   },
   "outputs": [
    {
     "data": {
      "text/plain": [
       "(1545, 11)"
      ]
     },
     "execution_count": 50,
     "metadata": {},
     "output_type": "execute_result"
    }
   ],
   "source": [
    "valid_logits.shape"
   ]
  },
  {
   "cell_type": "code",
   "execution_count": 51,
   "id": "XGOPlFfDZhke",
   "metadata": {
    "colab": {
     "base_uri": "https://localhost:8080/"
    },
    "id": "XGOPlFfDZhke",
    "outputId": "9b156a6a-56c6-44d5-968c-fb5c8663c5fe"
   },
   "outputs": [
    {
     "data": {
      "text/plain": [
       "(1545, 11)"
      ]
     },
     "execution_count": 51,
     "metadata": {},
     "output_type": "execute_result"
    }
   ],
   "source": [
    "valid_probs.shape"
   ]
  },
  {
   "cell_type": "code",
   "execution_count": 52,
   "id": "vF_l3DqpZmB6",
   "metadata": {
    "colab": {
     "base_uri": "https://localhost:8080/"
    },
    "id": "vF_l3DqpZmB6",
    "outputId": "97ff6807-eabf-4829-d3eb-a0975a77bc8f"
   },
   "outputs": [
    {
     "data": {
      "text/plain": [
       "(1545, 11)"
      ]
     },
     "execution_count": 52,
     "metadata": {},
     "output_type": "execute_result"
    }
   ],
   "source": [
    "valid_labels.shape"
   ]
  },
  {
   "cell_type": "code",
   "execution_count": 53,
   "id": "CAB8se7jJQ4g",
   "metadata": {
    "id": "CAB8se7jJQ4g"
   },
   "outputs": [],
   "source": [
    "def find_best_thresholds_multilabel(probabilities, labels):\n",
    "    \"\"\"\n",
    "    Find best threshold for each label that maximizes F1 score\n",
    "\n",
    "    Args:\n",
    "        probabilities: Array of shape (n_samples, n_labels) with predicted probabilities\n",
    "        labels: Array of shape (n_samples, n_labels) with true binary labels\n",
    "\n",
    "    Returns:\n",
    "        thresholds: List of best thresholds for each label\n",
    "        metrics: Dictionary containing best F1, precision, and recall for each label\n",
    "    \"\"\"\n",
    "    n_labels = labels.shape[1]\n",
    "    best_thresholds = []\n",
    "    metrics = {}\n",
    "\n",
    "    for label_idx in range(n_labels):\n",
    "        # Get scores and labels for this label\n",
    "        label_scores = probabilities[:, label_idx]\n",
    "        label_true = labels[:, label_idx]\n",
    "\n",
    "        # Sort by scores\n",
    "        rows = list(zip(label_scores, label_true))\n",
    "        rows = sorted(rows, key=lambda x: x[0], reverse=True)\n",
    "\n",
    "        # Initialize metrics\n",
    "        best_f1 = best_precision = best_recall = 0\n",
    "        threshold = 0\n",
    "\n",
    "        # Count total positives for this label\n",
    "        total_positives = sum(label_true)\n",
    "\n",
    "        # Initialize counters\n",
    "        total_predicted_positives = 0\n",
    "        true_positives = 0\n",
    "\n",
    "        # print(f\"\\nAnalyzing label {label_idx}\")\n",
    "\n",
    "        # Try different thresholds\n",
    "        for i in range(len(rows) - 1):\n",
    "            score, label = rows[i]\n",
    "            total_predicted_positives += 1\n",
    "            if label == 1:\n",
    "                true_positives += 1\n",
    "\n",
    "            if true_positives > 0:\n",
    "                precision = true_positives / total_predicted_positives\n",
    "                recall = true_positives / total_positives\n",
    "                f1 = 2 * precision * recall / (precision + recall)\n",
    "\n",
    "                # Update best metrics if current F1 is better\n",
    "                if f1 > best_f1:\n",
    "                    best_f1 = f1\n",
    "                    best_precision = precision\n",
    "                    best_recall = recall\n",
    "                    threshold = (rows[i][0] + rows[i + 1][0]) / 2\n",
    "\n",
    "                    # print(f\"New best threshold found: {threshold:.3f}\")\n",
    "                    # print(f\"F1: {best_f1:.3f}, Precision: {best_precision:.3f}, Recall: {best_recall:.3f}\")\n",
    "\n",
    "        best_thresholds.append(threshold)\n",
    "        metrics[label_idx] = {\n",
    "            'f1': best_f1,\n",
    "            'precision': best_precision,\n",
    "            'recall': best_recall,\n",
    "            'threshold': threshold\n",
    "        }\n",
    "\n",
    "\n",
    "    return best_thresholds, metrics\n",
    "\n"
   ]
  },
  {
   "cell_type": "code",
   "execution_count": 54,
   "id": "ACXlxJL9GFLS",
   "metadata": {
    "id": "ACXlxJL9GFLS"
   },
   "outputs": [],
   "source": [
    "optimal_thresholds, metrics = find_best_thresholds_multilabel(valid_probs, valid_labels)\n"
   ]
  },
  {
   "cell_type": "code",
   "execution_count": 55,
   "id": "r75cqpjfJhTn",
   "metadata": {
    "colab": {
     "base_uri": "https://localhost:8080/"
    },
    "id": "r75cqpjfJhTn",
    "outputId": "98caaa6b-75fa-4624-f26b-e0d8d735a13a"
   },
   "outputs": [
    {
     "data": {
      "text/plain": [
       "[0.5145827531814575,\n",
       " 0.5925798416137695,\n",
       " 0.4987187683582306,\n",
       " 0.6284745931625366,\n",
       " 0.45509225130081177,\n",
       " 0.6458854079246521,\n",
       " 0.5841249823570251,\n",
       " 0.7430374622344971,\n",
       " 0.5211197137832642,\n",
       " 0.7597267031669617,\n",
       " 0.7230435609817505]"
      ]
     },
     "execution_count": 55,
     "metadata": {},
     "output_type": "execute_result"
    }
   ],
   "source": [
    "optimal_thresholds"
   ]
  },
  {
   "cell_type": "code",
   "execution_count": 56,
   "id": "B7gytFy9Csdv",
   "metadata": {
    "id": "B7gytFy9Csdv"
   },
   "outputs": [],
   "source": [
    "accuracy = evaluate.load('accuracy', 'multilabel')\n",
    "f1 = evaluate.load('f1','multilabel')\n",
    "accuracy_flatten = evaluate.load('accuracy')\n",
    "def compute_metrics(eval_pred, thresholds):\n",
    "    # accuracy_metric = evaluate.load('accuracy', 'multilabel')\n",
    "\n",
    "    logits, labels = eval_pred\n",
    "    probs = sigmoid(logits)\n",
    "    preds = (probs > thresholds).astype(int)\n",
    "    accuracy_label = accuracy_flatten.compute(predictions=preds.flatten(), references=labels.flatten())\n",
    "    accuracy_all = accuracy.compute(predictions=preds, references=labels)\n",
    "    f1_micro = f1.compute(predictions=preds, references=labels, average='micro')\n",
    "    f1_macro = f1.compute(predictions=preds, references=labels, average='macro')\n",
    "    return {'f1_micro':f1_micro['f1'],\n",
    "            'f1_macro':f1_macro['f1'],\n",
    "            'accuracy_label':accuracy_label['accuracy'],\n",
    "             'accuracy_all':accuracy_all['accuracy']}"
   ]
  },
  {
   "cell_type": "code",
   "execution_count": 57,
   "id": "-xvvtG27KjTL",
   "metadata": {
    "colab": {
     "base_uri": "https://localhost:8080/"
    },
    "id": "-xvvtG27KjTL",
    "outputId": "21d78d58-bc29-4266-ed75-472d3a16b50b"
   },
   "outputs": [
    {
     "data": {
      "text/plain": [
       "{'f1_micro': 0.65703086722195,\n",
       " 'f1_macro': 0.5725937000619555,\n",
       " 'accuracy_label': 0.8352456604883789,\n",
       " 'accuracy_all': 0.14498381877022654}"
      ]
     },
     "execution_count": 57,
     "metadata": {},
     "output_type": "execute_result"
    }
   ],
   "source": [
    "compute_metrics((valid_logits, valid_labels), optimal_thresholds)"
   ]
  },
  {
   "cell_type": "code",
   "execution_count": 58,
   "id": "5R6KyoRIaXYt",
   "metadata": {
    "colab": {
     "base_uri": "https://localhost:8080/"
    },
    "id": "5R6KyoRIaXYt",
    "outputId": "9eb4e28c-93f4-453c-f54f-435ca77668b6"
   },
   "outputs": [
    {
     "name": "stdout",
     "output_type": "stream",
     "text": [
      "[[[ 806  186]\n",
      "  [  87  466]]\n",
      "\n",
      " [[1063  271]\n",
      "  [ 108  103]]\n",
      "\n",
      " [[ 758  196]\n",
      "  [ 116  475]]\n",
      "\n",
      " [[1167   99]\n",
      "  [  92  187]]\n",
      "\n",
      " [[ 797  164]\n",
      "  [  81  503]]\n",
      "\n",
      " [[1224  145]\n",
      "  [  53  123]]\n",
      "\n",
      " [[ 889  183]\n",
      "  [ 120  353]]\n",
      "\n",
      " [[1249  115]\n",
      "  [ 100   81]]\n",
      "\n",
      " [[ 866  256]\n",
      "  [ 106  317]]\n",
      "\n",
      " [[1396   67]\n",
      "  [  53   29]]\n",
      "\n",
      " [[1298  153]\n",
      "  [  49   45]]]\n"
     ]
    }
   ],
   "source": [
    "valid_preds = (valid_probs > optimal_thresholds).astype(int)\n",
    "mcm = multilabel_confusion_matrix(valid_labels, valid_preds)\n",
    "print(mcm)"
   ]
  },
  {
   "cell_type": "code",
   "execution_count": 59,
   "id": "F1zNKkePcyCF",
   "metadata": {
    "id": "F1zNKkePcyCF"
   },
   "outputs": [],
   "source": [
    "def multilabel_evaluation(y_true, y_pred, class_names=None, figsize=(12, 8)):\n",
    "    \"\"\"\n",
    "    Generate comprehensive evaluation visualizations for multilabel classification results.\n",
    "\n",
    "    Parameters:\n",
    "    -----------\n",
    "    y_true : array-like\n",
    "        True labels (n_samples, n_classes)\n",
    "    y_pred : array-like\n",
    "        Predicted labels (n_samples, n_classes)\n",
    "    class_names : list, optional\n",
    "        List of class names for better visualization\n",
    "    figsize : tuple, optional\n",
    "        Base figure size for plots (width, height)\n",
    "\n",
    "    Returns:\n",
    "    --------\n",
    "    dict\n",
    "        Dictionary containing the computed metrics for each class\n",
    "    \"\"\"\n",
    "    # Validate inputs\n",
    "    y_true = np.array(y_true)\n",
    "    y_pred = np.array(y_pred)\n",
    "\n",
    "    if y_true.shape != y_pred.shape:\n",
    "        raise ValueError(\"y_true and y_pred must have the same shape\")\n",
    "\n",
    "    # Generate class names if not provided\n",
    "    if class_names is None:\n",
    "        class_names = [f'Class {i}' for i in range(y_true.shape[1])]\n",
    "\n",
    "    # Calculate confusion matrices\n",
    "    mcm = multilabel_confusion_matrix(y_true, y_pred)\n",
    "\n",
    "    # 1. Individual Confusion Matrix Heatmaps\n",
    "    n_classes = len(class_names)\n",
    "    n_cols = min(3, n_classes)\n",
    "    n_rows = (n_classes + n_cols - 1) // n_cols\n",
    "\n",
    "    plt.figure(figsize=(figsize[0], figsize[1] * n_rows/2))\n",
    "    for idx, matrix in enumerate(mcm):\n",
    "        plt.subplot(n_rows, n_cols, idx + 1)\n",
    "        sns.heatmap(matrix, annot=True, fmt='g', cmap='Blues',\n",
    "                    xticklabels=['Pred Neg', 'Pred Pos'],\n",
    "                    yticklabels=['True Neg', 'True Pos'])\n",
    "        plt.title(f'{class_names[idx]}')\n",
    "    plt.tight_layout()\n",
    "    plt.show()\n",
    "\n",
    "    # 2. Calculate and plot aggregate metrics\n",
    "    metrics = {\n",
    "        'Precision': precision_score(y_true, y_pred, average=None),\n",
    "        'Recall': recall_score(y_true, y_pred, average=None),\n",
    "        'F1-Score': f1_score(y_true, y_pred, average=None)\n",
    "    }\n",
    "\n",
    "    metrics_df = pd.DataFrame(metrics, index=class_names)\n",
    "\n",
    "    # Metrics Heatmap\n",
    "    plt.figure(figsize=(figsize[0]/1.5, figsize[1]/1.5))\n",
    "    sns.heatmap(metrics_df, annot=True, fmt='.3f', cmap='Blues')\n",
    "    plt.title('Performance Metrics by Class')\n",
    "    plt.tight_layout()\n",
    "    plt.show()\n",
    "\n",
    "    # 3. Metrics Histogram\n",
    "    plt.figure(figsize=(figsize[0], figsize[1]/1.5))\n",
    "    metrics_df.plot(kind='bar', width=0.8)\n",
    "    plt.xlabel('Classes')\n",
    "    plt.ylabel('Score')\n",
    "    plt.title('Precision, Recall, and F1-Score by Class')\n",
    "    plt.legend(bbox_to_anchor=(1.05, 1), loc='upper left')\n",
    "    plt.tight_layout()\n",
    "    plt.show()\n",
    "\n",
    "    # 4. Calculate and return summary statistics\n",
    "    summary_stats = {\n",
    "        'macro_avg': {\n",
    "            'precision': np.mean(metrics['Precision']),\n",
    "            'recall': np.mean(metrics['Recall']),\n",
    "            'f1': np.mean(metrics['F1-Score'])\n",
    "        },\n",
    "        'per_class': metrics_df.to_dict()\n",
    "    }\n",
    "\n",
    "    return summary_stats\n"
   ]
  },
  {
   "cell_type": "code",
   "execution_count": 60,
   "id": "Kw3I8Iohc2Ix",
   "metadata": {
    "colab": {
     "base_uri": "https://localhost:8080/",
     "height": 1000
    },
    "id": "Kw3I8Iohc2Ix",
    "outputId": "8ce47f2e-e45f-477f-ad48-359b488e65b5"
   },
   "outputs": [
    {
     "data": {
      "image/png": "[encoded data removed]",
      "text/plain": [
       "<Figure size 1200x1600 with 22 Axes>"
      ]
     },
     "metadata": {},
     "output_type": "display_data"
    },
    {
     "data": {
      "image/png": "[encoded data removed]",
      "text/plain": [
       "<Figure size 800x533.333 with 2 Axes>"
      ]
     },
     "metadata": {},
     "output_type": "display_data"
    },
    {
     "data": {
      "text/plain": [
       "<Figure size 1200x533.333 with 0 Axes>"
      ]
     },
     "metadata": {},
     "output_type": "display_data"
    },
    {
     "data": {
      "image/png": "[encoded data removed]",
      "text/plain": [
       "<Figure size 640x480 with 1 Axes>"
      ]
     },
     "metadata": {},
     "output_type": "display_data"
    },
    {
     "data": {
      "text/plain": [
       "{'macro_avg': {'precision': 0.5199436407679179,\n",
       "  'recall': 0.6491428476523672,\n",
       "  'f1': 0.5725937000619555},\n",
       " 'per_class': {'Precision': {'anger': 0.7147239263803681,\n",
       "   'anticipation': 0.27540106951871657,\n",
       "   'disgust': 0.7078986587183308,\n",
       "   'fear': 0.6538461538461539,\n",
       "   'joy': 0.7541229385307346,\n",
       "   'love': 0.458955223880597,\n",
       "   'optimism': 0.6585820895522388,\n",
       "   'pessimism': 0.413265306122449,\n",
       "   'sadness': 0.5532286212914486,\n",
       "   'surprise': 0.3020833333333333,\n",
       "   'trust': 0.22727272727272727},\n",
       "  'Recall': {'anger': 0.8426763110307414,\n",
       "   'anticipation': 0.4881516587677725,\n",
       "   'disgust': 0.8037225042301185,\n",
       "   'fear': 0.6702508960573477,\n",
       "   'joy': 0.8613013698630136,\n",
       "   'love': 0.6988636363636364,\n",
       "   'optimism': 0.7463002114164905,\n",
       "   'pessimism': 0.44751381215469616,\n",
       "   'sadness': 0.7494089834515366,\n",
       "   'surprise': 0.35365853658536583,\n",
       "   'trust': 0.4787234042553192},\n",
       "  'F1-Score': {'anger': 0.7734439834024897,\n",
       "   'anticipation': 0.35213675213675216,\n",
       "   'disgust': 0.7527733755942948,\n",
       "   'fear': 0.6619469026548672,\n",
       "   'joy': 0.8041566746602717,\n",
       "   'love': 0.5540540540540541,\n",
       "   'optimism': 0.6997026759167493,\n",
       "   'pessimism': 0.4297082228116711,\n",
       "   'sadness': 0.6365461847389559,\n",
       "   'surprise': 0.3258426966292135,\n",
       "   'trust': 0.3082191780821918}}}"
      ]
     },
     "execution_count": 60,
     "metadata": {},
     "output_type": "execute_result"
    }
   ],
   "source": [
    "multilabel_evaluation(y_true=valid_labels, y_pred=valid_preds, class_names=class_names, figsize=(12, 8))"
   ]
  },
  {
   "cell_type": "code",
   "execution_count": 61,
   "id": "42a722fd",
   "metadata": {
    "colab": {
     "base_uri": "https://localhost:8080/"
    },
    "id": "42a722fd",
    "outputId": "1f33b185-bc7b-48bb-ab99-6a65ab60f8fa"
   },
   "outputs": [
    {
     "name": "stdout",
     "output_type": "stream",
     "text": [
      "The best model was saved at step 380.\n"
     ]
    }
   ],
   "source": [
    "# After training, let us check the best checkpoint\n",
    "# We need this for Inference\n",
    "best_model_checkpoint_step = trainer.state.best_model_checkpoint.split('-')[-1]\n",
    "print(f\"The best model was saved at step {best_model_checkpoint_step}.\")\n"
   ]
  },
  {
   "cell_type": "code",
   "execution_count": 62,
   "id": "fqE61RTEqdMw",
   "metadata": {
    "colab": {
     "base_uri": "https://localhost:8080/",
     "height": 35
    },
    "id": "fqE61RTEqdMw",
    "outputId": "3050a7f8-6562-480c-ca1c-43493fa9d568"
   },
   "outputs": [
    {
     "data": {
      "application/vnd.google.colaboratory.intrinsic+json": {
       "type": "string"
      },
      "text/plain": [
       "'/content/gemma_lora_imb/checkpoint-380'"
      ]
     },
     "execution_count": 62,
     "metadata": {},
     "output_type": "execute_result"
    }
   ],
   "source": [
    "checkpoint = str(model_folder/f'checkpoint-{best_model_checkpoint_step}')\n",
    "checkpoint"
   ]
  },
  {
   "cell_type": "code",
   "execution_count": 63,
   "id": "Cl-9gMcb0hGQ",
   "metadata": {
    "id": "Cl-9gMcb0hGQ"
   },
   "outputs": [],
   "source": [
    "from peft import AutoPeftModelForSequenceClassification, PeftConfig"
   ]
  },
  {
   "cell_type": "code",
   "execution_count": 64,
   "id": "TkRVDOHW2EeH",
   "metadata": {
    "colab": {
     "base_uri": "https://localhost:8080/",
     "height": 1000,
     "referenced_widgets": [
      "fcba2b1d48ea4643818f55059bd2dfeb",
      "d1645a109dca4121ac7ea7f2ba549b9d",
      "377f26c2c4f2406d9f5072dcee2a6056",
      "df1990f9e11d4f33aa71cba31ba9f29c",
      "8d6d8acdfa3947ee8748f84893da8d26",
      "edad980cf71746e5b41835f178a61a30",
      "b3720cab402d4f77905e15b1abf085f8",
      "92fa5b2775af4531ad299b36ed2d3795",
      "fb37ae4438e64c419b08e90ece65f846",
      "b5adc779444c4335a10d8583e52cb7aa",
      "b9d6a6f2a3cc47ec9b913ee7aa4855a4"
     ]
    },
    "id": "TkRVDOHW2EeH",
    "outputId": "1b2d812d-50f5-4208-ead3-17a843769b5f"
   },
   "outputs": [
    {
     "name": "stderr",
     "output_type": "stream",
     "text": [
      "`low_cpu_mem_usage` was None, now default to True since model is quantized.\n"
     ]
    },
    {
     "data": {
      "application/vnd.jupyter.widget-view+json": {
       "model_id": "fcba2b1d48ea4643818f55059bd2dfeb",
       "version_major": 2,
       "version_minor": 0
      },
      "text/plain": [
       "Loading checkpoint shards:   0%|          | 0/2 [00:00<?, ?it/s]"
      ]
     },
     "metadata": {},
     "output_type": "display_data"
    },
    {
     "name": "stderr",
     "output_type": "stream",
     "text": [
      "Some weights of LlamaForSequenceClassification were not initialized from the model checkpoint at meta-llama/Llama-2-7b-chat-hf and are newly initialized: ['score.weight']\n",
      "You should probably TRAIN this model on a down-stream task to be able to use it for predictions and inference.\n"
     ]
    },
    {
     "data": {
      "text/plain": [
       "PeftModelForSequenceClassification(\n",
       "  (base_model): LoraModel(\n",
       "    (model): LlamaForSequenceClassification(\n",
       "      (model): LlamaModel(\n",
       "        (embed_tokens): Embedding(32000, 4096)\n",
       "        (layers): ModuleList(\n",
       "          (0-31): 32 x LlamaDecoderLayer(\n",
       "            (self_attn): LlamaSdpaAttention(\n",
       "              (q_proj): lora.Linear4bit(\n",
       "                (base_layer): Linear4bit(in_features=4096, out_features=4096, bias=False)\n",
       "                (lora_dropout): ModuleDict(\n",
       "                  (default): Dropout(p=0.01, inplace=False)\n",
       "                )\n",
       "                (lora_A): ModuleDict(\n",
       "                  (default): Linear(in_features=4096, out_features=128, bias=False)\n",
       "                )\n",
       "                (lora_B): ModuleDict(\n",
       "                  (default): Linear(in_features=128, out_features=4096, bias=False)\n",
       "                )\n",
       "                (lora_embedding_A): ParameterDict()\n",
       "                (lora_embedding_B): ParameterDict()\n",
       "                (lora_magnitude_vector): ModuleDict()\n",
       "              )\n",
       "              (k_proj): lora.Linear4bit(\n",
       "                (base_layer): Linear4bit(in_features=4096, out_features=4096, bias=False)\n",
       "                (lora_dropout): ModuleDict(\n",
       "                  (default): Dropout(p=0.01, inplace=False)\n",
       "                )\n",
       "                (lora_A): ModuleDict(\n",
       "                  (default): Linear(in_features=4096, out_features=128, bias=False)\n",
       "                )\n",
       "                (lora_B): ModuleDict(\n",
       "                  (default): Linear(in_features=128, out_features=4096, bias=False)\n",
       "                )\n",
       "                (lora_embedding_A): ParameterDict()\n",
       "                (lora_embedding_B): ParameterDict()\n",
       "                (lora_magnitude_vector): ModuleDict()\n",
       "              )\n",
       "              (v_proj): lora.Linear4bit(\n",
       "                (base_layer): Linear4bit(in_features=4096, out_features=4096, bias=False)\n",
       "                (lora_dropout): ModuleDict(\n",
       "                  (default): Dropout(p=0.01, inplace=False)\n",
       "                )\n",
       "                (lora_A): ModuleDict(\n",
       "                  (default): Linear(in_features=4096, out_features=128, bias=False)\n",
       "                )\n",
       "                (lora_B): ModuleDict(\n",
       "                  (default): Linear(in_features=128, out_features=4096, bias=False)\n",
       "                )\n",
       "                (lora_embedding_A): ParameterDict()\n",
       "                (lora_embedding_B): ParameterDict()\n",
       "                (lora_magnitude_vector): ModuleDict()\n",
       "              )\n",
       "              (o_proj): lora.Linear4bit(\n",
       "                (base_layer): Linear4bit(in_features=4096, out_features=4096, bias=False)\n",
       "                (lora_dropout): ModuleDict(\n",
       "                  (default): Dropout(p=0.01, inplace=False)\n",
       "                )\n",
       "                (lora_A): ModuleDict(\n",
       "                  (default): Linear(in_features=4096, out_features=128, bias=False)\n",
       "                )\n",
       "                (lora_B): ModuleDict(\n",
       "                  (default): Linear(in_features=128, out_features=4096, bias=False)\n",
       "                )\n",
       "                (lora_embedding_A): ParameterDict()\n",
       "                (lora_embedding_B): ParameterDict()\n",
       "                (lora_magnitude_vector): ModuleDict()\n",
       "              )\n",
       "              (rotary_emb): LlamaRotaryEmbedding()\n",
       "            )\n",
       "            (mlp): LlamaMLP(\n",
       "              (gate_proj): lora.Linear4bit(\n",
       "                (base_layer): Linear4bit(in_features=4096, out_features=11008, bias=False)\n",
       "                (lora_dropout): ModuleDict(\n",
       "                  (default): Dropout(p=0.01, inplace=False)\n",
       "                )\n",
       "                (lora_A): ModuleDict(\n",
       "                  (default): Linear(in_features=4096, out_features=128, bias=False)\n",
       "                )\n",
       "                (lora_B): ModuleDict(\n",
       "                  (default): Linear(in_features=128, out_features=11008, bias=False)\n",
       "                )\n",
       "                (lora_embedding_A): ParameterDict()\n",
       "                (lora_embedding_B): ParameterDict()\n",
       "                (lora_magnitude_vector): ModuleDict()\n",
       "              )\n",
       "              (up_proj): lora.Linear4bit(\n",
       "                (base_layer): Linear4bit(in_features=4096, out_features=11008, bias=False)\n",
       "                (lora_dropout): ModuleDict(\n",
       "                  (default): Dropout(p=0.01, inplace=False)\n",
       "                )\n",
       "                (lora_A): ModuleDict(\n",
       "                  (default): Linear(in_features=4096, out_features=128, bias=False)\n",
       "                )\n",
       "                (lora_B): ModuleDict(\n",
       "                  (default): Linear(in_features=128, out_features=11008, bias=False)\n",
       "                )\n",
       "                (lora_embedding_A): ParameterDict()\n",
       "                (lora_embedding_B): ParameterDict()\n",
       "                (lora_magnitude_vector): ModuleDict()\n",
       "              )\n",
       "              (down_proj): lora.Linear4bit(\n",
       "                (base_layer): Linear4bit(in_features=11008, out_features=4096, bias=False)\n",
       "                (lora_dropout): ModuleDict(\n",
       "                  (default): Dropout(p=0.01, inplace=False)\n",
       "                )\n",
       "                (lora_A): ModuleDict(\n",
       "                  (default): Linear(in_features=11008, out_features=128, bias=False)\n",
       "                )\n",
       "                (lora_B): ModuleDict(\n",
       "                  (default): Linear(in_features=128, out_features=4096, bias=False)\n",
       "                )\n",
       "                (lora_embedding_A): ParameterDict()\n",
       "                (lora_embedding_B): ParameterDict()\n",
       "                (lora_magnitude_vector): ModuleDict()\n",
       "              )\n",
       "              (act_fn): SiLU()\n",
       "            )\n",
       "            (input_layernorm): LlamaRMSNorm((4096,), eps=1e-05)\n",
       "            (post_attention_layernorm): LlamaRMSNorm((4096,), eps=1e-05)\n",
       "          )\n",
       "        )\n",
       "        (norm): LlamaRMSNorm((4096,), eps=1e-05)\n",
       "        (rotary_emb): LlamaRotaryEmbedding()\n",
       "      )\n",
       "      (score): ModulesToSaveWrapper(\n",
       "        (original_module): Linear(in_features=4096, out_features=11, bias=False)\n",
       "        (modules_to_save): ModuleDict(\n",
       "          (default): Linear(in_features=4096, out_features=11, bias=False)\n",
       "        )\n",
       "      )\n",
       "    )\n",
       "  )\n",
       ")"
      ]
     },
     "execution_count": 64,
     "metadata": {},
     "output_type": "execute_result"
    }
   ],
   "source": [
    "model = AutoPeftModelForSequenceClassification.from_pretrained(checkpoint,\n",
    "                                                           num_labels = 11,\n",
    "                                                           problem_type=\"multi_label_classification\",\n",
    "                                                           quantization_config=bnb_config,\n",
    "                                                           torch_dtype=torch_data_type,\n",
    "                                                           trust_remote_code=True,\n",
    ")\n",
    "\n",
    "peft_config = PeftConfig.from_pretrained(checkpoint)\n",
    "base_model_name = peft_config.base_model_name_or_path\n",
    "tokenizer = AutoTokenizer.from_pretrained(base_model_name)\n",
    "\n",
    "# 3. Set model to evaluation mode\n",
    "model.eval()"
   ]
  },
  {
   "cell_type": "code",
   "execution_count": 65,
   "id": "lMTDNYg-Vntw",
   "metadata": {
    "colab": {
     "base_uri": "https://localhost:8080/",
     "height": 138,
     "referenced_widgets": [
      "c46a125f81154656a3307723093765c7",
      "d50fefdda3ae47adb437c22aa2c3d63f",
      "ba77ba479d114ddda7a6117f903d3a60",
      "75db8f544a38474091e306a23ff2deee",
      "87a1973ae738497fa537fd1f2d111544",
      "abb2b75c9d8f4d429e52807d3f9b58d5",
      "d0b466a18cfe4f76966037616bdf94ef",
      "db2815ff284a4118921450489d2fec64",
      "f37ece82bfd0433c95616e77cc1393d4",
      "a7de4fe6d38044d89745bd5da4e09668",
      "ce8ec68c6cca4829ae722eb4bb52b1cd"
     ]
    },
    "id": "lMTDNYg-Vntw",
    "outputId": "28647e87-0ee3-457a-89c7-d54bf007529a"
   },
   "outputs": [
    {
     "data": {
      "application/vnd.jupyter.widget-view+json": {
       "model_id": "c46a125f81154656a3307723093765c7",
       "version_major": 2,
       "version_minor": 0
      },
      "text/plain": [
       "Map:   0%|          | 0/3259 [00:00<?, ? examples/s]"
      ]
     },
     "metadata": {},
     "output_type": "display_data"
    },
    {
     "name": "stdout",
     "output_type": "stream",
     "text": [
      "Dataset({\n",
      "    features: ['ID', 'Tweet', 'anger', 'anticipation', 'disgust', 'fear', 'joy', 'love', 'optimism', 'pessimism', 'sadness', 'surprise', 'trust', 'input_ids', 'attention_mask'],\n",
      "    num_rows: 3259\n",
      "})\n"
     ]
    }
   ],
   "source": [
    "from datasets import Dataset\n",
    "\n",
    "# Convert the test DataFrame to a Dataset\n",
    "test_dataset = Dataset.from_pandas(test_df)\n",
    "\n",
    "# Define the tokenization function\n",
    "def tokenize_fn(batch):\n",
    "    return tokenizer(batch[\"Tweet\"], truncation=True, max_length=512)\n",
    "\n",
    "# Tokenize the test dataset\n",
    "test_set_tokenized = test_dataset.map(tokenize_fn, batched=True)\n",
    "\n",
    "# Inspect the tokenized dataset\n",
    "print(test_set_tokenized)\n"
   ]
  },
  {
   "cell_type": "code",
   "execution_count": 66,
   "id": "_LyTczZ3FFpe",
   "metadata": {
    "colab": {
     "base_uri": "https://localhost:8080/"
    },
    "id": "_LyTczZ3FFpe",
    "outputId": "861a70c3-625d-424e-dabd-db2c376eea0e"
   },
   "outputs": [
    {
     "data": {
      "text/plain": [
       "Dataset({\n",
       "    features: ['ID', 'Tweet', 'anger', 'anticipation', 'disgust', 'fear', 'joy', 'love', 'optimism', 'pessimism', 'sadness', 'surprise', 'trust', 'input_ids', 'attention_mask'],\n",
       "    num_rows: 3259\n",
       "})"
      ]
     },
     "execution_count": 66,
     "metadata": {},
     "output_type": "execute_result"
    }
   ],
   "source": [
    "test_set_tokenized"
   ]
  },
  {
   "cell_type": "code",
   "execution_count": 67,
   "id": "qMkM761xXTBS",
   "metadata": {
    "colab": {
     "base_uri": "https://localhost:8080/"
    },
    "id": "qMkM761xXTBS",
    "outputId": "0cba119a-b95b-401e-f6ed-30294b87b0aa"
   },
   "outputs": [
    {
     "name": "stdout",
     "output_type": "stream",
     "text": [
      "{'ID': '2018-01559', 'Tweet': '@Adnan__786__ @AsYouNotWish Dont worry Indian army is on its ways to dispatch all Terrorists to Hell', 'anger': 'NONE', 'anticipation': 'NONE', 'disgust': 'NONE', 'fear': 'NONE', 'joy': 'NONE', 'love': 'NONE', 'optimism': 'NONE', 'pessimism': 'NONE', 'sadness': 'NONE', 'surprise': 'NONE', 'trust': 'NONE', 'input_ids': [1, 732, 3253, 13707, 1649, 29955, 29947, 29953, 1649, 732, 2887, 3492, 3664, 29956, 728, 360, 609, 15982, 7560, 9987, 338, 373, 967, 5837, 304, 13916, 599, 323, 2704, 2879, 304, 19339], 'attention_mask': [1, 1, 1, 1, 1, 1, 1, 1, 1, 1, 1, 1, 1, 1, 1, 1, 1, 1, 1, 1, 1, 1, 1, 1, 1, 1, 1, 1, 1, 1, 1, 1]}\n"
     ]
    }
   ],
   "source": [
    "print(test_set_tokenized[0])\n"
   ]
  },
  {
   "cell_type": "code",
   "execution_count": 68,
   "id": "iGfD8K01bei6",
   "metadata": {
    "colab": {
     "base_uri": "https://localhost:8080/",
     "height": 188,
     "referenced_widgets": [
      "1d801ef0745b41c9bdcc099b7b45a0f3",
      "5ff2583da96a45a28fc4a6e9371c2330",
      "a0a34f8597134e0cbf90c278d0db0a99",
      "bc5cbe1705ed4db8a6f8fa28336c62a0",
      "db3d8e087adf4111ac5150b7914aaf6b",
      "2d71bebdb21f4ca093ced1437a297ea4",
      "96c149ae10a4409e86d9c9adc2ce8020",
      "04737b076ddd4541b1d1a457d930760e",
      "83cc853075034b639a7b8907a5ca249c",
      "bb637a6466724f73a98127216dddea57",
      "9a9bbbe093f44b9f85ec12f59cc0cfd3",
      "c3a1e6ec3b4c4ebeb9b7938e8f28fef5",
      "1aeaa3f5110c45338afffed3d1cb2eaf",
      "85ba83331e35435c97f1cb287fd539ce",
      "4ceca63b8e4646dc8894253fb976622f",
      "bd751410a3c44fb3b7048857c2d71803",
      "c6122954b12342bd93ea2136b2dd9267",
      "74c21881be074998a7db10fab3e28ab0",
      "92870b26edc644828b843d2e5b9f76bd",
      "9fb745711ab4422aba1f2a409ae2098e",
      "f3f3199646184cc39616858f08798a38",
      "80097afe75984d3b869a62ef667af4d3"
     ]
    },
    "id": "iGfD8K01bei6",
    "outputId": "2c9f2a5c-8d18-42fe-ea9b-2f0267b39992"
   },
   "outputs": [
    {
     "data": {
      "application/vnd.jupyter.widget-view+json": {
       "model_id": "1d801ef0745b41c9bdcc099b7b45a0f3",
       "version_major": 2,
       "version_minor": 0
      },
      "text/plain": [
       "Map:   0%|          | 0/3259 [00:00<?, ? examples/s]"
      ]
     },
     "metadata": {},
     "output_type": "display_data"
    },
    {
     "data": {
      "application/vnd.jupyter.widget-view+json": {
       "model_id": "c3a1e6ec3b4c4ebeb9b7938e8f28fef5",
       "version_major": 2,
       "version_minor": 0
      },
      "text/plain": [
       "Map:   0%|          | 0/3259 [00:00<?, ? examples/s]"
      ]
     },
     "metadata": {},
     "output_type": "display_data"
    },
    {
     "name": "stdout",
     "output_type": "stream",
     "text": [
      "{'ID': '2018-01559', 'Tweet': '@Adnan__786__ @AsYouNotWish Dont worry Indian army is on its ways to dispatch all Terrorists to Hell', 'input_ids': tensor([    1,   732,  3253, 13707,  1649, 29955, 29947, 29953,  1649,   732,\n",
      "         2887,  3492,  3664, 29956,   728,   360,   609, 15982,  7560,  9987,\n",
      "          338,   373,   967,  5837,   304, 13916,   599,   323,  2704,  2879,\n",
      "          304, 19339]), 'attention_mask': tensor([1, 1, 1, 1, 1, 1, 1, 1, 1, 1, 1, 1, 1, 1, 1, 1, 1, 1, 1, 1, 1, 1, 1, 1,\n",
      "        1, 1, 1, 1, 1, 1, 1, 1]), 'labels': tensor([0, 0, 0, 0, 0, 0, 0, 0, 0, 0, 0])}\n"
     ]
    }
   ],
   "source": [
    "# Replace 'NONE' with 0 and combine labels into a single column\n",
    "def combine_labels(row):\n",
    "    def replace_none(value):\n",
    "        return 0 if value == 'NONE' else int(value)\n",
    "\n",
    "    return [replace_none(row[\"anger\"]), replace_none(row[\"anticipation\"]),\n",
    "            replace_none(row[\"disgust\"]), replace_none(row[\"fear\"]),\n",
    "            replace_none(row[\"joy\"]), replace_none(row[\"love\"]),\n",
    "            replace_none(row[\"optimism\"]), replace_none(row[\"pessimism\"]),\n",
    "            replace_none(row[\"sadness\"]), replace_none(row[\"surprise\"]),\n",
    "            replace_none(row[\"trust\"])]\n",
    "\n",
    "# Apply the function to create 'labels'\n",
    "test_set_tokenized = test_set_tokenized.map(lambda x: {\"labels\": combine_labels(x)})\n",
    "\n",
    "# Convert labels to float tensors\n",
    "test_set_tokenized = test_set_tokenized.map(\n",
    "    lambda x: {\"labels\": torch.tensor(x[\"labels\"]).to(torch.float)}\n",
    ")\n",
    "\n",
    "# Remove individual label columns\n",
    "test_set_tokenized = test_set_tokenized.remove_columns(\n",
    "    [\"anger\", \"anticipation\", \"disgust\", \"fear\", \"joy\", \"love\",\n",
    "     \"optimism\", \"pessimism\", \"sadness\", \"surprise\", \"trust\"]\n",
    ")\n",
    "\n",
    "# Set format for PyTorch\n",
    "test_set_tokenized.set_format(type=\"torch\")\n",
    "\n",
    "# Inspect the processed dataset\n",
    "print(test_set_tokenized[0])\n"
   ]
  },
  {
   "cell_type": "code",
   "execution_count": 69,
   "id": "_BLZgMxUbH_p",
   "metadata": {
    "id": "_BLZgMxUbH_p"
   },
   "outputs": [],
   "source": [
    "training_args = TrainingArguments(\n",
    "    seed = 42,\n",
    "    output_dir=\"./results\",\n",
    "    per_device_eval_batch_size=128,\n",
    "    do_train=False,\n",
    "    do_eval=True,\n",
    "    report_to=[],\n",
    "    run_name=run_name\n",
    ")"
   ]
  },
  {
   "cell_type": "code",
   "execution_count": 70,
   "id": "KQo9HGOIbcLS",
   "metadata": {
    "id": "KQo9HGOIbcLS"
   },
   "outputs": [],
   "source": [
    "from functools import partial"
   ]
  },
  {
   "cell_type": "code",
   "execution_count": 71,
   "id": "6iXnvrlOccDB",
   "metadata": {
    "id": "6iXnvrlOccDB"
   },
   "outputs": [],
   "source": [
    "compute_metrics_fn = partial(compute_metrics, thresholds=optimal_thresholds)"
   ]
  },
  {
   "cell_type": "code",
   "execution_count": 74,
   "id": "S9tIKvkqW_W7",
   "metadata": {
    "colab": {
     "base_uri": "https://localhost:8080/"
    },
    "id": "S9tIKvkqW_W7",
    "outputId": "65c1585d-3325-4f6e-d42b-501e52aba040"
   },
   "outputs": [
    {
     "name": "stderr",
     "output_type": "stream",
     "text": [
      "<ipython-input-74-ae23a6d83822>:14: FutureWarning: `tokenizer` is deprecated and will be removed in version 5.0.0 for `CustomTrainer.__init__`. Use `processing_class` instead.\n",
      "  trainer = CustomTrainer(\n"
     ]
    }
   ],
   "source": [
    "# Ensure the tokenizer has a padding token\n",
    "if tokenizer.pad_token is None:\n",
    "    tokenizer.pad_token = tokenizer.eos_token  # Use eos_token if available\n",
    "\n",
    "# If no eos_token, add a new padding token\n",
    "if tokenizer.pad_token is None:\n",
    "    tokenizer.add_special_tokens({'pad_token': '[PAD]'})\n",
    "    model.resize_token_embeddings(len(tokenizer))  # Resize model embeddings\n",
    "\n",
    "# Ensure the model configuration also includes the padding token\n",
    "if model.config.pad_token_id is None:\n",
    "    model.config.pad_token_id = tokenizer.pad_token_id\n",
    "\n",
    "trainer = CustomTrainer(\n",
    "    model=model,\n",
    "    args=training_args,\n",
    "    eval_dataset=test_set_tokenized,\n",
    "    compute_metrics=compute_metrics_fn,\n",
    "    tokenizer=tokenizer,\n",
    ")"
   ]
  },
  {
   "cell_type": "code",
   "execution_count": 75,
   "id": "73cb8eb9",
   "metadata": {
    "colab": {
     "base_uri": "https://localhost:8080/",
     "height": 37
    },
    "id": "73cb8eb9",
    "outputId": "284fa128-69a6-40a1-ddab-ae2aea5e710b"
   },
   "outputs": [
    {
     "data": {
      "text/html": [
       "\n",
       "    <div>\n",
       "      \n",
       "      <progress value='26' max='26' style='width:300px; height:20px; vertical-align: middle;'></progress>\n",
       "      [26/26 02:50]\n",
       "    </div>\n",
       "    "
      ],
      "text/plain": [
       "<IPython.core.display.HTML object>"
      ]
     },
     "metadata": {},
     "output_type": "display_data"
    }
   ],
   "source": [
    "test_results= trainer.evaluate()"
   ]
  },
  {
   "cell_type": "code",
   "execution_count": 76,
   "id": "5d9a3ca0",
   "metadata": {
    "colab": {
     "base_uri": "https://localhost:8080/"
    },
    "id": "5d9a3ca0",
    "outputId": "fead2e91-a079-4e91-8ca1-c70815190a7b"
   },
   "outputs": [
    {
     "data": {
      "text/plain": [
       "{'eval_loss': 0.7913118004798889,\n",
       " 'eval_model_preparation_time': 0.0089,\n",
       " 'eval_f1_micro': 0.0,\n",
       " 'eval_f1_macro': 0.0,\n",
       " 'eval_accuracy_label': 0.7276074646433652,\n",
       " 'eval_accuracy_all': 0.0021478981282602025,\n",
       " 'eval_runtime': 177.1957,\n",
       " 'eval_samples_per_second': 18.392,\n",
       " 'eval_steps_per_second': 0.147}"
      ]
     },
     "execution_count": 76,
     "metadata": {},
     "output_type": "execute_result"
    }
   ],
   "source": [
    "test_results"
   ]
  },
  {
   "cell_type": "code",
   "execution_count": 77,
   "id": "2c6c8246",
   "metadata": {
    "id": "2c6c8246"
   },
   "outputs": [],
   "source": [
    "wandb.log({\"test_f1_macro\": test_results[\"eval_f1_macro\"], \"test_loss\": test_results[\"eval_loss\"], \"test_accuracy\": test_results[\"eval_accuracy_all\"]})"
   ]
  },
  {
   "cell_type": "code",
   "execution_count": 80,
   "id": "Y7OUuaquNKae",
   "metadata": {
    "colab": {
     "base_uri": "https://localhost:8080/",
     "height": 1000
    },
    "id": "Y7OUuaquNKae",
    "outputId": "3aff9ca6-2d93-4c1d-987a-bb9de7245282"
   },
   "outputs": [
    {
     "data": {
      "text/html": [],
      "text/plain": [
       "<IPython.core.display.HTML object>"
      ]
     },
     "metadata": {},
     "output_type": "display_data"
    },
    {
     "data": {
      "image/png": "[encoded data removed]",
      "text/plain": [
       "<Figure size 1200x1600 with 22 Axes>"
      ]
     },
     "metadata": {},
     "output_type": "display_data"
    },
    {
     "name": "stderr",
     "output_type": "stream",
     "text": [
      "/usr/local/lib/python3.10/dist-packages/sklearn/metrics/_classification.py:1531: UndefinedMetricWarning: Recall is ill-defined and being set to 0.0 in labels with no true samples. Use `zero_division` parameter to control this behavior.\n",
      "  _warn_prf(average, modifier, f\"{metric.capitalize()} is\", len(result))\n"
     ]
    },
    {
     "data": {
      "image/png": "[encoded data removed]",
      "text/plain": [
       "<Figure size 800x533.333 with 2 Axes>"
      ]
     },
     "metadata": {},
     "output_type": "display_data"
    },
    {
     "data": {
      "text/plain": [
       "<Figure size 1200x533.333 with 0 Axes>"
      ]
     },
     "metadata": {},
     "output_type": "display_data"
    },
    {
     "data": {
      "image/png": "[encoded data removed]",
      "text/plain": [
       "<Figure size 640x480 with 1 Axes>"
      ]
     },
     "metadata": {},
     "output_type": "display_data"
    },
    {
     "data": {
      "text/html": [
       "\n",
       "    <style>\n",
       "        .wandb-row {\n",
       "            display: flex;\n",
       "            flex-direction: row;\n",
       "            flex-wrap: wrap;\n",
       "            justify-content: flex-start;\n",
       "            width: 100%;\n",
       "        }\n",
       "        .wandb-col {\n",
       "            display: flex;\n",
       "            flex-direction: column;\n",
       "            flex-basis: 100%;\n",
       "            flex: 1;\n",
       "            padding: 10px;\n",
       "        }\n",
       "    </style>\n",
       "<div class=\"wandb-row\"><div class=\"wandb-col\"><h3>Run history:</h3><br/><table class=\"wandb\"><tr><td>eval/accuracy_all</td><td>▁▁▁▁▂▂▂▂▄▅█▅█▇▇▇████</td></tr><tr><td>eval/accuracy_label</td><td>▁▁▃▃▄▅▆▅▇▇█▇██▇█████</td></tr><tr><td>eval/f1_macro</td><td>▁▁▂▃▄▅▆▆▇▇▇▇████████</td></tr><tr><td>eval/f1_micro</td><td>▁▁▂▂▄▅▅▆▇▇█▇██▇█████</td></tr><tr><td>eval/loss</td><td>█▇▆▅▄▃▃▂▂▂▂▁▁▁▁▁▁▁▁▁</td></tr><tr><td>eval/runtime</td><td>▁▄▅▅▇▆▄▅█▇▂▃▅▅▅▄▅▄▄▂</td></tr><tr><td>eval/samples_per_second</td><td>█▅▄▄▂▃▅▄▁▂▇▆▄▄▄▅▄▅▅▇</td></tr><tr><td>eval/steps_per_second</td><td>██▁▁▁▁█▁▁▁██▁▁▁█████</td></tr><tr><td>eval_accuracy</td><td>▁</td></tr><tr><td>eval_f1_macro</td><td>▁</td></tr><tr><td>eval_loss</td><td>▁</td></tr><tr><td>test/accuracy_all</td><td>▁</td></tr><tr><td>test/accuracy_label</td><td>▁</td></tr><tr><td>test/f1_macro</td><td>▁</td></tr><tr><td>test/f1_micro</td><td>▁</td></tr><tr><td>test/loss</td><td>▁</td></tr><tr><td>test/runtime</td><td>▁</td></tr><tr><td>test/samples_per_second</td><td>▁</td></tr><tr><td>test/steps_per_second</td><td>▁</td></tr><tr><td>test_accuracy</td><td>▁</td></tr><tr><td>test_f1_macro</td><td>▁</td></tr><tr><td>test_loss</td><td>▁</td></tr><tr><td>train/epoch</td><td>▁▁▁▁▂▂▂▂▃▃▃▃▃▃▄▄▄▄▄▄▅▅▅▅▆▆▆▆▆▆▇▇▇▇██████</td></tr><tr><td>train/global_step</td><td>▁▁▁▁▂▂▂▂▃▃▃▃▃▄▄▄▄▄▄▅▅▅▅▆▆▆▆▆▇▇▇▇████████</td></tr><tr><td>train/grad_norm</td><td>▇▆█▆█▄▃▂▂▃▂▂▃▂▄▁▃▃▁</td></tr><tr><td>train/learning_rate</td><td>██▇▇▆▆▆▅▅▅▄▄▃▃▃▂▂▁▁</td></tr><tr><td>train/loss</td><td>█▇▆▅▅▄▃▃▃▂▂▂▂▁▂▁▁▁▁</td></tr></table><br/></div><div class=\"wandb-col\"><h3>Run summary:</h3><br/><table class=\"wandb\"><tr><td>eval/accuracy_all</td><td>0.08155</td></tr><tr><td>eval/accuracy_label</td><td>0.77888</td></tr><tr><td>eval/f1_macro</td><td>0.53665</td></tr><tr><td>eval/f1_micro</td><td>0.60174</td></tr><tr><td>eval/loss</td><td>0.77493</td></tr><tr><td>eval/runtime</td><td>74.949</td></tr><tr><td>eval/samples_per_second</td><td>20.614</td></tr><tr><td>eval/steps_per_second</td><td>1.294</td></tr><tr><td>eval_accuracy</td><td>0.08155</td></tr><tr><td>eval_f1_macro</td><td>0.53665</td></tr><tr><td>eval_loss</td><td>0.77493</td></tr><tr><td>test/accuracy_all</td><td>0.08155</td></tr><tr><td>test/accuracy_label</td><td>0.77888</td></tr><tr><td>test/f1_macro</td><td>0.53665</td></tr><tr><td>test/f1_micro</td><td>0.60174</td></tr><tr><td>test/loss</td><td>0.77493</td></tr><tr><td>test/runtime</td><td>74.9044</td></tr><tr><td>test/samples_per_second</td><td>20.626</td></tr><tr><td>test/steps_per_second</td><td>1.295</td></tr><tr><td>test_accuracy</td><td>0.00215</td></tr><tr><td>test_f1_macro</td><td>0</td></tr><tr><td>test_loss</td><td>0.79131</td></tr><tr><td>total_flos</td><td>2.6439359263309824e+16</td></tr><tr><td>train/epoch</td><td>1.99483</td></tr><tr><td>train/global_step</td><td>386</td></tr><tr><td>train/grad_norm</td><td>8.63891</td></tr><tr><td>train/learning_rate</td><td>0.0</td></tr><tr><td>train/loss</td><td>0.6949</td></tr><tr><td>train_loss</td><td>0.95096</td></tr><tr><td>train_runtime</td><td>3428.0283</td></tr><tr><td>train_samples_per_second</td><td>3.605</td></tr><tr><td>train_steps_per_second</td><td>0.113</td></tr></table><br/></div></div>"
      ],
      "text/plain": [
       "<IPython.core.display.HTML object>"
      ]
     },
     "metadata": {},
     "output_type": "display_data"
    },
    {
     "data": {
      "text/html": [
       " View run <strong style=\"color:#cdcd00\">stack_exp_imb_exp1</strong> at: <a href='https://wandb.ai/mxg220123-the-university-of-texas-at-dallas/multilabel_stack/runs/zms5js97' target=\"_blank\">https://wandb.ai/mxg220123-the-university-of-texas-at-dallas/multilabel_stack/runs/zms5js97</a><br/> View project at: <a href='https://wandb.ai/mxg220123-the-university-of-texas-at-dallas/multilabel_stack' target=\"_blank\">https://wandb.ai/mxg220123-the-university-of-texas-at-dallas/multilabel_stack</a><br/>Synced 5 W&B file(s), 0 media file(s), 0 artifact file(s) and 0 other file(s)"
      ],
      "text/plain": [
       "<IPython.core.display.HTML object>"
      ]
     },
     "metadata": {},
     "output_type": "display_data"
    },
    {
     "data": {
      "text/html": [
       "Find logs at: <code>./wandb/run-20241119_014357-zms5js97/logs</code>"
      ],
      "text/plain": [
       "<IPython.core.display.HTML object>"
      ]
     },
     "metadata": {},
     "output_type": "display_data"
    },
    {
     "name": "stdout",
     "output_type": "stream",
     "text": [
      "           ID  anger  anticipation  disgust  fear  joy  love  optimism  \\\n",
      "0  2018-01559      1             0        1     1    0     0         1   \n",
      "1  2018-03739      0             1        1     1    0     0         0   \n",
      "2  2018-00385      1             0        1     0    0     0         0   \n",
      "3  2018-03001      0             0        0     1    0     0         0   \n",
      "4  2018-01988      0             0        0     1    0     0         0   \n",
      "\n",
      "   pessimism  sadness  surprise  trust  \n",
      "0          0        0         0      0  \n",
      "1          1        0         0      1  \n",
      "2          1        1         0      0  \n",
      "3          1        1         0      0  \n",
      "4          1        1         0      0  \n",
      "Submission file created successfully!\n"
     ]
    }
   ],
   "source": [
    "import numpy as np\n",
    "import pandas as pd\n",
    "import wandb\n",
    "\n",
    "# Load your test data (ensure it contains an 'ID' column)\n",
    "test_data = pd.read_csv('test.csv')\n",
    "assert 'ID' in test_data.columns, \"The test data must contain an 'ID' column.\"\n",
    "\n",
    "# Make predictions using the trainer\n",
    "test_output = trainer.predict(test_set_tokenized)\n",
    "\n",
    "# Convert predictions to binary\n",
    "test_preds = (test_output.predictions > 0).astype(int)\n",
    "test_labels = test_output.label_ids.astype(int)\n",
    "\n",
    "# Evaluate the model\n",
    "class_names = ['anger', 'anticipation', 'disgust', 'fear', 'joy', 'love',\n",
    "               'optimism', 'pessimism', 'sadness', 'surprise', 'trust']\n",
    "multilabel_evaluation(y_true=test_labels, y_pred=test_preds, class_names=class_names, figsize=(12, 8))\n",
    "\n",
    "# Finalize WandB run\n",
    "wandb.finish()\n",
    "\n",
    "# Define label columns\n",
    "label_columns = ['anger', 'anticipation', 'disgust', 'fear', 'joy', 'love',\n",
    "                'optimism', 'pessimism', 'sadness', 'surprise', 'trust']\n",
    "\n",
    "# Create a DataFrame for predictions\n",
    "test_predictions_binary = pd.DataFrame(test_preds, columns=label_columns)\n",
    "\n",
    "# Prepare the submission DataFrame with 'ID' and prediction columns\n",
    "submission = pd.DataFrame({\n",
    "    'ID': test_data['ID'],\n",
    "    **{label: test_predictions_binary[label] for label in label_columns}\n",
    "})\n",
    "\n",
    "# Optional: Verify the first few rows\n",
    "print(submission.head())\n",
    "\n",
    "# Save the submission file without the index\n",
    "submission.to_csv('submission.csv', index=False)\n",
    "\n",
    "print(\"Submission file created successfully!\")\n"
   ]
  }
 ],
 "metadata": {
  "accelerator": "GPU",
  "colab": {
   "gpuType": "A100",
   "machine_shape": "hm",
   "provenance": []
  },
  "kernelspec": {
   "display_name": "Python 3",
   "name": "python3"
  },
  "language_info": {
   "codemirror_mode": {
    "name": "ipython",
    "version": 3
   },
   "file_extension": ".py",
   "mimetype": "text/x-python",
   "name": "python",
   "nbconvert_exporter": "python",
   "pygments_lexer": "ipython3",
   "version": "3.10.10"
  },
  "widgets": {
   "application/vnd.jupyter.widget-state+json": {
    "01fb4a5158af4e27b1792571bf028b8b": {
     "model_module": "@jupyter-widgets/controls",
     "model_module_version": "1.5.0",
     "model_name": "HTMLModel",
     "state": {
      "_dom_classes": [],
      "_model_module": "@jupyter-widgets/controls",
      "_model_module_version": "1.5.0",
      "_model_name": "HTMLModel",
      "_view_count": null,
      "_view_module": "@jupyter-widgets/controls",
      "_view_module_version": "1.5.0",
      "_view_name": "HTMLView",
      "description": "",
      "description_tooltip": null,
      "layout": "IPY_MODEL_af44eac6d785455a81516a5dbf085e7b",
      "placeholder": "​",
      "style": "IPY_MODEL_2ae8f30d572640758d1b305f567a2500",
      "value": " 7724/7724 [00:00&lt;00:00, 58737.96 examples/s]"
     }
    },
    "04737b076ddd4541b1d1a457d930760e": {
     "model_module": "@jupyter-widgets/base",
     "model_module_version": "1.2.0",
     "model_name": "LayoutModel",
     "state": {
      "_model_module": "@jupyter-widgets/base",
      "_model_module_version": "1.2.0",
      "_model_name": "LayoutModel",
      "_view_count": null,
      "_view_module": "@jupyter-widgets/base",
      "_view_module_version": "1.2.0",
      "_view_name": "LayoutView",
      "align_content": null,
      "align_items": null,
      "align_self": null,
      "border": null,
      "bottom": null,
      "display": null,
      "flex": null,
      "flex_flow": null,
      "grid_area": null,
      "grid_auto_columns": null,
      "grid_auto_flow": null,
      "grid_auto_rows": null,
      "grid_column": null,
      "grid_gap": null,
      "grid_row": null,
      "grid_template_areas": null,
      "grid_template_columns": null,
      "grid_template_rows": null,
      "height": null,
      "justify_content": null,
      "justify_items": null,
      "left": null,
      "margin": null,
      "max_height": null,
      "max_width": null,
      "min_height": null,
      "min_width": null,
      "object_fit": null,
      "object_position": null,
      "order": null,
      "overflow": null,
      "overflow_x": null,
      "overflow_y": null,
      "padding": null,
      "right": null,
      "top": null,
      "visibility": null,
      "width": null
     }
    },
    "04b130c7c43a40bdbed5dab505d8a46c": {
     "model_module": "@jupyter-widgets/base",
     "model_module_version": "1.2.0",
     "model_name": "LayoutModel",
     "state": {
      "_model_module": "@jupyter-widgets/base",
      "_model_module_version": "1.2.0",
      "_model_name": "LayoutModel",
      "_view_count": null,
      "_view_module": "@jupyter-widgets/base",
      "_view_module_version": "1.2.0",
      "_view_name": "LayoutView",
      "align_content": null,
      "align_items": null,
      "align_self": null,
      "border": null,
      "bottom": null,
      "display": null,
      "flex": null,
      "flex_flow": null,
      "grid_area": null,
      "grid_auto_columns": null,
      "grid_auto_flow": null,
      "grid_auto_rows": null,
      "grid_column": null,
      "grid_gap": null,
      "grid_row": null,
      "grid_template_areas": null,
      "grid_template_columns": null,
      "grid_template_rows": null,
      "height": null,
      "justify_content": null,
      "justify_items": null,
      "left": null,
      "margin": null,
      "max_height": null,
      "max_width": null,
      "min_height": null,
      "min_width": null,
      "object_fit": null,
      "object_position": null,
      "order": null,
      "overflow": null,
      "overflow_x": null,
      "overflow_y": null,
      "padding": null,
      "right": null,
      "top": null,
      "visibility": null,
      "width": null
     }
    },
    "093a9e67c2fc4776a4a533851cbe0cf8": {
     "model_module": "@jupyter-widgets/controls",
     "model_module_version": "1.5.0",
     "model_name": "DescriptionStyleModel",
     "state": {
      "_model_module": "@jupyter-widgets/controls",
      "_model_module_version": "1.5.0",
      "_model_name": "DescriptionStyleModel",
      "_view_count": null,
      "_view_module": "@jupyter-widgets/base",
      "_view_module_version": "1.2.0",
      "_view_name": "StyleView",
      "description_width": ""
     }
    },
    "0e03f3ee166e469e810a7497f91d778f": {
     "model_module": "@jupyter-widgets/base",
     "model_module_version": "1.2.0",
     "model_name": "LayoutModel",
     "state": {
      "_model_module": "@jupyter-widgets/base",
      "_model_module_version": "1.2.0",
      "_model_name": "LayoutModel",
      "_view_count": null,
      "_view_module": "@jupyter-widgets/base",
      "_view_module_version": "1.2.0",
      "_view_name": "LayoutView",
      "align_content": null,
      "align_items": null,
      "align_self": null,
      "border": null,
      "bottom": null,
      "display": null,
      "flex": null,
      "flex_flow": null,
      "grid_area": null,
      "grid_auto_columns": null,
      "grid_auto_flow": null,
      "grid_auto_rows": null,
      "grid_column": null,
      "grid_gap": null,
      "grid_row": null,
      "grid_template_areas": null,
      "grid_template_columns": null,
      "grid_template_rows": null,
      "height": null,
      "justify_content": null,
      "justify_items": null,
      "left": null,
      "margin": null,
      "max_height": null,
      "max_width": null,
      "min_height": null,
      "min_width": null,
      "object_fit": null,
      "object_position": null,
      "order": null,
      "overflow": null,
      "overflow_x": null,
      "overflow_y": null,
      "padding": null,
      "right": null,
      "top": null,
      "visibility": null,
      "width": null
     }
    },
    "0e081d6c4c5742beaf279d877edf6eb9": {
     "model_module": "@jupyter-widgets/controls",
     "model_module_version": "1.5.0",
     "model_name": "HTMLModel",
     "state": {
      "_dom_classes": [],
      "_model_module": "@jupyter-widgets/controls",
      "_model_module_version": "1.5.0",
      "_model_name": "HTMLModel",
      "_view_count": null,
      "_view_module": "@jupyter-widgets/controls",
      "_view_module_version": "1.5.0",
      "_view_name": "HTMLView",
      "description": "",
      "description_tooltip": null,
      "layout": "IPY_MODEL_43879ae8aeb04cf5a2d8cef3941bcc6e",
      "placeholder": "​",
      "style": "IPY_MODEL_15f254e8f6a546198be5348c3b91726c",
      "value": " 4.20k/4.20k [00:00&lt;00:00, 351kB/s]"
     }
    },
    "0fc20b918ea842f19e873f1d1b356006": {
     "model_module": "@jupyter-widgets/controls",
     "model_module_version": "1.5.0",
     "model_name": "HTMLModel",
     "state": {
      "_dom_classes": [],
      "_model_module": "@jupyter-widgets/controls",
      "_model_module_version": "1.5.0",
      "_model_name": "HTMLModel",
      "_view_count": null,
      "_view_module": "@jupyter-widgets/controls",
      "_view_module_version": "1.5.0",
      "_view_name": "HTMLView",
      "description": "",
      "description_tooltip": null,
      "layout": "IPY_MODEL_1d5ca62201294ac4a0a39df43fcbf96a",
      "placeholder": "​",
      "style": "IPY_MODEL_093a9e67c2fc4776a4a533851cbe0cf8",
      "value": "<center> <img\nsrc=https://huggingface.co/front/assets/huggingface_logo-noborder.svg\nalt='Hugging Face'> <br> Copy a token from <a\nhref=\"https://huggingface.co/settings/tokens\" target=\"_blank\">your Hugging Face\ntokens page</a> and paste it below. <br> Immediately click login after copying\nyour token or it might be stored in plain text in this notebook file. </center>"
     }
    },
    "12a18c95163b4849bbda0545eae8099b": {
     "model_module": "@jupyter-widgets/base",
     "model_module_version": "1.2.0",
     "model_name": "LayoutModel",
     "state": {
      "_model_module": "@jupyter-widgets/base",
      "_model_module_version": "1.2.0",
      "_model_name": "LayoutModel",
      "_view_count": null,
      "_view_module": "@jupyter-widgets/base",
      "_view_module_version": "1.2.0",
      "_view_name": "LayoutView",
      "align_content": null,
      "align_items": null,
      "align_self": null,
      "border": null,
      "bottom": null,
      "display": null,
      "flex": null,
      "flex_flow": null,
      "grid_area": null,
      "grid_auto_columns": null,
      "grid_auto_flow": null,
      "grid_auto_rows": null,
      "grid_column": null,
      "grid_gap": null,
      "grid_row": null,
      "grid_template_areas": null,
      "grid_template_columns": null,
      "grid_template_rows": null,
      "height": null,
      "justify_content": null,
      "justify_items": null,
      "left": null,
      "margin": null,
      "max_height": null,
      "max_width": null,
      "min_height": null,
      "min_width": null,
      "object_fit": null,
      "object_position": null,
      "order": null,
      "overflow": null,
      "overflow_x": null,
      "overflow_y": null,
      "padding": null,
      "right": null,
      "top": null,
      "visibility": null,
      "width": null
     }
    },
    "12afb295adab43509e8c2b0faf6def9b": {
     "model_module": "@jupyter-widgets/controls",
     "model_module_version": "1.5.0",
     "model_name": "FloatProgressModel",
     "state": {
      "_dom_classes": [],
      "_model_module": "@jupyter-widgets/controls",
      "_model_module_version": "1.5.0",
      "_model_name": "FloatProgressModel",
      "_view_count": null,
      "_view_module": "@jupyter-widgets/controls",
      "_view_module_version": "1.5.0",
      "_view_name": "ProgressView",
      "bar_style": "success",
      "description": "",
      "description_tooltip": null,
      "layout": "IPY_MODEL_0e03f3ee166e469e810a7497f91d778f",
      "max": 2,
      "min": 0,
      "orientation": "horizontal",
      "style": "IPY_MODEL_33c513b409de4a1183f9cee83fc91692",
      "value": 2
     }
    },
    "15f254e8f6a546198be5348c3b91726c": {
     "model_module": "@jupyter-widgets/controls",
     "model_module_version": "1.5.0",
     "model_name": "DescriptionStyleModel",
     "state": {
      "_model_module": "@jupyter-widgets/controls",
      "_model_module_version": "1.5.0",
      "_model_name": "DescriptionStyleModel",
      "_view_count": null,
      "_view_module": "@jupyter-widgets/base",
      "_view_module_version": "1.2.0",
      "_view_name": "StyleView",
      "description_width": ""
     }
    },
    "18ab3cf539d54321a0afcb3a2a34eb80": {
     "model_module": "@jupyter-widgets/controls",
     "model_module_version": "1.5.0",
     "model_name": "FloatProgressModel",
     "state": {
      "_dom_classes": [],
      "_model_module": "@jupyter-widgets/controls",
      "_model_module_version": "1.5.0",
      "_model_name": "FloatProgressModel",
      "_view_count": null,
      "_view_module": "@jupyter-widgets/controls",
      "_view_module_version": "1.5.0",
      "_view_name": "ProgressView",
      "bar_style": "success",
      "description": "",
      "description_tooltip": null,
      "layout": "IPY_MODEL_e494fde572a3475ebe0c84b50ac1b0d3",
      "max": 7724,
      "min": 0,
      "orientation": "horizontal",
      "style": "IPY_MODEL_b6ee406c5c734c15aa0e66e7ca70058e",
      "value": 7724
     }
    },
    "1aeaa3f5110c45338afffed3d1cb2eaf": {
     "model_module": "@jupyter-widgets/controls",
     "model_module_version": "1.5.0",
     "model_name": "HTMLModel",
     "state": {
      "_dom_classes": [],
      "_model_module": "@jupyter-widgets/controls",
      "_model_module_version": "1.5.0",
      "_model_name": "HTMLModel",
      "_view_count": null,
      "_view_module": "@jupyter-widgets/controls",
      "_view_module_version": "1.5.0",
      "_view_name": "HTMLView",
      "description": "",
      "description_tooltip": null,
      "layout": "IPY_MODEL_c6122954b12342bd93ea2136b2dd9267",
      "placeholder": "​",
      "style": "IPY_MODEL_74c21881be074998a7db10fab3e28ab0",
      "value": "Map: 100%"
     }
    },
    "1d5ca62201294ac4a0a39df43fcbf96a": {
     "model_module": "@jupyter-widgets/base",
     "model_module_version": "1.2.0",
     "model_name": "LayoutModel",
     "state": {
      "_model_module": "@jupyter-widgets/base",
      "_model_module_version": "1.2.0",
      "_model_name": "LayoutModel",
      "_view_count": null,
      "_view_module": "@jupyter-widgets/base",
      "_view_module_version": "1.2.0",
      "_view_name": "LayoutView",
      "align_content": null,
      "align_items": null,
      "align_self": null,
      "border": null,
      "bottom": null,
      "display": null,
      "flex": null,
      "flex_flow": null,
      "grid_area": null,
      "grid_auto_columns": null,
      "grid_auto_flow": null,
      "grid_auto_rows": null,
      "grid_column": null,
      "grid_gap": null,
      "grid_row": null,
      "grid_template_areas": null,
      "grid_template_columns": null,
      "grid_template_rows": null,
      "height": null,
      "justify_content": null,
      "justify_items": null,
      "left": null,
      "margin": null,
      "max_height": null,
      "max_width": null,
      "min_height": null,
      "min_width": null,
      "object_fit": null,
      "object_position": null,
      "order": null,
      "overflow": null,
      "overflow_x": null,
      "overflow_y": null,
      "padding": null,
      "right": null,
      "top": null,
      "visibility": null,
      "width": null
     }
    },
    "1d801ef0745b41c9bdcc099b7b45a0f3": {
     "model_module": "@jupyter-widgets/controls",
     "model_module_version": "1.5.0",
     "model_name": "HBoxModel",
     "state": {
      "_dom_classes": [],
      "_model_module": "@jupyter-widgets/controls",
      "_model_module_version": "1.5.0",
      "_model_name": "HBoxModel",
      "_view_count": null,
      "_view_module": "@jupyter-widgets/controls",
      "_view_module_version": "1.5.0",
      "_view_name": "HBoxView",
      "box_style": "",
      "children": [
       "IPY_MODEL_5ff2583da96a45a28fc4a6e9371c2330",
       "IPY_MODEL_a0a34f8597134e0cbf90c278d0db0a99",
       "IPY_MODEL_bc5cbe1705ed4db8a6f8fa28336c62a0"
      ],
      "layout": "IPY_MODEL_db3d8e087adf4111ac5150b7914aaf6b"
     }
    },
    "23de70299d154f21b9c3b3e497a9bbc4": {
     "model_module": "@jupyter-widgets/controls",
     "model_module_version": "1.5.0",
     "model_name": "HBoxModel",
     "state": {
      "_dom_classes": [],
      "_model_module": "@jupyter-widgets/controls",
      "_model_module_version": "1.5.0",
      "_model_name": "HBoxModel",
      "_view_count": null,
      "_view_module": "@jupyter-widgets/controls",
      "_view_module_version": "1.5.0",
      "_view_name": "HBoxView",
      "box_style": "",
      "children": [
       "IPY_MODEL_858ddace32c9463fb9c3c774124ac25e",
       "IPY_MODEL_281f8cb218de4235847d8d2fb275fbef",
       "IPY_MODEL_5616119f8edd498c9951c9b75cda1f78"
      ],
      "layout": "IPY_MODEL_5ca73a4fe9e944b9a9068bc38d42ada5"
     }
    },
    "24c65f014d244856af7436785583647a": {
     "model_module": "@jupyter-widgets/base",
     "model_module_version": "1.2.0",
     "model_name": "LayoutModel",
     "state": {
      "_model_module": "@jupyter-widgets/base",
      "_model_module_version": "1.2.0",
      "_model_name": "LayoutModel",
      "_view_count": null,
      "_view_module": "@jupyter-widgets/base",
      "_view_module_version": "1.2.0",
      "_view_name": "LayoutView",
      "align_content": null,
      "align_items": null,
      "align_self": null,
      "border": null,
      "bottom": null,
      "display": null,
      "flex": null,
      "flex_flow": null,
      "grid_area": null,
      "grid_auto_columns": null,
      "grid_auto_flow": null,
      "grid_auto_rows": null,
      "grid_column": null,
      "grid_gap": null,
      "grid_row": null,
      "grid_template_areas": null,
      "grid_template_columns": null,
      "grid_template_rows": null,
      "height": null,
      "justify_content": null,
      "justify_items": null,
      "left": null,
      "margin": null,
      "max_height": null,
      "max_width": null,
      "min_height": null,
      "min_width": null,
      "object_fit": null,
      "object_position": null,
      "order": null,
      "overflow": null,
      "overflow_x": null,
      "overflow_y": null,
      "padding": null,
      "right": null,
      "top": null,
      "visibility": null,
      "width": null
     }
    },
    "281f8cb218de4235847d8d2fb275fbef": {
     "model_module": "@jupyter-widgets/controls",
     "model_module_version": "1.5.0",
     "model_name": "FloatProgressModel",
     "state": {
      "_dom_classes": [],
      "_model_module": "@jupyter-widgets/controls",
      "_model_module_version": "1.5.0",
      "_model_name": "FloatProgressModel",
      "_view_count": null,
      "_view_module": "@jupyter-widgets/controls",
      "_view_module_version": "1.5.0",
      "_view_name": "ProgressView",
      "bar_style": "success",
      "description": "",
      "description_tooltip": null,
      "layout": "IPY_MODEL_54296dbf17234852a1994c7552c1f860",
      "max": 2,
      "min": 0,
      "orientation": "horizontal",
      "style": "IPY_MODEL_5da787b6809241f8919d2667567f9ca9",
      "value": 2
     }
    },
    "29e6cb70e70e4cd7adea8db7258347c3": {
     "model_module": "@jupyter-widgets/controls",
     "model_module_version": "1.5.0",
     "model_name": "HTMLModel",
     "state": {
      "_dom_classes": [],
      "_model_module": "@jupyter-widgets/controls",
      "_model_module_version": "1.5.0",
      "_model_name": "HTMLModel",
      "_view_count": null,
      "_view_module": "@jupyter-widgets/controls",
      "_view_module_version": "1.5.0",
      "_view_name": "HTMLView",
      "description": "",
      "description_tooltip": null,
      "layout": "IPY_MODEL_eb424257d2c043c38017d01154a298aa",
      "placeholder": "​",
      "style": "IPY_MODEL_cb890b96f3bc4ac3b6536d1223b75d58",
      "value": "\n<b>Pro Tip:</b> If you don't already have one, you can create a dedicated\n'notebooks' token with 'write' access, that you can then easily reuse for all\nnotebooks. </center>"
     }
    },
    "2ae8f30d572640758d1b305f567a2500": {
     "model_module": "@jupyter-widgets/controls",
     "model_module_version": "1.5.0",
     "model_name": "DescriptionStyleModel",
     "state": {
      "_model_module": "@jupyter-widgets/controls",
      "_model_module_version": "1.5.0",
      "_model_name": "DescriptionStyleModel",
      "_view_count": null,
      "_view_module": "@jupyter-widgets/base",
      "_view_module_version": "1.2.0",
      "_view_name": "StyleView",
      "description_width": ""
     }
    },
    "2d71bebdb21f4ca093ced1437a297ea4": {
     "model_module": "@jupyter-widgets/base",
     "model_module_version": "1.2.0",
     "model_name": "LayoutModel",
     "state": {
      "_model_module": "@jupyter-widgets/base",
      "_model_module_version": "1.2.0",
      "_model_name": "LayoutModel",
      "_view_count": null,
      "_view_module": "@jupyter-widgets/base",
      "_view_module_version": "1.2.0",
      "_view_name": "LayoutView",
      "align_content": null,
      "align_items": null,
      "align_self": null,
      "border": null,
      "bottom": null,
      "display": null,
      "flex": null,
      "flex_flow": null,
      "grid_area": null,
      "grid_auto_columns": null,
      "grid_auto_flow": null,
      "grid_auto_rows": null,
      "grid_column": null,
      "grid_gap": null,
      "grid_row": null,
      "grid_template_areas": null,
      "grid_template_columns": null,
      "grid_template_rows": null,
      "height": null,
      "justify_content": null,
      "justify_items": null,
      "left": null,
      "margin": null,
      "max_height": null,
      "max_width": null,
      "min_height": null,
      "min_width": null,
      "object_fit": null,
      "object_position": null,
      "order": null,
      "overflow": null,
      "overflow_x": null,
      "overflow_y": null,
      "padding": null,
      "right": null,
      "top": null,
      "visibility": null,
      "width": null
     }
    },
    "32689241ad554fd8835e694a995b84fe": {
     "model_module": "@jupyter-widgets/controls",
     "model_module_version": "1.5.0",
     "model_name": "DescriptionStyleModel",
     "state": {
      "_model_module": "@jupyter-widgets/controls",
      "_model_module_version": "1.5.0",
      "_model_name": "DescriptionStyleModel",
      "_view_count": null,
      "_view_module": "@jupyter-widgets/base",
      "_view_module_version": "1.2.0",
      "_view_name": "StyleView",
      "description_width": ""
     }
    },
    "33846eafc6b04de29c38a41be40d75a4": {
     "model_module": "@jupyter-widgets/controls",
     "model_module_version": "1.5.0",
     "model_name": "HTMLModel",
     "state": {
      "_dom_classes": [],
      "_model_module": "@jupyter-widgets/controls",
      "_model_module_version": "1.5.0",
      "_model_name": "HTMLModel",
      "_view_count": null,
      "_view_module": "@jupyter-widgets/controls",
      "_view_module_version": "1.5.0",
      "_view_name": "HTMLView",
      "description": "",
      "description_tooltip": null,
      "layout": "IPY_MODEL_4ba80fe11b424fbbbb209b7eeb8c1158",
      "placeholder": "​",
      "style": "IPY_MODEL_f7e90c419ce5415a993f80a9c3dbbf81",
      "value": "Loading checkpoint shards: 100%"
     }
    },
    "33c513b409de4a1183f9cee83fc91692": {
     "model_module": "@jupyter-widgets/controls",
     "model_module_version": "1.5.0",
     "model_name": "ProgressStyleModel",
     "state": {
      "_model_module": "@jupyter-widgets/controls",
      "_model_module_version": "1.5.0",
      "_model_name": "ProgressStyleModel",
      "_view_count": null,
      "_view_module": "@jupyter-widgets/base",
      "_view_module_version": "1.2.0",
      "_view_name": "StyleView",
      "bar_color": null,
      "description_width": ""
     }
    },
    "33c67d537d4b4e4c9eb6a34b279b00de": {
     "model_module": "@jupyter-widgets/base",
     "model_module_version": "1.2.0",
     "model_name": "LayoutModel",
     "state": {
      "_model_module": "@jupyter-widgets/base",
      "_model_module_version": "1.2.0",
      "_model_name": "LayoutModel",
      "_view_count": null,
      "_view_module": "@jupyter-widgets/base",
      "_view_module_version": "1.2.0",
      "_view_name": "LayoutView",
      "align_content": null,
      "align_items": null,
      "align_self": null,
      "border": null,
      "bottom": null,
      "display": null,
      "flex": null,
      "flex_flow": null,
      "grid_area": null,
      "grid_auto_columns": null,
      "grid_auto_flow": null,
      "grid_auto_rows": null,
      "grid_column": null,
      "grid_gap": null,
      "grid_row": null,
      "grid_template_areas": null,
      "grid_template_columns": null,
      "grid_template_rows": null,
      "height": null,
      "justify_content": null,
      "justify_items": null,
      "left": null,
      "margin": null,
      "max_height": null,
      "max_width": null,
      "min_height": null,
      "min_width": null,
      "object_fit": null,
      "object_position": null,
      "order": null,
      "overflow": null,
      "overflow_x": null,
      "overflow_y": null,
      "padding": null,
      "right": null,
      "top": null,
      "visibility": null,
      "width": null
     }
    },
    "377f26c2c4f2406d9f5072dcee2a6056": {
     "model_module": "@jupyter-widgets/controls",
     "model_module_version": "1.5.0",
     "model_name": "FloatProgressModel",
     "state": {
      "_dom_classes": [],
      "_model_module": "@jupyter-widgets/controls",
      "_model_module_version": "1.5.0",
      "_model_name": "FloatProgressModel",
      "_view_count": null,
      "_view_module": "@jupyter-widgets/controls",
      "_view_module_version": "1.5.0",
      "_view_name": "ProgressView",
      "bar_style": "success",
      "description": "",
      "description_tooltip": null,
      "layout": "IPY_MODEL_92fa5b2775af4531ad299b36ed2d3795",
      "max": 2,
      "min": 0,
      "orientation": "horizontal",
      "style": "IPY_MODEL_fb37ae4438e64c419b08e90ece65f846",
      "value": 2
     }
    },
    "3c3af516c0d94b27864b5235e5c8c637": {
     "model_module": "@jupyter-widgets/base",
     "model_module_version": "1.2.0",
     "model_name": "LayoutModel",
     "state": {
      "_model_module": "@jupyter-widgets/base",
      "_model_module_version": "1.2.0",
      "_model_name": "LayoutModel",
      "_view_count": null,
      "_view_module": "@jupyter-widgets/base",
      "_view_module_version": "1.2.0",
      "_view_name": "LayoutView",
      "align_content": null,
      "align_items": null,
      "align_self": null,
      "border": null,
      "bottom": null,
      "display": null,
      "flex": null,
      "flex_flow": null,
      "grid_area": null,
      "grid_auto_columns": null,
      "grid_auto_flow": null,
      "grid_auto_rows": null,
      "grid_column": null,
      "grid_gap": null,
      "grid_row": null,
      "grid_template_areas": null,
      "grid_template_columns": null,
      "grid_template_rows": null,
      "height": null,
      "justify_content": null,
      "justify_items": null,
      "left": null,
      "margin": null,
      "max_height": null,
      "max_width": null,
      "min_height": null,
      "min_width": null,
      "object_fit": null,
      "object_position": null,
      "order": null,
      "overflow": null,
      "overflow_x": null,
      "overflow_y": null,
      "padding": null,
      "right": null,
      "top": null,
      "visibility": null,
      "width": null
     }
    },
    "43879ae8aeb04cf5a2d8cef3941bcc6e": {
     "model_module": "@jupyter-widgets/base",
     "model_module_version": "1.2.0",
     "model_name": "LayoutModel",
     "state": {
      "_model_module": "@jupyter-widgets/base",
      "_model_module_version": "1.2.0",
      "_model_name": "LayoutModel",
      "_view_count": null,
      "_view_module": "@jupyter-widgets/base",
      "_view_module_version": "1.2.0",
      "_view_name": "LayoutView",
      "align_content": null,
      "align_items": null,
      "align_self": null,
      "border": null,
      "bottom": null,
      "display": null,
      "flex": null,
      "flex_flow": null,
      "grid_area": null,
      "grid_auto_columns": null,
      "grid_auto_flow": null,
      "grid_auto_rows": null,
      "grid_column": null,
      "grid_gap": null,
      "grid_row": null,
      "grid_template_areas": null,
      "grid_template_columns": null,
      "grid_template_rows": null,
      "height": null,
      "justify_content": null,
      "justify_items": null,
      "left": null,
      "margin": null,
      "max_height": null,
      "max_width": null,
      "min_height": null,
      "min_width": null,
      "object_fit": null,
      "object_position": null,
      "order": null,
      "overflow": null,
      "overflow_x": null,
      "overflow_y": null,
      "padding": null,
      "right": null,
      "top": null,
      "visibility": null,
      "width": null
     }
    },
    "4ba80fe11b424fbbbb209b7eeb8c1158": {
     "model_module": "@jupyter-widgets/base",
     "model_module_version": "1.2.0",
     "model_name": "LayoutModel",
     "state": {
      "_model_module": "@jupyter-widgets/base",
      "_model_module_version": "1.2.0",
      "_model_name": "LayoutModel",
      "_view_count": null,
      "_view_module": "@jupyter-widgets/base",
      "_view_module_version": "1.2.0",
      "_view_name": "LayoutView",
      "align_content": null,
      "align_items": null,
      "align_self": null,
      "border": null,
      "bottom": null,
      "display": null,
      "flex": null,
      "flex_flow": null,
      "grid_area": null,
      "grid_auto_columns": null,
      "grid_auto_flow": null,
      "grid_auto_rows": null,
      "grid_column": null,
      "grid_gap": null,
      "grid_row": null,
      "grid_template_areas": null,
      "grid_template_columns": null,
      "grid_template_rows": null,
      "height": null,
      "justify_content": null,
      "justify_items": null,
      "left": null,
      "margin": null,
      "max_height": null,
      "max_width": null,
      "min_height": null,
      "min_width": null,
      "object_fit": null,
      "object_position": null,
      "order": null,
      "overflow": null,
      "overflow_x": null,
      "overflow_y": null,
      "padding": null,
      "right": null,
      "top": null,
      "visibility": null,
      "width": null
     }
    },
    "4ceca63b8e4646dc8894253fb976622f": {
     "model_module": "@jupyter-widgets/controls",
     "model_module_version": "1.5.0",
     "model_name": "HTMLModel",
     "state": {
      "_dom_classes": [],
      "_model_module": "@jupyter-widgets/controls",
      "_model_module_version": "1.5.0",
      "_model_name": "HTMLModel",
      "_view_count": null,
      "_view_module": "@jupyter-widgets/controls",
      "_view_module_version": "1.5.0",
      "_view_name": "HTMLView",
      "description": "",
      "description_tooltip": null,
      "layout": "IPY_MODEL_f3f3199646184cc39616858f08798a38",
      "placeholder": "​",
      "style": "IPY_MODEL_80097afe75984d3b869a62ef667af4d3",
      "value": " 3259/3259 [00:00&lt;00:00, 5190.02 examples/s]"
     }
    },
    "4ed687e508d94bc788ea9a8de884cbb8": {
     "model_module": "@jupyter-widgets/controls",
     "model_module_version": "1.5.0",
     "model_name": "HBoxModel",
     "state": {
      "_dom_classes": [],
      "_model_module": "@jupyter-widgets/controls",
      "_model_module_version": "1.5.0",
      "_model_name": "HBoxModel",
      "_view_count": null,
      "_view_module": "@jupyter-widgets/controls",
      "_view_module_version": "1.5.0",
      "_view_name": "HBoxView",
      "box_style": "",
      "children": [
       "IPY_MODEL_33846eafc6b04de29c38a41be40d75a4",
       "IPY_MODEL_12afb295adab43509e8c2b0faf6def9b",
       "IPY_MODEL_cd5d5f2d4f4b4eb8b94e118497c6d275"
      ],
      "layout": "IPY_MODEL_3c3af516c0d94b27864b5235e5c8c637"
     }
    },
    "54296dbf17234852a1994c7552c1f860": {
     "model_module": "@jupyter-widgets/base",
     "model_module_version": "1.2.0",
     "model_name": "LayoutModel",
     "state": {
      "_model_module": "@jupyter-widgets/base",
      "_model_module_version": "1.2.0",
      "_model_name": "LayoutModel",
      "_view_count": null,
      "_view_module": "@jupyter-widgets/base",
      "_view_module_version": "1.2.0",
      "_view_name": "LayoutView",
      "align_content": null,
      "align_items": null,
      "align_self": null,
      "border": null,
      "bottom": null,
      "display": null,
      "flex": null,
      "flex_flow": null,
      "grid_area": null,
      "grid_auto_columns": null,
      "grid_auto_flow": null,
      "grid_auto_rows": null,
      "grid_column": null,
      "grid_gap": null,
      "grid_row": null,
      "grid_template_areas": null,
      "grid_template_columns": null,
      "grid_template_rows": null,
      "height": null,
      "justify_content": null,
      "justify_items": null,
      "left": null,
      "margin": null,
      "max_height": null,
      "max_width": null,
      "min_height": null,
      "min_width": null,
      "object_fit": null,
      "object_position": null,
      "order": null,
      "overflow": null,
      "overflow_x": null,
      "overflow_y": null,
      "padding": null,
      "right": null,
      "top": null,
      "visibility": null,
      "width": null
     }
    },
    "5616119f8edd498c9951c9b75cda1f78": {
     "model_module": "@jupyter-widgets/controls",
     "model_module_version": "1.5.0",
     "model_name": "HTMLModel",
     "state": {
      "_dom_classes": [],
      "_model_module": "@jupyter-widgets/controls",
      "_model_module_version": "1.5.0",
      "_model_name": "HTMLModel",
      "_view_count": null,
      "_view_module": "@jupyter-widgets/controls",
      "_view_module_version": "1.5.0",
      "_view_name": "HTMLView",
      "description": "",
      "description_tooltip": null,
      "layout": "IPY_MODEL_79a67106045844e0b912ea7441550251",
      "placeholder": "​",
      "style": "IPY_MODEL_dc003e38a5bf4e91ae698f7f3ecc97e6",
      "value": " 2/2 [00:05&lt;00:00,  2.71s/it]"
     }
    },
    "5759cb8ccdf14c4285f9f30e4f22bea8": {
     "model_module": "@jupyter-widgets/controls",
     "model_module_version": "1.5.0",
     "model_name": "CheckboxModel",
     "state": {
      "_dom_classes": [],
      "_model_module": "@jupyter-widgets/controls",
      "_model_module_version": "1.5.0",
      "_model_name": "CheckboxModel",
      "_view_count": null,
      "_view_module": "@jupyter-widgets/controls",
      "_view_module_version": "1.5.0",
      "_view_name": "CheckboxView",
      "description": "Add token as git credential?",
      "description_tooltip": null,
      "disabled": false,
      "indent": true,
      "layout": "IPY_MODEL_8320c1f4a9ab4c169c6773ac93822544",
      "style": "IPY_MODEL_c542172dc9b24e52919e2949096cee18",
      "value": true
     }
    },
    "5ca73a4fe9e944b9a9068bc38d42ada5": {
     "model_module": "@jupyter-widgets/base",
     "model_module_version": "1.2.0",
     "model_name": "LayoutModel",
     "state": {
      "_model_module": "@jupyter-widgets/base",
      "_model_module_version": "1.2.0",
      "_model_name": "LayoutModel",
      "_view_count": null,
      "_view_module": "@jupyter-widgets/base",
      "_view_module_version": "1.2.0",
      "_view_name": "LayoutView",
      "align_content": null,
      "align_items": null,
      "align_self": null,
      "border": null,
      "bottom": null,
      "display": null,
      "flex": null,
      "flex_flow": null,
      "grid_area": null,
      "grid_auto_columns": null,
      "grid_auto_flow": null,
      "grid_auto_rows": null,
      "grid_column": null,
      "grid_gap": null,
      "grid_row": null,
      "grid_template_areas": null,
      "grid_template_columns": null,
      "grid_template_rows": null,
      "height": null,
      "justify_content": null,
      "justify_items": null,
      "left": null,
      "margin": null,
      "max_height": null,
      "max_width": null,
      "min_height": null,
      "min_width": null,
      "object_fit": null,
      "object_position": null,
      "order": null,
      "overflow": null,
      "overflow_x": null,
      "overflow_y": null,
      "padding": null,
      "right": null,
      "top": null,
      "visibility": null,
      "width": null
     }
    },
    "5da787b6809241f8919d2667567f9ca9": {
     "model_module": "@jupyter-widgets/controls",
     "model_module_version": "1.5.0",
     "model_name": "ProgressStyleModel",
     "state": {
      "_model_module": "@jupyter-widgets/controls",
      "_model_module_version": "1.5.0",
      "_model_name": "ProgressStyleModel",
      "_view_count": null,
      "_view_module": "@jupyter-widgets/base",
      "_view_module_version": "1.2.0",
      "_view_name": "StyleView",
      "bar_color": null,
      "description_width": ""
     }
    },
    "5ee36031eef54ba6843683e453836b70": {
     "model_module": "@jupyter-widgets/controls",
     "model_module_version": "1.5.0",
     "model_name": "DescriptionStyleModel",
     "state": {
      "_model_module": "@jupyter-widgets/controls",
      "_model_module_version": "1.5.0",
      "_model_name": "DescriptionStyleModel",
      "_view_count": null,
      "_view_module": "@jupyter-widgets/base",
      "_view_module_version": "1.2.0",
      "_view_name": "StyleView",
      "description_width": ""
     }
    },
    "5ff2583da96a45a28fc4a6e9371c2330": {
     "model_module": "@jupyter-widgets/controls",
     "model_module_version": "1.5.0",
     "model_name": "HTMLModel",
     "state": {
      "_dom_classes": [],
      "_model_module": "@jupyter-widgets/controls",
      "_model_module_version": "1.5.0",
      "_model_name": "HTMLModel",
      "_view_count": null,
      "_view_module": "@jupyter-widgets/controls",
      "_view_module_version": "1.5.0",
      "_view_name": "HTMLView",
      "description": "",
      "description_tooltip": null,
      "layout": "IPY_MODEL_2d71bebdb21f4ca093ced1437a297ea4",
      "placeholder": "​",
      "style": "IPY_MODEL_96c149ae10a4409e86d9c9adc2ce8020",
      "value": "Map: 100%"
     }
    },
    "668c58306fa64900b260bb59efb98a82": {
     "model_module": "@jupyter-widgets/controls",
     "model_module_version": "1.5.0",
     "model_name": "HTMLModel",
     "state": {
      "_dom_classes": [],
      "_model_module": "@jupyter-widgets/controls",
      "_model_module_version": "1.5.0",
      "_model_name": "HTMLModel",
      "_view_count": null,
      "_view_module": "@jupyter-widgets/controls",
      "_view_module_version": "1.5.0",
      "_view_name": "HTMLView",
      "description": "",
      "description_tooltip": null,
      "layout": "IPY_MODEL_b55be309bf8d45189d05f3deb16bf006",
      "placeholder": "​",
      "style": "IPY_MODEL_5ee36031eef54ba6843683e453836b70",
      "value": "Downloading builder script: 100%"
     }
    },
    "6948cf347a1641168696a2c553faabcd": {
     "model_module": "@jupyter-widgets/controls",
     "model_module_version": "1.5.0",
     "model_name": "HBoxModel",
     "state": {
      "_dom_classes": [],
      "_model_module": "@jupyter-widgets/controls",
      "_model_module_version": "1.5.0",
      "_model_name": "HBoxModel",
      "_view_count": null,
      "_view_module": "@jupyter-widgets/controls",
      "_view_module_version": "1.5.0",
      "_view_name": "HBoxView",
      "box_style": "",
      "children": [
       "IPY_MODEL_6f2acf33a64e4440982fe43ff430cedc",
       "IPY_MODEL_8a2d1381b5c64417885529477f8c4913",
       "IPY_MODEL_0e081d6c4c5742beaf279d877edf6eb9"
      ],
      "layout": "IPY_MODEL_8c5bd065f6974024847b361db86ac0e8"
     }
    },
    "697d4ae492b74beb94ab32dc8d436c7c": {
     "model_module": "@jupyter-widgets/controls",
     "model_module_version": "1.5.0",
     "model_name": "DescriptionStyleModel",
     "state": {
      "_model_module": "@jupyter-widgets/controls",
      "_model_module_version": "1.5.0",
      "_model_name": "DescriptionStyleModel",
      "_view_count": null,
      "_view_module": "@jupyter-widgets/base",
      "_view_module_version": "1.2.0",
      "_view_name": "StyleView",
      "description_width": ""
     }
    },
    "69e7e5cc4116476798fa5a658b44ea42": {
     "model_module": "@jupyter-widgets/controls",
     "model_module_version": "1.5.0",
     "model_name": "HBoxModel",
     "state": {
      "_dom_classes": [],
      "_model_module": "@jupyter-widgets/controls",
      "_model_module_version": "1.5.0",
      "_model_name": "HBoxModel",
      "_view_count": null,
      "_view_module": "@jupyter-widgets/controls",
      "_view_module_version": "1.5.0",
      "_view_name": "HBoxView",
      "box_style": "",
      "children": [
       "IPY_MODEL_ea589855f15642dd917bea3f54913f2f",
       "IPY_MODEL_18ab3cf539d54321a0afcb3a2a34eb80",
       "IPY_MODEL_01fb4a5158af4e27b1792571bf028b8b"
      ],
      "layout": "IPY_MODEL_33c67d537d4b4e4c9eb6a34b279b00de"
     }
    },
    "6f2acf33a64e4440982fe43ff430cedc": {
     "model_module": "@jupyter-widgets/controls",
     "model_module_version": "1.5.0",
     "model_name": "HTMLModel",
     "state": {
      "_dom_classes": [],
      "_model_module": "@jupyter-widgets/controls",
      "_model_module_version": "1.5.0",
      "_model_name": "HTMLModel",
      "_view_count": null,
      "_view_module": "@jupyter-widgets/controls",
      "_view_module_version": "1.5.0",
      "_view_name": "HTMLView",
      "description": "",
      "description_tooltip": null,
      "layout": "IPY_MODEL_24c65f014d244856af7436785583647a",
      "placeholder": "​",
      "style": "IPY_MODEL_be40935fb5bf49eb884edbbf83c91998",
      "value": "Downloading builder script: 100%"
     }
    },
    "736c5ccc58fc4557a10347a6763cac1f": {
     "model_module": "@jupyter-widgets/controls",
     "model_module_version": "1.5.0",
     "model_name": "ProgressStyleModel",
     "state": {
      "_model_module": "@jupyter-widgets/controls",
      "_model_module_version": "1.5.0",
      "_model_name": "ProgressStyleModel",
      "_view_count": null,
      "_view_module": "@jupyter-widgets/base",
      "_view_module_version": "1.2.0",
      "_view_name": "StyleView",
      "bar_color": null,
      "description_width": ""
     }
    },
    "74c21881be074998a7db10fab3e28ab0": {
     "model_module": "@jupyter-widgets/controls",
     "model_module_version": "1.5.0",
     "model_name": "DescriptionStyleModel",
     "state": {
      "_model_module": "@jupyter-widgets/controls",
      "_model_module_version": "1.5.0",
      "_model_name": "DescriptionStyleModel",
      "_view_count": null,
      "_view_module": "@jupyter-widgets/base",
      "_view_module_version": "1.2.0",
      "_view_name": "StyleView",
      "description_width": ""
     }
    },
    "75db8f544a38474091e306a23ff2deee": {
     "model_module": "@jupyter-widgets/controls",
     "model_module_version": "1.5.0",
     "model_name": "HTMLModel",
     "state": {
      "_dom_classes": [],
      "_model_module": "@jupyter-widgets/controls",
      "_model_module_version": "1.5.0",
      "_model_name": "HTMLModel",
      "_view_count": null,
      "_view_module": "@jupyter-widgets/controls",
      "_view_module_version": "1.5.0",
      "_view_name": "HTMLView",
      "description": "",
      "description_tooltip": null,
      "layout": "IPY_MODEL_a7de4fe6d38044d89745bd5da4e09668",
      "placeholder": "​",
      "style": "IPY_MODEL_ce8ec68c6cca4829ae722eb4bb52b1cd",
      "value": " 3259/3259 [00:00&lt;00:00, 25171.32 examples/s]"
     }
    },
    "77a0013351044da096358f86e111eee4": {
     "model_module": "@jupyter-widgets/base",
     "model_module_version": "1.2.0",
     "model_name": "LayoutModel",
     "state": {
      "_model_module": "@jupyter-widgets/base",
      "_model_module_version": "1.2.0",
      "_model_name": "LayoutModel",
      "_view_count": null,
      "_view_module": "@jupyter-widgets/base",
      "_view_module_version": "1.2.0",
      "_view_name": "LayoutView",
      "align_content": null,
      "align_items": null,
      "align_self": null,
      "border": null,
      "bottom": null,
      "display": null,
      "flex": null,
      "flex_flow": null,
      "grid_area": null,
      "grid_auto_columns": null,
      "grid_auto_flow": null,
      "grid_auto_rows": null,
      "grid_column": null,
      "grid_gap": null,
      "grid_row": null,
      "grid_template_areas": null,
      "grid_template_columns": null,
      "grid_template_rows": null,
      "height": null,
      "justify_content": null,
      "justify_items": null,
      "left": null,
      "margin": null,
      "max_height": null,
      "max_width": null,
      "min_height": null,
      "min_width": null,
      "object_fit": null,
      "object_position": null,
      "order": null,
      "overflow": null,
      "overflow_x": null,
      "overflow_y": null,
      "padding": null,
      "right": null,
      "top": null,
      "visibility": null,
      "width": null
     }
    },
    "78a893919aba44ccbafef929a9018601": {
     "model_module": "@jupyter-widgets/base",
     "model_module_version": "1.2.0",
     "model_name": "LayoutModel",
     "state": {
      "_model_module": "@jupyter-widgets/base",
      "_model_module_version": "1.2.0",
      "_model_name": "LayoutModel",
      "_view_count": null,
      "_view_module": "@jupyter-widgets/base",
      "_view_module_version": "1.2.0",
      "_view_name": "LayoutView",
      "align_content": null,
      "align_items": null,
      "align_self": null,
      "border": null,
      "bottom": null,
      "display": null,
      "flex": null,
      "flex_flow": null,
      "grid_area": null,
      "grid_auto_columns": null,
      "grid_auto_flow": null,
      "grid_auto_rows": null,
      "grid_column": null,
      "grid_gap": null,
      "grid_row": null,
      "grid_template_areas": null,
      "grid_template_columns": null,
      "grid_template_rows": null,
      "height": null,
      "justify_content": null,
      "justify_items": null,
      "left": null,
      "margin": null,
      "max_height": null,
      "max_width": null,
      "min_height": null,
      "min_width": null,
      "object_fit": null,
      "object_position": null,
      "order": null,
      "overflow": null,
      "overflow_x": null,
      "overflow_y": null,
      "padding": null,
      "right": null,
      "top": null,
      "visibility": null,
      "width": null
     }
    },
    "79a67106045844e0b912ea7441550251": {
     "model_module": "@jupyter-widgets/base",
     "model_module_version": "1.2.0",
     "model_name": "LayoutModel",
     "state": {
      "_model_module": "@jupyter-widgets/base",
      "_model_module_version": "1.2.0",
      "_model_name": "LayoutModel",
      "_view_count": null,
      "_view_module": "@jupyter-widgets/base",
      "_view_module_version": "1.2.0",
      "_view_name": "LayoutView",
      "align_content": null,
      "align_items": null,
      "align_self": null,
      "border": null,
      "bottom": null,
      "display": null,
      "flex": null,
      "flex_flow": null,
      "grid_area": null,
      "grid_auto_columns": null,
      "grid_auto_flow": null,
      "grid_auto_rows": null,
      "grid_column": null,
      "grid_gap": null,
      "grid_row": null,
      "grid_template_areas": null,
      "grid_template_columns": null,
      "grid_template_rows": null,
      "height": null,
      "justify_content": null,
      "justify_items": null,
      "left": null,
      "margin": null,
      "max_height": null,
      "max_width": null,
      "min_height": null,
      "min_width": null,
      "object_fit": null,
      "object_position": null,
      "order": null,
      "overflow": null,
      "overflow_x": null,
      "overflow_y": null,
      "padding": null,
      "right": null,
      "top": null,
      "visibility": null,
      "width": null
     }
    },
    "7d4560eddf2f41df93aa354abf9cf0fa": {
     "model_module": "@jupyter-widgets/controls",
     "model_module_version": "1.5.0",
     "model_name": "ButtonStyleModel",
     "state": {
      "_model_module": "@jupyter-widgets/controls",
      "_model_module_version": "1.5.0",
      "_model_name": "ButtonStyleModel",
      "_view_count": null,
      "_view_module": "@jupyter-widgets/base",
      "_view_module_version": "1.2.0",
      "_view_name": "StyleView",
      "button_color": null,
      "font_weight": ""
     }
    },
    "80097afe75984d3b869a62ef667af4d3": {
     "model_module": "@jupyter-widgets/controls",
     "model_module_version": "1.5.0",
     "model_name": "DescriptionStyleModel",
     "state": {
      "_model_module": "@jupyter-widgets/controls",
      "_model_module_version": "1.5.0",
      "_model_name": "DescriptionStyleModel",
      "_view_count": null,
      "_view_module": "@jupyter-widgets/base",
      "_view_module_version": "1.2.0",
      "_view_name": "StyleView",
      "description_width": ""
     }
    },
    "8320c1f4a9ab4c169c6773ac93822544": {
     "model_module": "@jupyter-widgets/base",
     "model_module_version": "1.2.0",
     "model_name": "LayoutModel",
     "state": {
      "_model_module": "@jupyter-widgets/base",
      "_model_module_version": "1.2.0",
      "_model_name": "LayoutModel",
      "_view_count": null,
      "_view_module": "@jupyter-widgets/base",
      "_view_module_version": "1.2.0",
      "_view_name": "LayoutView",
      "align_content": null,
      "align_items": null,
      "align_self": null,
      "border": null,
      "bottom": null,
      "display": null,
      "flex": null,
      "flex_flow": null,
      "grid_area": null,
      "grid_auto_columns": null,
      "grid_auto_flow": null,
      "grid_auto_rows": null,
      "grid_column": null,
      "grid_gap": null,
      "grid_row": null,
      "grid_template_areas": null,
      "grid_template_columns": null,
      "grid_template_rows": null,
      "height": null,
      "justify_content": null,
      "justify_items": null,
      "left": null,
      "margin": null,
      "max_height": null,
      "max_width": null,
      "min_height": null,
      "min_width": null,
      "object_fit": null,
      "object_position": null,
      "order": null,
      "overflow": null,
      "overflow_x": null,
      "overflow_y": null,
      "padding": null,
      "right": null,
      "top": null,
      "visibility": null,
      "width": null
     }
    },
    "83cc853075034b639a7b8907a5ca249c": {
     "model_module": "@jupyter-widgets/controls",
     "model_module_version": "1.5.0",
     "model_name": "ProgressStyleModel",
     "state": {
      "_model_module": "@jupyter-widgets/controls",
      "_model_module_version": "1.5.0",
      "_model_name": "ProgressStyleModel",
      "_view_count": null,
      "_view_module": "@jupyter-widgets/base",
      "_view_module_version": "1.2.0",
      "_view_name": "StyleView",
      "bar_color": null,
      "description_width": ""
     }
    },
    "858ddace32c9463fb9c3c774124ac25e": {
     "model_module": "@jupyter-widgets/controls",
     "model_module_version": "1.5.0",
     "model_name": "HTMLModel",
     "state": {
      "_dom_classes": [],
      "_model_module": "@jupyter-widgets/controls",
      "_model_module_version": "1.5.0",
      "_model_name": "HTMLModel",
      "_view_count": null,
      "_view_module": "@jupyter-widgets/controls",
      "_view_module_version": "1.5.0",
      "_view_name": "HTMLView",
      "description": "",
      "description_tooltip": null,
      "layout": "IPY_MODEL_77a0013351044da096358f86e111eee4",
      "placeholder": "​",
      "style": "IPY_MODEL_f849751e40384bd789d0e5bde13f3f3b",
      "value": "Loading checkpoint shards: 100%"
     }
    },
    "85ba83331e35435c97f1cb287fd539ce": {
     "model_module": "@jupyter-widgets/controls",
     "model_module_version": "1.5.0",
     "model_name": "FloatProgressModel",
     "state": {
      "_dom_classes": [],
      "_model_module": "@jupyter-widgets/controls",
      "_model_module_version": "1.5.0",
      "_model_name": "FloatProgressModel",
      "_view_count": null,
      "_view_module": "@jupyter-widgets/controls",
      "_view_module_version": "1.5.0",
      "_view_name": "ProgressView",
      "bar_style": "success",
      "description": "",
      "description_tooltip": null,
      "layout": "IPY_MODEL_92870b26edc644828b843d2e5b9f76bd",
      "max": 3259,
      "min": 0,
      "orientation": "horizontal",
      "style": "IPY_MODEL_9fb745711ab4422aba1f2a409ae2098e",
      "value": 3259
     }
    },
    "85faffd9ae804bb9915a1f9139afe9bb": {
     "model_module": "@jupyter-widgets/controls",
     "model_module_version": "1.5.0",
     "model_name": "HBoxModel",
     "state": {
      "_dom_classes": [],
      "_model_module": "@jupyter-widgets/controls",
      "_model_module_version": "1.5.0",
      "_model_name": "HBoxModel",
      "_view_count": null,
      "_view_module": "@jupyter-widgets/controls",
      "_view_module_version": "1.5.0",
      "_view_name": "HBoxView",
      "box_style": "",
      "children": [
       "IPY_MODEL_668c58306fa64900b260bb59efb98a82",
       "IPY_MODEL_95d8c3bf1a404fa9aab79b775eb7eee2",
       "IPY_MODEL_b1baa6ac694d45e98a48aaa2d14da940"
      ],
      "layout": "IPY_MODEL_9c69e48a20a048ae8d31b081e040786c"
     }
    },
    "87a1973ae738497fa537fd1f2d111544": {
     "model_module": "@jupyter-widgets/base",
     "model_module_version": "1.2.0",
     "model_name": "LayoutModel",
     "state": {
      "_model_module": "@jupyter-widgets/base",
      "_model_module_version": "1.2.0",
      "_model_name": "LayoutModel",
      "_view_count": null,
      "_view_module": "@jupyter-widgets/base",
      "_view_module_version": "1.2.0",
      "_view_name": "LayoutView",
      "align_content": null,
      "align_items": null,
      "align_self": null,
      "border": null,
      "bottom": null,
      "display": null,
      "flex": null,
      "flex_flow": null,
      "grid_area": null,
      "grid_auto_columns": null,
      "grid_auto_flow": null,
      "grid_auto_rows": null,
      "grid_column": null,
      "grid_gap": null,
      "grid_row": null,
      "grid_template_areas": null,
      "grid_template_columns": null,
      "grid_template_rows": null,
      "height": null,
      "justify_content": null,
      "justify_items": null,
      "left": null,
      "margin": null,
      "max_height": null,
      "max_width": null,
      "min_height": null,
      "min_width": null,
      "object_fit": null,
      "object_position": null,
      "order": null,
      "overflow": null,
      "overflow_x": null,
      "overflow_y": null,
      "padding": null,
      "right": null,
      "top": null,
      "visibility": null,
      "width": null
     }
    },
    "8a2d1381b5c64417885529477f8c4913": {
     "model_module": "@jupyter-widgets/controls",
     "model_module_version": "1.5.0",
     "model_name": "FloatProgressModel",
     "state": {
      "_dom_classes": [],
      "_model_module": "@jupyter-widgets/controls",
      "_model_module_version": "1.5.0",
      "_model_name": "FloatProgressModel",
      "_view_count": null,
      "_view_module": "@jupyter-widgets/controls",
      "_view_module_version": "1.5.0",
      "_view_name": "ProgressView",
      "bar_style": "success",
      "description": "",
      "description_tooltip": null,
      "layout": "IPY_MODEL_e2b39f3694aa4606a36415abe5a322fe",
      "max": 4203,
      "min": 0,
      "orientation": "horizontal",
      "style": "IPY_MODEL_93c89fd1b9494ec19771093baf809163",
      "value": 4203
     }
    },
    "8bec8c6c993c4781a4429d1a38b1c6fb": {
     "model_module": "@jupyter-widgets/controls",
     "model_module_version": "1.5.0",
     "model_name": "ProgressStyleModel",
     "state": {
      "_model_module": "@jupyter-widgets/controls",
      "_model_module_version": "1.5.0",
      "_model_name": "ProgressStyleModel",
      "_view_count": null,
      "_view_module": "@jupyter-widgets/base",
      "_view_module_version": "1.2.0",
      "_view_name": "StyleView",
      "bar_color": null,
      "description_width": ""
     }
    },
    "8c5bd065f6974024847b361db86ac0e8": {
     "model_module": "@jupyter-widgets/base",
     "model_module_version": "1.2.0",
     "model_name": "LayoutModel",
     "state": {
      "_model_module": "@jupyter-widgets/base",
      "_model_module_version": "1.2.0",
      "_model_name": "LayoutModel",
      "_view_count": null,
      "_view_module": "@jupyter-widgets/base",
      "_view_module_version": "1.2.0",
      "_view_name": "LayoutView",
      "align_content": null,
      "align_items": null,
      "align_self": null,
      "border": null,
      "bottom": null,
      "display": null,
      "flex": null,
      "flex_flow": null,
      "grid_area": null,
      "grid_auto_columns": null,
      "grid_auto_flow": null,
      "grid_auto_rows": null,
      "grid_column": null,
      "grid_gap": null,
      "grid_row": null,
      "grid_template_areas": null,
      "grid_template_columns": null,
      "grid_template_rows": null,
      "height": null,
      "justify_content": null,
      "justify_items": null,
      "left": null,
      "margin": null,
      "max_height": null,
      "max_width": null,
      "min_height": null,
      "min_width": null,
      "object_fit": null,
      "object_position": null,
      "order": null,
      "overflow": null,
      "overflow_x": null,
      "overflow_y": null,
      "padding": null,
      "right": null,
      "top": null,
      "visibility": null,
      "width": null
     }
    },
    "8d6d8acdfa3947ee8748f84893da8d26": {
     "model_module": "@jupyter-widgets/base",
     "model_module_version": "1.2.0",
     "model_name": "LayoutModel",
     "state": {
      "_model_module": "@jupyter-widgets/base",
      "_model_module_version": "1.2.0",
      "_model_name": "LayoutModel",
      "_view_count": null,
      "_view_module": "@jupyter-widgets/base",
      "_view_module_version": "1.2.0",
      "_view_name": "LayoutView",
      "align_content": null,
      "align_items": null,
      "align_self": null,
      "border": null,
      "bottom": null,
      "display": null,
      "flex": null,
      "flex_flow": null,
      "grid_area": null,
      "grid_auto_columns": null,
      "grid_auto_flow": null,
      "grid_auto_rows": null,
      "grid_column": null,
      "grid_gap": null,
      "grid_row": null,
      "grid_template_areas": null,
      "grid_template_columns": null,
      "grid_template_rows": null,
      "height": null,
      "justify_content": null,
      "justify_items": null,
      "left": null,
      "margin": null,
      "max_height": null,
      "max_width": null,
      "min_height": null,
      "min_width": null,
      "object_fit": null,
      "object_position": null,
      "order": null,
      "overflow": null,
      "overflow_x": null,
      "overflow_y": null,
      "padding": null,
      "right": null,
      "top": null,
      "visibility": null,
      "width": null
     }
    },
    "8e24ece651474d2593a467a21ed99b1f": {
     "model_module": "@jupyter-widgets/controls",
     "model_module_version": "1.5.0",
     "model_name": "DescriptionStyleModel",
     "state": {
      "_model_module": "@jupyter-widgets/controls",
      "_model_module_version": "1.5.0",
      "_model_name": "DescriptionStyleModel",
      "_view_count": null,
      "_view_module": "@jupyter-widgets/base",
      "_view_module_version": "1.2.0",
      "_view_name": "StyleView",
      "description_width": ""
     }
    },
    "92870b26edc644828b843d2e5b9f76bd": {
     "model_module": "@jupyter-widgets/base",
     "model_module_version": "1.2.0",
     "model_name": "LayoutModel",
     "state": {
      "_model_module": "@jupyter-widgets/base",
      "_model_module_version": "1.2.0",
      "_model_name": "LayoutModel",
      "_view_count": null,
      "_view_module": "@jupyter-widgets/base",
      "_view_module_version": "1.2.0",
      "_view_name": "LayoutView",
      "align_content": null,
      "align_items": null,
      "align_self": null,
      "border": null,
      "bottom": null,
      "display": null,
      "flex": null,
      "flex_flow": null,
      "grid_area": null,
      "grid_auto_columns": null,
      "grid_auto_flow": null,
      "grid_auto_rows": null,
      "grid_column": null,
      "grid_gap": null,
      "grid_row": null,
      "grid_template_areas": null,
      "grid_template_columns": null,
      "grid_template_rows": null,
      "height": null,
      "justify_content": null,
      "justify_items": null,
      "left": null,
      "margin": null,
      "max_height": null,
      "max_width": null,
      "min_height": null,
      "min_width": null,
      "object_fit": null,
      "object_position": null,
      "order": null,
      "overflow": null,
      "overflow_x": null,
      "overflow_y": null,
      "padding": null,
      "right": null,
      "top": null,
      "visibility": null,
      "width": null
     }
    },
    "92fa5b2775af4531ad299b36ed2d3795": {
     "model_module": "@jupyter-widgets/base",
     "model_module_version": "1.2.0",
     "model_name": "LayoutModel",
     "state": {
      "_model_module": "@jupyter-widgets/base",
      "_model_module_version": "1.2.0",
      "_model_name": "LayoutModel",
      "_view_count": null,
      "_view_module": "@jupyter-widgets/base",
      "_view_module_version": "1.2.0",
      "_view_name": "LayoutView",
      "align_content": null,
      "align_items": null,
      "align_self": null,
      "border": null,
      "bottom": null,
      "display": null,
      "flex": null,
      "flex_flow": null,
      "grid_area": null,
      "grid_auto_columns": null,
      "grid_auto_flow": null,
      "grid_auto_rows": null,
      "grid_column": null,
      "grid_gap": null,
      "grid_row": null,
      "grid_template_areas": null,
      "grid_template_columns": null,
      "grid_template_rows": null,
      "height": null,
      "justify_content": null,
      "justify_items": null,
      "left": null,
      "margin": null,
      "max_height": null,
      "max_width": null,
      "min_height": null,
      "min_width": null,
      "object_fit": null,
      "object_position": null,
      "order": null,
      "overflow": null,
      "overflow_x": null,
      "overflow_y": null,
      "padding": null,
      "right": null,
      "top": null,
      "visibility": null,
      "width": null
     }
    },
    "93c89fd1b9494ec19771093baf809163": {
     "model_module": "@jupyter-widgets/controls",
     "model_module_version": "1.5.0",
     "model_name": "ProgressStyleModel",
     "state": {
      "_model_module": "@jupyter-widgets/controls",
      "_model_module_version": "1.5.0",
      "_model_name": "ProgressStyleModel",
      "_view_count": null,
      "_view_module": "@jupyter-widgets/base",
      "_view_module_version": "1.2.0",
      "_view_name": "StyleView",
      "bar_color": null,
      "description_width": ""
     }
    },
    "94f9c0b424f045aa9b5da45d39c29a5a": {
     "model_module": "@jupyter-widgets/base",
     "model_module_version": "1.2.0",
     "model_name": "LayoutModel",
     "state": {
      "_model_module": "@jupyter-widgets/base",
      "_model_module_version": "1.2.0",
      "_model_name": "LayoutModel",
      "_view_count": null,
      "_view_module": "@jupyter-widgets/base",
      "_view_module_version": "1.2.0",
      "_view_name": "LayoutView",
      "align_content": null,
      "align_items": null,
      "align_self": null,
      "border": null,
      "bottom": null,
      "display": null,
      "flex": null,
      "flex_flow": null,
      "grid_area": null,
      "grid_auto_columns": null,
      "grid_auto_flow": null,
      "grid_auto_rows": null,
      "grid_column": null,
      "grid_gap": null,
      "grid_row": null,
      "grid_template_areas": null,
      "grid_template_columns": null,
      "grid_template_rows": null,
      "height": null,
      "justify_content": null,
      "justify_items": null,
      "left": null,
      "margin": null,
      "max_height": null,
      "max_width": null,
      "min_height": null,
      "min_width": null,
      "object_fit": null,
      "object_position": null,
      "order": null,
      "overflow": null,
      "overflow_x": null,
      "overflow_y": null,
      "padding": null,
      "right": null,
      "top": null,
      "visibility": null,
      "width": null
     }
    },
    "95d8c3bf1a404fa9aab79b775eb7eee2": {
     "model_module": "@jupyter-widgets/controls",
     "model_module_version": "1.5.0",
     "model_name": "FloatProgressModel",
     "state": {
      "_dom_classes": [],
      "_model_module": "@jupyter-widgets/controls",
      "_model_module_version": "1.5.0",
      "_model_name": "FloatProgressModel",
      "_view_count": null,
      "_view_module": "@jupyter-widgets/controls",
      "_view_module_version": "1.5.0",
      "_view_name": "ProgressView",
      "bar_style": "success",
      "description": "",
      "description_tooltip": null,
      "layout": "IPY_MODEL_c195dcc26f9546628bf984808835c97c",
      "max": 6771,
      "min": 0,
      "orientation": "horizontal",
      "style": "IPY_MODEL_8bec8c6c993c4781a4429d1a38b1c6fb",
      "value": 6771
     }
    },
    "96c149ae10a4409e86d9c9adc2ce8020": {
     "model_module": "@jupyter-widgets/controls",
     "model_module_version": "1.5.0",
     "model_name": "DescriptionStyleModel",
     "state": {
      "_model_module": "@jupyter-widgets/controls",
      "_model_module_version": "1.5.0",
      "_model_name": "DescriptionStyleModel",
      "_view_count": null,
      "_view_module": "@jupyter-widgets/base",
      "_view_module_version": "1.2.0",
      "_view_name": "StyleView",
      "description_width": ""
     }
    },
    "9714fbdfa0b0470ebebaa016e8c88fa8": {
     "model_module": "@jupyter-widgets/controls",
     "model_module_version": "1.5.0",
     "model_name": "DescriptionStyleModel",
     "state": {
      "_model_module": "@jupyter-widgets/controls",
      "_model_module_version": "1.5.0",
      "_model_name": "DescriptionStyleModel",
      "_view_count": null,
      "_view_module": "@jupyter-widgets/base",
      "_view_module_version": "1.2.0",
      "_view_name": "StyleView",
      "description_width": ""
     }
    },
    "98c96e10efd74f18a75fbd58a4942585": {
     "model_module": "@jupyter-widgets/controls",
     "model_module_version": "1.5.0",
     "model_name": "HTMLModel",
     "state": {
      "_dom_classes": [],
      "_model_module": "@jupyter-widgets/controls",
      "_model_module_version": "1.5.0",
      "_model_name": "HTMLModel",
      "_view_count": null,
      "_view_module": "@jupyter-widgets/controls",
      "_view_module_version": "1.5.0",
      "_view_name": "HTMLView",
      "description": "",
      "description_tooltip": null,
      "layout": "IPY_MODEL_a28bcf52de08409bbadb01216dc5ee2e",
      "placeholder": "​",
      "style": "IPY_MODEL_9714fbdfa0b0470ebebaa016e8c88fa8",
      "value": " 7724/7724 [00:00&lt;00:00, 24419.60 examples/s]"
     }
    },
    "9a9bbbe093f44b9f85ec12f59cc0cfd3": {
     "model_module": "@jupyter-widgets/controls",
     "model_module_version": "1.5.0",
     "model_name": "DescriptionStyleModel",
     "state": {
      "_model_module": "@jupyter-widgets/controls",
      "_model_module_version": "1.5.0",
      "_model_name": "DescriptionStyleModel",
      "_view_count": null,
      "_view_module": "@jupyter-widgets/base",
      "_view_module_version": "1.2.0",
      "_view_name": "StyleView",
      "description_width": ""
     }
    },
    "9b3a46fb2fc2469db31e9ee1a32003e0": {
     "model_module": "@jupyter-widgets/base",
     "model_module_version": "1.2.0",
     "model_name": "LayoutModel",
     "state": {
      "_model_module": "@jupyter-widgets/base",
      "_model_module_version": "1.2.0",
      "_model_name": "LayoutModel",
      "_view_count": null,
      "_view_module": "@jupyter-widgets/base",
      "_view_module_version": "1.2.0",
      "_view_name": "LayoutView",
      "align_content": null,
      "align_items": null,
      "align_self": null,
      "border": null,
      "bottom": null,
      "display": null,
      "flex": null,
      "flex_flow": null,
      "grid_area": null,
      "grid_auto_columns": null,
      "grid_auto_flow": null,
      "grid_auto_rows": null,
      "grid_column": null,
      "grid_gap": null,
      "grid_row": null,
      "grid_template_areas": null,
      "grid_template_columns": null,
      "grid_template_rows": null,
      "height": null,
      "justify_content": null,
      "justify_items": null,
      "left": null,
      "margin": null,
      "max_height": null,
      "max_width": null,
      "min_height": null,
      "min_width": null,
      "object_fit": null,
      "object_position": null,
      "order": null,
      "overflow": null,
      "overflow_x": null,
      "overflow_y": null,
      "padding": null,
      "right": null,
      "top": null,
      "visibility": null,
      "width": null
     }
    },
    "9c69e48a20a048ae8d31b081e040786c": {
     "model_module": "@jupyter-widgets/base",
     "model_module_version": "1.2.0",
     "model_name": "LayoutModel",
     "state": {
      "_model_module": "@jupyter-widgets/base",
      "_model_module_version": "1.2.0",
      "_model_name": "LayoutModel",
      "_view_count": null,
      "_view_module": "@jupyter-widgets/base",
      "_view_module_version": "1.2.0",
      "_view_name": "LayoutView",
      "align_content": null,
      "align_items": null,
      "align_self": null,
      "border": null,
      "bottom": null,
      "display": null,
      "flex": null,
      "flex_flow": null,
      "grid_area": null,
      "grid_auto_columns": null,
      "grid_auto_flow": null,
      "grid_auto_rows": null,
      "grid_column": null,
      "grid_gap": null,
      "grid_row": null,
      "grid_template_areas": null,
      "grid_template_columns": null,
      "grid_template_rows": null,
      "height": null,
      "justify_content": null,
      "justify_items": null,
      "left": null,
      "margin": null,
      "max_height": null,
      "max_width": null,
      "min_height": null,
      "min_width": null,
      "object_fit": null,
      "object_position": null,
      "order": null,
      "overflow": null,
      "overflow_x": null,
      "overflow_y": null,
      "padding": null,
      "right": null,
      "top": null,
      "visibility": null,
      "width": null
     }
    },
    "9fb745711ab4422aba1f2a409ae2098e": {
     "model_module": "@jupyter-widgets/controls",
     "model_module_version": "1.5.0",
     "model_name": "ProgressStyleModel",
     "state": {
      "_model_module": "@jupyter-widgets/controls",
      "_model_module_version": "1.5.0",
      "_model_name": "ProgressStyleModel",
      "_view_count": null,
      "_view_module": "@jupyter-widgets/base",
      "_view_module_version": "1.2.0",
      "_view_name": "StyleView",
      "bar_color": null,
      "description_width": ""
     }
    },
    "a0a34f8597134e0cbf90c278d0db0a99": {
     "model_module": "@jupyter-widgets/controls",
     "model_module_version": "1.5.0",
     "model_name": "FloatProgressModel",
     "state": {
      "_dom_classes": [],
      "_model_module": "@jupyter-widgets/controls",
      "_model_module_version": "1.5.0",
      "_model_name": "FloatProgressModel",
      "_view_count": null,
      "_view_module": "@jupyter-widgets/controls",
      "_view_module_version": "1.5.0",
      "_view_name": "ProgressView",
      "bar_style": "success",
      "description": "",
      "description_tooltip": null,
      "layout": "IPY_MODEL_04737b076ddd4541b1d1a457d930760e",
      "max": 3259,
      "min": 0,
      "orientation": "horizontal",
      "style": "IPY_MODEL_83cc853075034b639a7b8907a5ca249c",
      "value": 3259
     }
    },
    "a28bcf52de08409bbadb01216dc5ee2e": {
     "model_module": "@jupyter-widgets/base",
     "model_module_version": "1.2.0",
     "model_name": "LayoutModel",
     "state": {
      "_model_module": "@jupyter-widgets/base",
      "_model_module_version": "1.2.0",
      "_model_name": "LayoutModel",
      "_view_count": null,
      "_view_module": "@jupyter-widgets/base",
      "_view_module_version": "1.2.0",
      "_view_name": "LayoutView",
      "align_content": null,
      "align_items": null,
      "align_self": null,
      "border": null,
      "bottom": null,
      "display": null,
      "flex": null,
      "flex_flow": null,
      "grid_area": null,
      "grid_auto_columns": null,
      "grid_auto_flow": null,
      "grid_auto_rows": null,
      "grid_column": null,
      "grid_gap": null,
      "grid_row": null,
      "grid_template_areas": null,
      "grid_template_columns": null,
      "grid_template_rows": null,
      "height": null,
      "justify_content": null,
      "justify_items": null,
      "left": null,
      "margin": null,
      "max_height": null,
      "max_width": null,
      "min_height": null,
      "min_width": null,
      "object_fit": null,
      "object_position": null,
      "order": null,
      "overflow": null,
      "overflow_x": null,
      "overflow_y": null,
      "padding": null,
      "right": null,
      "top": null,
      "visibility": null,
      "width": null
     }
    },
    "a7de4fe6d38044d89745bd5da4e09668": {
     "model_module": "@jupyter-widgets/base",
     "model_module_version": "1.2.0",
     "model_name": "LayoutModel",
     "state": {
      "_model_module": "@jupyter-widgets/base",
      "_model_module_version": "1.2.0",
      "_model_name": "LayoutModel",
      "_view_count": null,
      "_view_module": "@jupyter-widgets/base",
      "_view_module_version": "1.2.0",
      "_view_name": "LayoutView",
      "align_content": null,
      "align_items": null,
      "align_self": null,
      "border": null,
      "bottom": null,
      "display": null,
      "flex": null,
      "flex_flow": null,
      "grid_area": null,
      "grid_auto_columns": null,
      "grid_auto_flow": null,
      "grid_auto_rows": null,
      "grid_column": null,
      "grid_gap": null,
      "grid_row": null,
      "grid_template_areas": null,
      "grid_template_columns": null,
      "grid_template_rows": null,
      "height": null,
      "justify_content": null,
      "justify_items": null,
      "left": null,
      "margin": null,
      "max_height": null,
      "max_width": null,
      "min_height": null,
      "min_width": null,
      "object_fit": null,
      "object_position": null,
      "order": null,
      "overflow": null,
      "overflow_x": null,
      "overflow_y": null,
      "padding": null,
      "right": null,
      "top": null,
      "visibility": null,
      "width": null
     }
    },
    "abb2b75c9d8f4d429e52807d3f9b58d5": {
     "model_module": "@jupyter-widgets/base",
     "model_module_version": "1.2.0",
     "model_name": "LayoutModel",
     "state": {
      "_model_module": "@jupyter-widgets/base",
      "_model_module_version": "1.2.0",
      "_model_name": "LayoutModel",
      "_view_count": null,
      "_view_module": "@jupyter-widgets/base",
      "_view_module_version": "1.2.0",
      "_view_name": "LayoutView",
      "align_content": null,
      "align_items": null,
      "align_self": null,
      "border": null,
      "bottom": null,
      "display": null,
      "flex": null,
      "flex_flow": null,
      "grid_area": null,
      "grid_auto_columns": null,
      "grid_auto_flow": null,
      "grid_auto_rows": null,
      "grid_column": null,
      "grid_gap": null,
      "grid_row": null,
      "grid_template_areas": null,
      "grid_template_columns": null,
      "grid_template_rows": null,
      "height": null,
      "justify_content": null,
      "justify_items": null,
      "left": null,
      "margin": null,
      "max_height": null,
      "max_width": null,
      "min_height": null,
      "min_width": null,
      "object_fit": null,
      "object_position": null,
      "order": null,
      "overflow": null,
      "overflow_x": null,
      "overflow_y": null,
      "padding": null,
      "right": null,
      "top": null,
      "visibility": null,
      "width": null
     }
    },
    "af44eac6d785455a81516a5dbf085e7b": {
     "model_module": "@jupyter-widgets/base",
     "model_module_version": "1.2.0",
     "model_name": "LayoutModel",
     "state": {
      "_model_module": "@jupyter-widgets/base",
      "_model_module_version": "1.2.0",
      "_model_name": "LayoutModel",
      "_view_count": null,
      "_view_module": "@jupyter-widgets/base",
      "_view_module_version": "1.2.0",
      "_view_name": "LayoutView",
      "align_content": null,
      "align_items": null,
      "align_self": null,
      "border": null,
      "bottom": null,
      "display": null,
      "flex": null,
      "flex_flow": null,
      "grid_area": null,
      "grid_auto_columns": null,
      "grid_auto_flow": null,
      "grid_auto_rows": null,
      "grid_column": null,
      "grid_gap": null,
      "grid_row": null,
      "grid_template_areas": null,
      "grid_template_columns": null,
      "grid_template_rows": null,
      "height": null,
      "justify_content": null,
      "justify_items": null,
      "left": null,
      "margin": null,
      "max_height": null,
      "max_width": null,
      "min_height": null,
      "min_width": null,
      "object_fit": null,
      "object_position": null,
      "order": null,
      "overflow": null,
      "overflow_x": null,
      "overflow_y": null,
      "padding": null,
      "right": null,
      "top": null,
      "visibility": null,
      "width": null
     }
    },
    "b1baa6ac694d45e98a48aaa2d14da940": {
     "model_module": "@jupyter-widgets/controls",
     "model_module_version": "1.5.0",
     "model_name": "HTMLModel",
     "state": {
      "_dom_classes": [],
      "_model_module": "@jupyter-widgets/controls",
      "_model_module_version": "1.5.0",
      "_model_name": "HTMLModel",
      "_view_count": null,
      "_view_module": "@jupyter-widgets/controls",
      "_view_module_version": "1.5.0",
      "_view_name": "HTMLView",
      "description": "",
      "description_tooltip": null,
      "layout": "IPY_MODEL_d5a7a219972a4c299ef5fe7249518a7d",
      "placeholder": "​",
      "style": "IPY_MODEL_8e24ece651474d2593a467a21ed99b1f",
      "value": " 6.77k/6.77k [00:00&lt;00:00, 524kB/s]"
     }
    },
    "b3720cab402d4f77905e15b1abf085f8": {
     "model_module": "@jupyter-widgets/controls",
     "model_module_version": "1.5.0",
     "model_name": "DescriptionStyleModel",
     "state": {
      "_model_module": "@jupyter-widgets/controls",
      "_model_module_version": "1.5.0",
      "_model_name": "DescriptionStyleModel",
      "_view_count": null,
      "_view_module": "@jupyter-widgets/base",
      "_view_module_version": "1.2.0",
      "_view_name": "StyleView",
      "description_width": ""
     }
    },
    "b55be309bf8d45189d05f3deb16bf006": {
     "model_module": "@jupyter-widgets/base",
     "model_module_version": "1.2.0",
     "model_name": "LayoutModel",
     "state": {
      "_model_module": "@jupyter-widgets/base",
      "_model_module_version": "1.2.0",
      "_model_name": "LayoutModel",
      "_view_count": null,
      "_view_module": "@jupyter-widgets/base",
      "_view_module_version": "1.2.0",
      "_view_name": "LayoutView",
      "align_content": null,
      "align_items": null,
      "align_self": null,
      "border": null,
      "bottom": null,
      "display": null,
      "flex": null,
      "flex_flow": null,
      "grid_area": null,
      "grid_auto_columns": null,
      "grid_auto_flow": null,
      "grid_auto_rows": null,
      "grid_column": null,
      "grid_gap": null,
      "grid_row": null,
      "grid_template_areas": null,
      "grid_template_columns": null,
      "grid_template_rows": null,
      "height": null,
      "justify_content": null,
      "justify_items": null,
      "left": null,
      "margin": null,
      "max_height": null,
      "max_width": null,
      "min_height": null,
      "min_width": null,
      "object_fit": null,
      "object_position": null,
      "order": null,
      "overflow": null,
      "overflow_x": null,
      "overflow_y": null,
      "padding": null,
      "right": null,
      "top": null,
      "visibility": null,
      "width": null
     }
    },
    "b5a521a0cd3841d0aa5a225a63491ec3": {
     "model_module": "@jupyter-widgets/controls",
     "model_module_version": "1.5.0",
     "model_name": "VBoxModel",
     "state": {
      "_dom_classes": [],
      "_model_module": "@jupyter-widgets/controls",
      "_model_module_version": "1.5.0",
      "_model_name": "VBoxModel",
      "_view_count": null,
      "_view_module": "@jupyter-widgets/controls",
      "_view_module_version": "1.5.0",
      "_view_name": "VBoxView",
      "box_style": "",
      "children": [
       "IPY_MODEL_0fc20b918ea842f19e873f1d1b356006",
       "IPY_MODEL_e8be91383673444cb08e95720943728a",
       "IPY_MODEL_5759cb8ccdf14c4285f9f30e4f22bea8",
       "IPY_MODEL_c9777dffde6143d0bed4911dcafbda73",
       "IPY_MODEL_29e6cb70e70e4cd7adea8db7258347c3"
      ],
      "layout": "IPY_MODEL_cb15f8ef1ae84807b04ad4d5099b7cb6"
     }
    },
    "b5adc779444c4335a10d8583e52cb7aa": {
     "model_module": "@jupyter-widgets/base",
     "model_module_version": "1.2.0",
     "model_name": "LayoutModel",
     "state": {
      "_model_module": "@jupyter-widgets/base",
      "_model_module_version": "1.2.0",
      "_model_name": "LayoutModel",
      "_view_count": null,
      "_view_module": "@jupyter-widgets/base",
      "_view_module_version": "1.2.0",
      "_view_name": "LayoutView",
      "align_content": null,
      "align_items": null,
      "align_self": null,
      "border": null,
      "bottom": null,
      "display": null,
      "flex": null,
      "flex_flow": null,
      "grid_area": null,
      "grid_auto_columns": null,
      "grid_auto_flow": null,
      "grid_auto_rows": null,
      "grid_column": null,
      "grid_gap": null,
      "grid_row": null,
      "grid_template_areas": null,
      "grid_template_columns": null,
      "grid_template_rows": null,
      "height": null,
      "justify_content": null,
      "justify_items": null,
      "left": null,
      "margin": null,
      "max_height": null,
      "max_width": null,
      "min_height": null,
      "min_width": null,
      "object_fit": null,
      "object_position": null,
      "order": null,
      "overflow": null,
      "overflow_x": null,
      "overflow_y": null,
      "padding": null,
      "right": null,
      "top": null,
      "visibility": null,
      "width": null
     }
    },
    "b6ee406c5c734c15aa0e66e7ca70058e": {
     "model_module": "@jupyter-widgets/controls",
     "model_module_version": "1.5.0",
     "model_name": "ProgressStyleModel",
     "state": {
      "_model_module": "@jupyter-widgets/controls",
      "_model_module_version": "1.5.0",
      "_model_name": "ProgressStyleModel",
      "_view_count": null,
      "_view_module": "@jupyter-widgets/base",
      "_view_module_version": "1.2.0",
      "_view_name": "StyleView",
      "bar_color": null,
      "description_width": ""
     }
    },
    "b84dc2a7d2914d66bd720bebf8b62acb": {
     "model_module": "@jupyter-widgets/controls",
     "model_module_version": "1.5.0",
     "model_name": "DescriptionStyleModel",
     "state": {
      "_model_module": "@jupyter-widgets/controls",
      "_model_module_version": "1.5.0",
      "_model_name": "DescriptionStyleModel",
      "_view_count": null,
      "_view_module": "@jupyter-widgets/base",
      "_view_module_version": "1.2.0",
      "_view_name": "StyleView",
      "description_width": ""
     }
    },
    "b9d6a6f2a3cc47ec9b913ee7aa4855a4": {
     "model_module": "@jupyter-widgets/controls",
     "model_module_version": "1.5.0",
     "model_name": "DescriptionStyleModel",
     "state": {
      "_model_module": "@jupyter-widgets/controls",
      "_model_module_version": "1.5.0",
      "_model_name": "DescriptionStyleModel",
      "_view_count": null,
      "_view_module": "@jupyter-widgets/base",
      "_view_module_version": "1.2.0",
      "_view_name": "StyleView",
      "description_width": ""
     }
    },
    "ba77ba479d114ddda7a6117f903d3a60": {
     "model_module": "@jupyter-widgets/controls",
     "model_module_version": "1.5.0",
     "model_name": "FloatProgressModel",
     "state": {
      "_dom_classes": [],
      "_model_module": "@jupyter-widgets/controls",
      "_model_module_version": "1.5.0",
      "_model_name": "FloatProgressModel",
      "_view_count": null,
      "_view_module": "@jupyter-widgets/controls",
      "_view_module_version": "1.5.0",
      "_view_name": "ProgressView",
      "bar_style": "success",
      "description": "",
      "description_tooltip": null,
      "layout": "IPY_MODEL_db2815ff284a4118921450489d2fec64",
      "max": 3259,
      "min": 0,
      "orientation": "horizontal",
      "style": "IPY_MODEL_f37ece82bfd0433c95616e77cc1393d4",
      "value": 3259
     }
    },
    "bb637a6466724f73a98127216dddea57": {
     "model_module": "@jupyter-widgets/base",
     "model_module_version": "1.2.0",
     "model_name": "LayoutModel",
     "state": {
      "_model_module": "@jupyter-widgets/base",
      "_model_module_version": "1.2.0",
      "_model_name": "LayoutModel",
      "_view_count": null,
      "_view_module": "@jupyter-widgets/base",
      "_view_module_version": "1.2.0",
      "_view_name": "LayoutView",
      "align_content": null,
      "align_items": null,
      "align_self": null,
      "border": null,
      "bottom": null,
      "display": null,
      "flex": null,
      "flex_flow": null,
      "grid_area": null,
      "grid_auto_columns": null,
      "grid_auto_flow": null,
      "grid_auto_rows": null,
      "grid_column": null,
      "grid_gap": null,
      "grid_row": null,
      "grid_template_areas": null,
      "grid_template_columns": null,
      "grid_template_rows": null,
      "height": null,
      "justify_content": null,
      "justify_items": null,
      "left": null,
      "margin": null,
      "max_height": null,
      "max_width": null,
      "min_height": null,
      "min_width": null,
      "object_fit": null,
      "object_position": null,
      "order": null,
      "overflow": null,
      "overflow_x": null,
      "overflow_y": null,
      "padding": null,
      "right": null,
      "top": null,
      "visibility": null,
      "width": null
     }
    },
    "bc5cbe1705ed4db8a6f8fa28336c62a0": {
     "model_module": "@jupyter-widgets/controls",
     "model_module_version": "1.5.0",
     "model_name": "HTMLModel",
     "state": {
      "_dom_classes": [],
      "_model_module": "@jupyter-widgets/controls",
      "_model_module_version": "1.5.0",
      "_model_name": "HTMLModel",
      "_view_count": null,
      "_view_module": "@jupyter-widgets/controls",
      "_view_module_version": "1.5.0",
      "_view_name": "HTMLView",
      "description": "",
      "description_tooltip": null,
      "layout": "IPY_MODEL_bb637a6466724f73a98127216dddea57",
      "placeholder": "​",
      "style": "IPY_MODEL_9a9bbbe093f44b9f85ec12f59cc0cfd3",
      "value": " 3259/3259 [00:00&lt;00:00, 4736.79 examples/s]"
     }
    },
    "bd751410a3c44fb3b7048857c2d71803": {
     "model_module": "@jupyter-widgets/base",
     "model_module_version": "1.2.0",
     "model_name": "LayoutModel",
     "state": {
      "_model_module": "@jupyter-widgets/base",
      "_model_module_version": "1.2.0",
      "_model_name": "LayoutModel",
      "_view_count": null,
      "_view_module": "@jupyter-widgets/base",
      "_view_module_version": "1.2.0",
      "_view_name": "LayoutView",
      "align_content": null,
      "align_items": null,
      "align_self": null,
      "border": null,
      "bottom": null,
      "display": null,
      "flex": null,
      "flex_flow": null,
      "grid_area": null,
      "grid_auto_columns": null,
      "grid_auto_flow": null,
      "grid_auto_rows": null,
      "grid_column": null,
      "grid_gap": null,
      "grid_row": null,
      "grid_template_areas": null,
      "grid_template_columns": null,
      "grid_template_rows": null,
      "height": null,
      "justify_content": null,
      "justify_items": null,
      "left": null,
      "margin": null,
      "max_height": null,
      "max_width": null,
      "min_height": null,
      "min_width": null,
      "object_fit": null,
      "object_position": null,
      "order": null,
      "overflow": null,
      "overflow_x": null,
      "overflow_y": null,
      "padding": null,
      "right": null,
      "top": null,
      "visibility": null,
      "width": null
     }
    },
    "be40935fb5bf49eb884edbbf83c91998": {
     "model_module": "@jupyter-widgets/controls",
     "model_module_version": "1.5.0",
     "model_name": "DescriptionStyleModel",
     "state": {
      "_model_module": "@jupyter-widgets/controls",
      "_model_module_version": "1.5.0",
      "_model_name": "DescriptionStyleModel",
      "_view_count": null,
      "_view_module": "@jupyter-widgets/base",
      "_view_module_version": "1.2.0",
      "_view_name": "StyleView",
      "description_width": ""
     }
    },
    "be8c92678fe144e6a1ae4d49ffb05ba6": {
     "model_module": "@jupyter-widgets/base",
     "model_module_version": "1.2.0",
     "model_name": "LayoutModel",
     "state": {
      "_model_module": "@jupyter-widgets/base",
      "_model_module_version": "1.2.0",
      "_model_name": "LayoutModel",
      "_view_count": null,
      "_view_module": "@jupyter-widgets/base",
      "_view_module_version": "1.2.0",
      "_view_name": "LayoutView",
      "align_content": null,
      "align_items": null,
      "align_self": null,
      "border": null,
      "bottom": null,
      "display": null,
      "flex": null,
      "flex_flow": null,
      "grid_area": null,
      "grid_auto_columns": null,
      "grid_auto_flow": null,
      "grid_auto_rows": null,
      "grid_column": null,
      "grid_gap": null,
      "grid_row": null,
      "grid_template_areas": null,
      "grid_template_columns": null,
      "grid_template_rows": null,
      "height": null,
      "justify_content": null,
      "justify_items": null,
      "left": null,
      "margin": null,
      "max_height": null,
      "max_width": null,
      "min_height": null,
      "min_width": null,
      "object_fit": null,
      "object_position": null,
      "order": null,
      "overflow": null,
      "overflow_x": null,
      "overflow_y": null,
      "padding": null,
      "right": null,
      "top": null,
      "visibility": null,
      "width": null
     }
    },
    "c195dcc26f9546628bf984808835c97c": {
     "model_module": "@jupyter-widgets/base",
     "model_module_version": "1.2.0",
     "model_name": "LayoutModel",
     "state": {
      "_model_module": "@jupyter-widgets/base",
      "_model_module_version": "1.2.0",
      "_model_name": "LayoutModel",
      "_view_count": null,
      "_view_module": "@jupyter-widgets/base",
      "_view_module_version": "1.2.0",
      "_view_name": "LayoutView",
      "align_content": null,
      "align_items": null,
      "align_self": null,
      "border": null,
      "bottom": null,
      "display": null,
      "flex": null,
      "flex_flow": null,
      "grid_area": null,
      "grid_auto_columns": null,
      "grid_auto_flow": null,
      "grid_auto_rows": null,
      "grid_column": null,
      "grid_gap": null,
      "grid_row": null,
      "grid_template_areas": null,
      "grid_template_columns": null,
      "grid_template_rows": null,
      "height": null,
      "justify_content": null,
      "justify_items": null,
      "left": null,
      "margin": null,
      "max_height": null,
      "max_width": null,
      "min_height": null,
      "min_width": null,
      "object_fit": null,
      "object_position": null,
      "order": null,
      "overflow": null,
      "overflow_x": null,
      "overflow_y": null,
      "padding": null,
      "right": null,
      "top": null,
      "visibility": null,
      "width": null
     }
    },
    "c3a1e6ec3b4c4ebeb9b7938e8f28fef5": {
     "model_module": "@jupyter-widgets/controls",
     "model_module_version": "1.5.0",
     "model_name": "HBoxModel",
     "state": {
      "_dom_classes": [],
      "_model_module": "@jupyter-widgets/controls",
      "_model_module_version": "1.5.0",
      "_model_name": "HBoxModel",
      "_view_count": null,
      "_view_module": "@jupyter-widgets/controls",
      "_view_module_version": "1.5.0",
      "_view_name": "HBoxView",
      "box_style": "",
      "children": [
       "IPY_MODEL_1aeaa3f5110c45338afffed3d1cb2eaf",
       "IPY_MODEL_85ba83331e35435c97f1cb287fd539ce",
       "IPY_MODEL_4ceca63b8e4646dc8894253fb976622f"
      ],
      "layout": "IPY_MODEL_bd751410a3c44fb3b7048857c2d71803"
     }
    },
    "c46a125f81154656a3307723093765c7": {
     "model_module": "@jupyter-widgets/controls",
     "model_module_version": "1.5.0",
     "model_name": "HBoxModel",
     "state": {
      "_dom_classes": [],
      "_model_module": "@jupyter-widgets/controls",
      "_model_module_version": "1.5.0",
      "_model_name": "HBoxModel",
      "_view_count": null,
      "_view_module": "@jupyter-widgets/controls",
      "_view_module_version": "1.5.0",
      "_view_name": "HBoxView",
      "box_style": "",
      "children": [
       "IPY_MODEL_d50fefdda3ae47adb437c22aa2c3d63f",
       "IPY_MODEL_ba77ba479d114ddda7a6117f903d3a60",
       "IPY_MODEL_75db8f544a38474091e306a23ff2deee"
      ],
      "layout": "IPY_MODEL_87a1973ae738497fa537fd1f2d111544"
     }
    },
    "c542172dc9b24e52919e2949096cee18": {
     "model_module": "@jupyter-widgets/controls",
     "model_module_version": "1.5.0",
     "model_name": "DescriptionStyleModel",
     "state": {
      "_model_module": "@jupyter-widgets/controls",
      "_model_module_version": "1.5.0",
      "_model_name": "DescriptionStyleModel",
      "_view_count": null,
      "_view_module": "@jupyter-widgets/base",
      "_view_module_version": "1.2.0",
      "_view_name": "StyleView",
      "description_width": ""
     }
    },
    "c6122954b12342bd93ea2136b2dd9267": {
     "model_module": "@jupyter-widgets/base",
     "model_module_version": "1.2.0",
     "model_name": "LayoutModel",
     "state": {
      "_model_module": "@jupyter-widgets/base",
      "_model_module_version": "1.2.0",
      "_model_name": "LayoutModel",
      "_view_count": null,
      "_view_module": "@jupyter-widgets/base",
      "_view_module_version": "1.2.0",
      "_view_name": "LayoutView",
      "align_content": null,
      "align_items": null,
      "align_self": null,
      "border": null,
      "bottom": null,
      "display": null,
      "flex": null,
      "flex_flow": null,
      "grid_area": null,
      "grid_auto_columns": null,
      "grid_auto_flow": null,
      "grid_auto_rows": null,
      "grid_column": null,
      "grid_gap": null,
      "grid_row": null,
      "grid_template_areas": null,
      "grid_template_columns": null,
      "grid_template_rows": null,
      "height": null,
      "justify_content": null,
      "justify_items": null,
      "left": null,
      "margin": null,
      "max_height": null,
      "max_width": null,
      "min_height": null,
      "min_width": null,
      "object_fit": null,
      "object_position": null,
      "order": null,
      "overflow": null,
      "overflow_x": null,
      "overflow_y": null,
      "padding": null,
      "right": null,
      "top": null,
      "visibility": null,
      "width": null
     }
    },
    "c9777dffde6143d0bed4911dcafbda73": {
     "model_module": "@jupyter-widgets/controls",
     "model_module_version": "1.5.0",
     "model_name": "ButtonModel",
     "state": {
      "_dom_classes": [],
      "_model_module": "@jupyter-widgets/controls",
      "_model_module_version": "1.5.0",
      "_model_name": "ButtonModel",
      "_view_count": null,
      "_view_module": "@jupyter-widgets/controls",
      "_view_module_version": "1.5.0",
      "_view_name": "ButtonView",
      "button_style": "",
      "description": "Login",
      "disabled": false,
      "icon": "",
      "layout": "IPY_MODEL_04b130c7c43a40bdbed5dab505d8a46c",
      "style": "IPY_MODEL_7d4560eddf2f41df93aa354abf9cf0fa",
      "tooltip": ""
     }
    },
    "cb15f8ef1ae84807b04ad4d5099b7cb6": {
     "model_module": "@jupyter-widgets/base",
     "model_module_version": "1.2.0",
     "model_name": "LayoutModel",
     "state": {
      "_model_module": "@jupyter-widgets/base",
      "_model_module_version": "1.2.0",
      "_model_name": "LayoutModel",
      "_view_count": null,
      "_view_module": "@jupyter-widgets/base",
      "_view_module_version": "1.2.0",
      "_view_name": "LayoutView",
      "align_content": null,
      "align_items": "center",
      "align_self": null,
      "border": null,
      "bottom": null,
      "display": "flex",
      "flex": null,
      "flex_flow": "column",
      "grid_area": null,
      "grid_auto_columns": null,
      "grid_auto_flow": null,
      "grid_auto_rows": null,
      "grid_column": null,
      "grid_gap": null,
      "grid_row": null,
      "grid_template_areas": null,
      "grid_template_columns": null,
      "grid_template_rows": null,
      "height": null,
      "justify_content": null,
      "justify_items": null,
      "left": null,
      "margin": null,
      "max_height": null,
      "max_width": null,
      "min_height": null,
      "min_width": null,
      "object_fit": null,
      "object_position": null,
      "order": null,
      "overflow": null,
      "overflow_x": null,
      "overflow_y": null,
      "padding": null,
      "right": null,
      "top": null,
      "visibility": null,
      "width": "50%"
     }
    },
    "cb890b96f3bc4ac3b6536d1223b75d58": {
     "model_module": "@jupyter-widgets/controls",
     "model_module_version": "1.5.0",
     "model_name": "DescriptionStyleModel",
     "state": {
      "_model_module": "@jupyter-widgets/controls",
      "_model_module_version": "1.5.0",
      "_model_name": "DescriptionStyleModel",
      "_view_count": null,
      "_view_module": "@jupyter-widgets/base",
      "_view_module_version": "1.2.0",
      "_view_name": "StyleView",
      "description_width": ""
     }
    },
    "cd5d5f2d4f4b4eb8b94e118497c6d275": {
     "model_module": "@jupyter-widgets/controls",
     "model_module_version": "1.5.0",
     "model_name": "HTMLModel",
     "state": {
      "_dom_classes": [],
      "_model_module": "@jupyter-widgets/controls",
      "_model_module_version": "1.5.0",
      "_model_name": "HTMLModel",
      "_view_count": null,
      "_view_module": "@jupyter-widgets/controls",
      "_view_module_version": "1.5.0",
      "_view_name": "HTMLView",
      "description": "",
      "description_tooltip": null,
      "layout": "IPY_MODEL_78a893919aba44ccbafef929a9018601",
      "placeholder": "​",
      "style": "IPY_MODEL_b84dc2a7d2914d66bd720bebf8b62acb",
      "value": " 2/2 [00:12&lt;00:00,  5.90s/it]"
     }
    },
    "ce8ec68c6cca4829ae722eb4bb52b1cd": {
     "model_module": "@jupyter-widgets/controls",
     "model_module_version": "1.5.0",
     "model_name": "DescriptionStyleModel",
     "state": {
      "_model_module": "@jupyter-widgets/controls",
      "_model_module_version": "1.5.0",
      "_model_name": "DescriptionStyleModel",
      "_view_count": null,
      "_view_module": "@jupyter-widgets/base",
      "_view_module_version": "1.2.0",
      "_view_name": "StyleView",
      "description_width": ""
     }
    },
    "d023889acf4240d782432390d1ab86cd": {
     "model_module": "@jupyter-widgets/base",
     "model_module_version": "1.2.0",
     "model_name": "LayoutModel",
     "state": {
      "_model_module": "@jupyter-widgets/base",
      "_model_module_version": "1.2.0",
      "_model_name": "LayoutModel",
      "_view_count": null,
      "_view_module": "@jupyter-widgets/base",
      "_view_module_version": "1.2.0",
      "_view_name": "LayoutView",
      "align_content": null,
      "align_items": null,
      "align_self": null,
      "border": null,
      "bottom": null,
      "display": null,
      "flex": null,
      "flex_flow": null,
      "grid_area": null,
      "grid_auto_columns": null,
      "grid_auto_flow": null,
      "grid_auto_rows": null,
      "grid_column": null,
      "grid_gap": null,
      "grid_row": null,
      "grid_template_areas": null,
      "grid_template_columns": null,
      "grid_template_rows": null,
      "height": null,
      "justify_content": null,
      "justify_items": null,
      "left": null,
      "margin": null,
      "max_height": null,
      "max_width": null,
      "min_height": null,
      "min_width": null,
      "object_fit": null,
      "object_position": null,
      "order": null,
      "overflow": null,
      "overflow_x": null,
      "overflow_y": null,
      "padding": null,
      "right": null,
      "top": null,
      "visibility": null,
      "width": null
     }
    },
    "d0b466a18cfe4f76966037616bdf94ef": {
     "model_module": "@jupyter-widgets/controls",
     "model_module_version": "1.5.0",
     "model_name": "DescriptionStyleModel",
     "state": {
      "_model_module": "@jupyter-widgets/controls",
      "_model_module_version": "1.5.0",
      "_model_name": "DescriptionStyleModel",
      "_view_count": null,
      "_view_module": "@jupyter-widgets/base",
      "_view_module_version": "1.2.0",
      "_view_name": "StyleView",
      "description_width": ""
     }
    },
    "d1645a109dca4121ac7ea7f2ba549b9d": {
     "model_module": "@jupyter-widgets/controls",
     "model_module_version": "1.5.0",
     "model_name": "HTMLModel",
     "state": {
      "_dom_classes": [],
      "_model_module": "@jupyter-widgets/controls",
      "_model_module_version": "1.5.0",
      "_model_name": "HTMLModel",
      "_view_count": null,
      "_view_module": "@jupyter-widgets/controls",
      "_view_module_version": "1.5.0",
      "_view_name": "HTMLView",
      "description": "",
      "description_tooltip": null,
      "layout": "IPY_MODEL_edad980cf71746e5b41835f178a61a30",
      "placeholder": "​",
      "style": "IPY_MODEL_b3720cab402d4f77905e15b1abf085f8",
      "value": "Loading checkpoint shards: 100%"
     }
    },
    "d50fefdda3ae47adb437c22aa2c3d63f": {
     "model_module": "@jupyter-widgets/controls",
     "model_module_version": "1.5.0",
     "model_name": "HTMLModel",
     "state": {
      "_dom_classes": [],
      "_model_module": "@jupyter-widgets/controls",
      "_model_module_version": "1.5.0",
      "_model_name": "HTMLModel",
      "_view_count": null,
      "_view_module": "@jupyter-widgets/controls",
      "_view_module_version": "1.5.0",
      "_view_name": "HTMLView",
      "description": "",
      "description_tooltip": null,
      "layout": "IPY_MODEL_abb2b75c9d8f4d429e52807d3f9b58d5",
      "placeholder": "​",
      "style": "IPY_MODEL_d0b466a18cfe4f76966037616bdf94ef",
      "value": "Map: 100%"
     }
    },
    "d5a7a219972a4c299ef5fe7249518a7d": {
     "model_module": "@jupyter-widgets/base",
     "model_module_version": "1.2.0",
     "model_name": "LayoutModel",
     "state": {
      "_model_module": "@jupyter-widgets/base",
      "_model_module_version": "1.2.0",
      "_model_name": "LayoutModel",
      "_view_count": null,
      "_view_module": "@jupyter-widgets/base",
      "_view_module_version": "1.2.0",
      "_view_name": "LayoutView",
      "align_content": null,
      "align_items": null,
      "align_self": null,
      "border": null,
      "bottom": null,
      "display": null,
      "flex": null,
      "flex_flow": null,
      "grid_area": null,
      "grid_auto_columns": null,
      "grid_auto_flow": null,
      "grid_auto_rows": null,
      "grid_column": null,
      "grid_gap": null,
      "grid_row": null,
      "grid_template_areas": null,
      "grid_template_columns": null,
      "grid_template_rows": null,
      "height": null,
      "justify_content": null,
      "justify_items": null,
      "left": null,
      "margin": null,
      "max_height": null,
      "max_width": null,
      "min_height": null,
      "min_width": null,
      "object_fit": null,
      "object_position": null,
      "order": null,
      "overflow": null,
      "overflow_x": null,
      "overflow_y": null,
      "padding": null,
      "right": null,
      "top": null,
      "visibility": null,
      "width": null
     }
    },
    "db2815ff284a4118921450489d2fec64": {
     "model_module": "@jupyter-widgets/base",
     "model_module_version": "1.2.0",
     "model_name": "LayoutModel",
     "state": {
      "_model_module": "@jupyter-widgets/base",
      "_model_module_version": "1.2.0",
      "_model_name": "LayoutModel",
      "_view_count": null,
      "_view_module": "@jupyter-widgets/base",
      "_view_module_version": "1.2.0",
      "_view_name": "LayoutView",
      "align_content": null,
      "align_items": null,
      "align_self": null,
      "border": null,
      "bottom": null,
      "display": null,
      "flex": null,
      "flex_flow": null,
      "grid_area": null,
      "grid_auto_columns": null,
      "grid_auto_flow": null,
      "grid_auto_rows": null,
      "grid_column": null,
      "grid_gap": null,
      "grid_row": null,
      "grid_template_areas": null,
      "grid_template_columns": null,
      "grid_template_rows": null,
      "height": null,
      "justify_content": null,
      "justify_items": null,
      "left": null,
      "margin": null,
      "max_height": null,
      "max_width": null,
      "min_height": null,
      "min_width": null,
      "object_fit": null,
      "object_position": null,
      "order": null,
      "overflow": null,
      "overflow_x": null,
      "overflow_y": null,
      "padding": null,
      "right": null,
      "top": null,
      "visibility": null,
      "width": null
     }
    },
    "db3d8e087adf4111ac5150b7914aaf6b": {
     "model_module": "@jupyter-widgets/base",
     "model_module_version": "1.2.0",
     "model_name": "LayoutModel",
     "state": {
      "_model_module": "@jupyter-widgets/base",
      "_model_module_version": "1.2.0",
      "_model_name": "LayoutModel",
      "_view_count": null,
      "_view_module": "@jupyter-widgets/base",
      "_view_module_version": "1.2.0",
      "_view_name": "LayoutView",
      "align_content": null,
      "align_items": null,
      "align_self": null,
      "border": null,
      "bottom": null,
      "display": null,
      "flex": null,
      "flex_flow": null,
      "grid_area": null,
      "grid_auto_columns": null,
      "grid_auto_flow": null,
      "grid_auto_rows": null,
      "grid_column": null,
      "grid_gap": null,
      "grid_row": null,
      "grid_template_areas": null,
      "grid_template_columns": null,
      "grid_template_rows": null,
      "height": null,
      "justify_content": null,
      "justify_items": null,
      "left": null,
      "margin": null,
      "max_height": null,
      "max_width": null,
      "min_height": null,
      "min_width": null,
      "object_fit": null,
      "object_position": null,
      "order": null,
      "overflow": null,
      "overflow_x": null,
      "overflow_y": null,
      "padding": null,
      "right": null,
      "top": null,
      "visibility": null,
      "width": null
     }
    },
    "dc003e38a5bf4e91ae698f7f3ecc97e6": {
     "model_module": "@jupyter-widgets/controls",
     "model_module_version": "1.5.0",
     "model_name": "DescriptionStyleModel",
     "state": {
      "_model_module": "@jupyter-widgets/controls",
      "_model_module_version": "1.5.0",
      "_model_name": "DescriptionStyleModel",
      "_view_count": null,
      "_view_module": "@jupyter-widgets/base",
      "_view_module_version": "1.2.0",
      "_view_name": "StyleView",
      "description_width": ""
     }
    },
    "df1990f9e11d4f33aa71cba31ba9f29c": {
     "model_module": "@jupyter-widgets/controls",
     "model_module_version": "1.5.0",
     "model_name": "HTMLModel",
     "state": {
      "_dom_classes": [],
      "_model_module": "@jupyter-widgets/controls",
      "_model_module_version": "1.5.0",
      "_model_name": "HTMLModel",
      "_view_count": null,
      "_view_module": "@jupyter-widgets/controls",
      "_view_module_version": "1.5.0",
      "_view_name": "HTMLView",
      "description": "",
      "description_tooltip": null,
      "layout": "IPY_MODEL_b5adc779444c4335a10d8583e52cb7aa",
      "placeholder": "​",
      "style": "IPY_MODEL_b9d6a6f2a3cc47ec9b913ee7aa4855a4",
      "value": " 2/2 [00:12&lt;00:00,  5.78s/it]"
     }
    },
    "e2b39f3694aa4606a36415abe5a322fe": {
     "model_module": "@jupyter-widgets/base",
     "model_module_version": "1.2.0",
     "model_name": "LayoutModel",
     "state": {
      "_model_module": "@jupyter-widgets/base",
      "_model_module_version": "1.2.0",
      "_model_name": "LayoutModel",
      "_view_count": null,
      "_view_module": "@jupyter-widgets/base",
      "_view_module_version": "1.2.0",
      "_view_name": "LayoutView",
      "align_content": null,
      "align_items": null,
      "align_self": null,
      "border": null,
      "bottom": null,
      "display": null,
      "flex": null,
      "flex_flow": null,
      "grid_area": null,
      "grid_auto_columns": null,
      "grid_auto_flow": null,
      "grid_auto_rows": null,
      "grid_column": null,
      "grid_gap": null,
      "grid_row": null,
      "grid_template_areas": null,
      "grid_template_columns": null,
      "grid_template_rows": null,
      "height": null,
      "justify_content": null,
      "justify_items": null,
      "left": null,
      "margin": null,
      "max_height": null,
      "max_width": null,
      "min_height": null,
      "min_width": null,
      "object_fit": null,
      "object_position": null,
      "order": null,
      "overflow": null,
      "overflow_x": null,
      "overflow_y": null,
      "padding": null,
      "right": null,
      "top": null,
      "visibility": null,
      "width": null
     }
    },
    "e494fde572a3475ebe0c84b50ac1b0d3": {
     "model_module": "@jupyter-widgets/base",
     "model_module_version": "1.2.0",
     "model_name": "LayoutModel",
     "state": {
      "_model_module": "@jupyter-widgets/base",
      "_model_module_version": "1.2.0",
      "_model_name": "LayoutModel",
      "_view_count": null,
      "_view_module": "@jupyter-widgets/base",
      "_view_module_version": "1.2.0",
      "_view_name": "LayoutView",
      "align_content": null,
      "align_items": null,
      "align_self": null,
      "border": null,
      "bottom": null,
      "display": null,
      "flex": null,
      "flex_flow": null,
      "grid_area": null,
      "grid_auto_columns": null,
      "grid_auto_flow": null,
      "grid_auto_rows": null,
      "grid_column": null,
      "grid_gap": null,
      "grid_row": null,
      "grid_template_areas": null,
      "grid_template_columns": null,
      "grid_template_rows": null,
      "height": null,
      "justify_content": null,
      "justify_items": null,
      "left": null,
      "margin": null,
      "max_height": null,
      "max_width": null,
      "min_height": null,
      "min_width": null,
      "object_fit": null,
      "object_position": null,
      "order": null,
      "overflow": null,
      "overflow_x": null,
      "overflow_y": null,
      "padding": null,
      "right": null,
      "top": null,
      "visibility": null,
      "width": null
     }
    },
    "e8be91383673444cb08e95720943728a": {
     "model_module": "@jupyter-widgets/controls",
     "model_module_version": "1.5.0",
     "model_name": "PasswordModel",
     "state": {
      "_dom_classes": [],
      "_model_module": "@jupyter-widgets/controls",
      "_model_module_version": "1.5.0",
      "_model_name": "PasswordModel",
      "_view_count": null,
      "_view_module": "@jupyter-widgets/controls",
      "_view_module_version": "1.5.0",
      "_view_name": "PasswordView",
      "continuous_update": true,
      "description": "Token:",
      "description_tooltip": null,
      "disabled": false,
      "layout": "IPY_MODEL_94f9c0b424f045aa9b5da45d39c29a5a",
      "placeholder": "​",
      "style": "IPY_MODEL_32689241ad554fd8835e694a995b84fe",
      "value": ""
     }
    },
    "ea589855f15642dd917bea3f54913f2f": {
     "model_module": "@jupyter-widgets/controls",
     "model_module_version": "1.5.0",
     "model_name": "HTMLModel",
     "state": {
      "_dom_classes": [],
      "_model_module": "@jupyter-widgets/controls",
      "_model_module_version": "1.5.0",
      "_model_name": "HTMLModel",
      "_view_count": null,
      "_view_module": "@jupyter-widgets/controls",
      "_view_module_version": "1.5.0",
      "_view_name": "HTMLView",
      "description": "",
      "description_tooltip": null,
      "layout": "IPY_MODEL_9b3a46fb2fc2469db31e9ee1a32003e0",
      "placeholder": "​",
      "style": "IPY_MODEL_697d4ae492b74beb94ab32dc8d436c7c",
      "value": "Map: 100%"
     }
    },
    "eb424257d2c043c38017d01154a298aa": {
     "model_module": "@jupyter-widgets/base",
     "model_module_version": "1.2.0",
     "model_name": "LayoutModel",
     "state": {
      "_model_module": "@jupyter-widgets/base",
      "_model_module_version": "1.2.0",
      "_model_name": "LayoutModel",
      "_view_count": null,
      "_view_module": "@jupyter-widgets/base",
      "_view_module_version": "1.2.0",
      "_view_name": "LayoutView",
      "align_content": null,
      "align_items": null,
      "align_self": null,
      "border": null,
      "bottom": null,
      "display": null,
      "flex": null,
      "flex_flow": null,
      "grid_area": null,
      "grid_auto_columns": null,
      "grid_auto_flow": null,
      "grid_auto_rows": null,
      "grid_column": null,
      "grid_gap": null,
      "grid_row": null,
      "grid_template_areas": null,
      "grid_template_columns": null,
      "grid_template_rows": null,
      "height": null,
      "justify_content": null,
      "justify_items": null,
      "left": null,
      "margin": null,
      "max_height": null,
      "max_width": null,
      "min_height": null,
      "min_width": null,
      "object_fit": null,
      "object_position": null,
      "order": null,
      "overflow": null,
      "overflow_x": null,
      "overflow_y": null,
      "padding": null,
      "right": null,
      "top": null,
      "visibility": null,
      "width": null
     }
    },
    "edad980cf71746e5b41835f178a61a30": {
     "model_module": "@jupyter-widgets/base",
     "model_module_version": "1.2.0",
     "model_name": "LayoutModel",
     "state": {
      "_model_module": "@jupyter-widgets/base",
      "_model_module_version": "1.2.0",
      "_model_name": "LayoutModel",
      "_view_count": null,
      "_view_module": "@jupyter-widgets/base",
      "_view_module_version": "1.2.0",
      "_view_name": "LayoutView",
      "align_content": null,
      "align_items": null,
      "align_self": null,
      "border": null,
      "bottom": null,
      "display": null,
      "flex": null,
      "flex_flow": null,
      "grid_area": null,
      "grid_auto_columns": null,
      "grid_auto_flow": null,
      "grid_auto_rows": null,
      "grid_column": null,
      "grid_gap": null,
      "grid_row": null,
      "grid_template_areas": null,
      "grid_template_columns": null,
      "grid_template_rows": null,
      "height": null,
      "justify_content": null,
      "justify_items": null,
      "left": null,
      "margin": null,
      "max_height": null,
      "max_width": null,
      "min_height": null,
      "min_width": null,
      "object_fit": null,
      "object_position": null,
      "order": null,
      "overflow": null,
      "overflow_x": null,
      "overflow_y": null,
      "padding": null,
      "right": null,
      "top": null,
      "visibility": null,
      "width": null
     }
    },
    "efb9d68280204099aee46cfb8cb97271": {
     "model_module": "@jupyter-widgets/controls",
     "model_module_version": "1.5.0",
     "model_name": "FloatProgressModel",
     "state": {
      "_dom_classes": [],
      "_model_module": "@jupyter-widgets/controls",
      "_model_module_version": "1.5.0",
      "_model_name": "FloatProgressModel",
      "_view_count": null,
      "_view_module": "@jupyter-widgets/controls",
      "_view_module_version": "1.5.0",
      "_view_name": "ProgressView",
      "bar_style": "success",
      "description": "",
      "description_tooltip": null,
      "layout": "IPY_MODEL_d023889acf4240d782432390d1ab86cd",
      "max": 7724,
      "min": 0,
      "orientation": "horizontal",
      "style": "IPY_MODEL_736c5ccc58fc4557a10347a6763cac1f",
      "value": 7724
     }
    },
    "f0039e44c2ef43a8b624097762f34a6f": {
     "model_module": "@jupyter-widgets/controls",
     "model_module_version": "1.5.0",
     "model_name": "HBoxModel",
     "state": {
      "_dom_classes": [],
      "_model_module": "@jupyter-widgets/controls",
      "_model_module_version": "1.5.0",
      "_model_name": "HBoxModel",
      "_view_count": null,
      "_view_module": "@jupyter-widgets/controls",
      "_view_module_version": "1.5.0",
      "_view_name": "HBoxView",
      "box_style": "",
      "children": [
       "IPY_MODEL_fda7c296332a4070ad02c1e582b23515",
       "IPY_MODEL_efb9d68280204099aee46cfb8cb97271",
       "IPY_MODEL_98c96e10efd74f18a75fbd58a4942585"
      ],
      "layout": "IPY_MODEL_12a18c95163b4849bbda0545eae8099b"
     }
    },
    "f37ece82bfd0433c95616e77cc1393d4": {
     "model_module": "@jupyter-widgets/controls",
     "model_module_version": "1.5.0",
     "model_name": "ProgressStyleModel",
     "state": {
      "_model_module": "@jupyter-widgets/controls",
      "_model_module_version": "1.5.0",
      "_model_name": "ProgressStyleModel",
      "_view_count": null,
      "_view_module": "@jupyter-widgets/base",
      "_view_module_version": "1.2.0",
      "_view_name": "StyleView",
      "bar_color": null,
      "description_width": ""
     }
    },
    "f3f3199646184cc39616858f08798a38": {
     "model_module": "@jupyter-widgets/base",
     "model_module_version": "1.2.0",
     "model_name": "LayoutModel",
     "state": {
      "_model_module": "@jupyter-widgets/base",
      "_model_module_version": "1.2.0",
      "_model_name": "LayoutModel",
      "_view_count": null,
      "_view_module": "@jupyter-widgets/base",
      "_view_module_version": "1.2.0",
      "_view_name": "LayoutView",
      "align_content": null,
      "align_items": null,
      "align_self": null,
      "border": null,
      "bottom": null,
      "display": null,
      "flex": null,
      "flex_flow": null,
      "grid_area": null,
      "grid_auto_columns": null,
      "grid_auto_flow": null,
      "grid_auto_rows": null,
      "grid_column": null,
      "grid_gap": null,
      "grid_row": null,
      "grid_template_areas": null,
      "grid_template_columns": null,
      "grid_template_rows": null,
      "height": null,
      "justify_content": null,
      "justify_items": null,
      "left": null,
      "margin": null,
      "max_height": null,
      "max_width": null,
      "min_height": null,
      "min_width": null,
      "object_fit": null,
      "object_position": null,
      "order": null,
      "overflow": null,
      "overflow_x": null,
      "overflow_y": null,
      "padding": null,
      "right": null,
      "top": null,
      "visibility": null,
      "width": null
     }
    },
    "f627a8f315fa4623802110b89468c095": {
     "model_module": "@jupyter-widgets/controls",
     "model_module_version": "1.5.0",
     "model_name": "DescriptionStyleModel",
     "state": {
      "_model_module": "@jupyter-widgets/controls",
      "_model_module_version": "1.5.0",
      "_model_name": "DescriptionStyleModel",
      "_view_count": null,
      "_view_module": "@jupyter-widgets/base",
      "_view_module_version": "1.2.0",
      "_view_name": "StyleView",
      "description_width": ""
     }
    },
    "f7e90c419ce5415a993f80a9c3dbbf81": {
     "model_module": "@jupyter-widgets/controls",
     "model_module_version": "1.5.0",
     "model_name": "DescriptionStyleModel",
     "state": {
      "_model_module": "@jupyter-widgets/controls",
      "_model_module_version": "1.5.0",
      "_model_name": "DescriptionStyleModel",
      "_view_count": null,
      "_view_module": "@jupyter-widgets/base",
      "_view_module_version": "1.2.0",
      "_view_name": "StyleView",
      "description_width": ""
     }
    },
    "f849751e40384bd789d0e5bde13f3f3b": {
     "model_module": "@jupyter-widgets/controls",
     "model_module_version": "1.5.0",
     "model_name": "DescriptionStyleModel",
     "state": {
      "_model_module": "@jupyter-widgets/controls",
      "_model_module_version": "1.5.0",
      "_model_name": "DescriptionStyleModel",
      "_view_count": null,
      "_view_module": "@jupyter-widgets/base",
      "_view_module_version": "1.2.0",
      "_view_name": "StyleView",
      "description_width": ""
     }
    },
    "fb37ae4438e64c419b08e90ece65f846": {
     "model_module": "@jupyter-widgets/controls",
     "model_module_version": "1.5.0",
     "model_name": "ProgressStyleModel",
     "state": {
      "_model_module": "@jupyter-widgets/controls",
      "_model_module_version": "1.5.0",
      "_model_name": "ProgressStyleModel",
      "_view_count": null,
      "_view_module": "@jupyter-widgets/base",
      "_view_module_version": "1.2.0",
      "_view_name": "StyleView",
      "bar_color": null,
      "description_width": ""
     }
    },
    "fcba2b1d48ea4643818f55059bd2dfeb": {
     "model_module": "@jupyter-widgets/controls",
     "model_module_version": "1.5.0",
     "model_name": "HBoxModel",
     "state": {
      "_dom_classes": [],
      "_model_module": "@jupyter-widgets/controls",
      "_model_module_version": "1.5.0",
      "_model_name": "HBoxModel",
      "_view_count": null,
      "_view_module": "@jupyter-widgets/controls",
      "_view_module_version": "1.5.0",
      "_view_name": "HBoxView",
      "box_style": "",
      "children": [
       "IPY_MODEL_d1645a109dca4121ac7ea7f2ba549b9d",
       "IPY_MODEL_377f26c2c4f2406d9f5072dcee2a6056",
       "IPY_MODEL_df1990f9e11d4f33aa71cba31ba9f29c"
      ],
      "layout": "IPY_MODEL_8d6d8acdfa3947ee8748f84893da8d26"
     }
    },
    "fda7c296332a4070ad02c1e582b23515": {
     "model_module": "@jupyter-widgets/controls",
     "model_module_version": "1.5.0",
     "model_name": "HTMLModel",
     "state": {
      "_dom_classes": [],
      "_model_module": "@jupyter-widgets/controls",
      "_model_module_version": "1.5.0",
      "_model_name": "HTMLModel",
      "_view_count": null,
      "_view_module": "@jupyter-widgets/controls",
      "_view_module_version": "1.5.0",
      "_view_name": "HTMLView",
      "description": "",
      "description_tooltip": null,
      "layout": "IPY_MODEL_be8c92678fe144e6a1ae4d49ffb05ba6",
      "placeholder": "​",
      "style": "IPY_MODEL_f627a8f315fa4623802110b89468c095",
      "value": "Map: 100%"
     }
    }
   }
  }
 },
 "nbformat": 4,
 "nbformat_minor": 5
}
